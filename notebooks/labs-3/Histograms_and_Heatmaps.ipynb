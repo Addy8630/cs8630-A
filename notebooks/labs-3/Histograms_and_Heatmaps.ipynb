{
 "cells": [
  {
   "cell_type": "markdown",
   "metadata": {},
   "source": [
    "# Module 5 Lab"
   ]
  },
  {
   "cell_type": "markdown",
   "metadata": {},
   "source": [
    "This lab covers plotting histograms, line graphs and heat maps. \n",
    "Histograms and line graphs are useful to understand the trends in data; and heat maps offer more insights when looking for patterns. \n",
    "\n",
    "The motor vehicles theft data used in the notebook are incidents reported in Chicago. \n",
    "It has 3 variables \n",
    "  * _Date_ (incident reported date with time), \n",
    "  * _Latitude_ and _Longitude_ (coordinates where incident occured)."
   ]
  },
  {
   "cell_type": "markdown",
   "metadata": {},
   "source": [
    "We will read the data from a thefts text file in \"/dsa/data/all_datasets/mvt.csv\" into the dataframe called `mvt_data`."
   ]
  },
  {
   "cell_type": "code",
   "execution_count": null,
   "metadata": {},
   "outputs": [],
   "source": [
    "mvt_data=read.csv(\"/dsa/data/all_datasets/mvt.csv\")\n",
    "str(mvt_data)"
   ]
  },
  {
   "cell_type": "markdown",
   "metadata": {},
   "source": [
    "We can see that the variable Date is a factor in original dataset. \n",
    "To make this more useful, we are going to extract the Date, Day-of-Week, and Hour from the Date variable.\n",
    "We do this by converting it to POSIX form to extract date and time from it. \n",
    "To convert the `Date` variable we can use the `strptime` function (string POSIX time) for conversion. \n",
    "Then create a variable \"Day\" to save the weekdays and variable \"Hour\" to save the hours. "
   ]
  },
  {
   "cell_type": "code",
   "execution_count": null,
   "metadata": {},
   "outputs": [],
   "source": [
    "# The format specified should match the input date format to extract respective information.\n",
    "# This converts the Date variable from its string format to a POSIX Date/Time object \n",
    "mvt_data$Date=strptime(mvt_data$Date,format=\"%m/%d/%y %H:%M\")\n",
    "\n",
    "# Then we extract Date / Day / Time parts\n",
    "\n",
    "# To find out the day of week, use weekdays()\n",
    "mvt_data$Day = weekdays(mvt_data$Date)\n",
    "\n",
    "# mvt_data$Date$hour will extract the hour from Date\n",
    "mvt_data$Hour = mvt_data$Date$hour\n",
    "str(mvt_data)"
   ]
  },
  {
   "cell_type": "markdown",
   "metadata": {},
   "source": [
    "**External Reference: **\n",
    "\n",
    "- [POSIXlt](http://www.cyclismo.org/tutorial/R/time.html)\n",
    "- [strptime](http://rfunction.com/archives/1912)\n",
    "\n",
    "\n",
    "#### We can examine a histogram using the R `table()` function."
   ]
  },
  {
   "cell_type": "code",
   "execution_count": null,
   "metadata": {
    "scrolled": true
   },
   "outputs": [],
   "source": [
    "# The distribution of vehicle thefts by day of the week. \n",
    "\n",
    "table(mvt_data$Day)"
   ]
  },
  {
   "cell_type": "markdown",
   "metadata": {},
   "source": [
    "Notice the order above is in alphabetical order.\n",
    "A histogram of `Day` variable will not be in the order of weekdays instead it will be in alphabetical order. \n",
    "If we want to genereate a histogram that is intuitive to us (humans), we will want to have it ordered in chronological order as we are accustomed to for days of the week.\n",
    "We will see how to do this later."
   ]
  },
  {
   "cell_type": "code",
   "execution_count": null,
   "metadata": {},
   "outputs": [],
   "source": [
    "library(ggplot2)\n",
    "\n",
    "        # our data, with a univariate aesthetic\n",
    "ggplot(mvt_data,aes(x=Day))+\n",
    "   geom_bar()+                 # using the bar geometry\n",
    "   xlab(\"Day of the week\") + \n",
    "   ylab(\"Total Motor Vehicle thefts\")"
   ]
  },
  {
   "cell_type": "markdown",
   "metadata": {},
   "source": [
    "## <span style=\"background:yellow\">Your Turn</span>\n",
    "\n",
    " 1. Display a tabular histogram of the motor vehicle thefts by hour.  \n",
    " 2. Then, display the histogram as a bar plot.\n"
   ]
  },
  {
   "cell_type": "code",
   "execution_count": null,
   "metadata": {},
   "outputs": [],
   "source": [
    "# 1) Write your code below this comment\n",
    "# ------------------------------------------------\n",
    "\n"
   ]
  },
  {
   "cell_type": "code",
   "execution_count": null,
   "metadata": {
    "collapsed": true
   },
   "outputs": [],
   "source": [
    "# 2) Write your code below this comment\n",
    "# ------------------------------------------------\n",
    "\n",
    "\n"
   ]
  },
  {
   "cell_type": "markdown",
   "metadata": {},
   "source": [
    "#### Converting Factors to Ordered Factors\n",
    "\n",
    "To fix the day ordering from alphabetic to expected order, \n",
    "we will convert the **Day** to be _ordered factors_. \n",
    "This is a very common need with data sets that have nominal variables that are typically ordered by humans, such as days of the week, months of the year, etc.\n",
    "\n",
    "We can save the **Day** variable as a ordered factor, \n",
    "after which ggplot() will know to plot the days in listed order instead of plotting alphabetically.\n",
    "\n",
    "\n",
    "**Convert** \"Day\" in \"mvt_data\" into a factor with ordered values. \n",
    "First we will define the ordered levels as an list of values."
   ]
  },
  {
   "cell_type": "code",
   "execution_count": null,
   "metadata": {
    "collapsed": true
   },
   "outputs": [],
   "source": [
    "# Assign the levels as\n",
    "# c(\"Sunday\",\"Monday\",\"Tuesday\",\"Wednesday\",\"Thursday\",\"Friday\",\"Saturday\")\n",
    "#   review c() function: http://astrostatistics.psu.edu/su07/R/html/base/html/c.html\n",
    "mvt_data$Day = factor(mvt_data$Day,ordered=TRUE,\n",
    "                      levels=c(\"Sunday\",\"Monday\",\"Tuesday\",\"Wednesday\",\"Thursday\",\"Friday\",\"Saturday\"))"
   ]
  },
  {
   "cell_type": "markdown",
   "metadata": {},
   "source": [
    "Then, we can plot a histogram and get our distribution of automotive thefts over days of the week in a natural order."
   ]
  },
  {
   "cell_type": "code",
   "execution_count": null,
   "metadata": {},
   "outputs": [],
   "source": [
    "library(ggplot2)\n",
    "\n",
    "# Same histogram as above\n",
    "ggplot(mvt_data,aes(x=Day))+\n",
    "   geom_bar()+\n",
    "   xlab(\"Day of the week\") + \n",
    "   ylab(\"Total Motor Vehicle thefts\")"
   ]
  },
  {
   "cell_type": "markdown",
   "metadata": {},
   "source": [
    "While looking at the univariate distribution is interesting, \n",
    "bringing additional information into the picture adds to the information value of the plot."
   ]
  },
  {
   "cell_type": "code",
   "execution_count": null,
   "metadata": {},
   "outputs": [],
   "source": [
    "# Distribution of vehicle thefts by day of the week and hour. \n",
    "# the table tunction allows us to specify two columns of data \n",
    "table(mvt_data$Day,mvt_data$Hour)"
   ]
  },
  {
   "cell_type": "markdown",
   "metadata": {},
   "source": [
    "**NOTE**: Since we have updated the Day to be a factor, the table is now structured to use the ordinal factors.\n",
    "\n",
    "We can actually store this as a dataframe to plot a line graph and heat map later.\n",
    "\n",
    "There are 168 observations one for each hour of the day and day of the week. 24*7=168. \n",
    " * First variable gives day of the week. \n",
    " * Second variable gives hour of the day. \n",
    " * Third variable \"Freq\" gives the total crime count for a particular hour."
   ]
  },
  {
   "cell_type": "code",
   "execution_count": null,
   "metadata": {},
   "outputs": [],
   "source": [
    "# Convert the list output from table() into a dataframe.\n",
    "DayHourCounts = as.data.frame(table(mvt_data$Day,mvt_data$Hour))\n",
    "\n",
    "\n",
    "str(DayHourCounts)"
   ]
  },
  {
   "cell_type": "markdown",
   "metadata": {},
   "source": [
    "**Notice** that `Var1` is _Day-of-Week_ and `Var2` is the _Hour-of-Day_.\n",
    "We will conver the `Var2` into a numerical factor in the next step.\n",
    "\n",
    "\n",
    "**External Reference: **\n",
    "\n",
    "- [as.data.frame](https://www.r-bloggers.com/converting-a-list-to-a-data-frame/)"
   ]
  },
  {
   "cell_type": "code",
   "execution_count": null,
   "metadata": {},
   "outputs": [],
   "source": [
    "# Convert var2 in DayHourCounts into numbers. \n",
    "# Create a new variable called Hour and assign numeric form of var2 to it. \n",
    "DayHourCounts$Hour = as.numeric(as.character(DayHourCounts$Var2))\n",
    "str(DayHourCounts)"
   ]
  },
  {
   "cell_type": "markdown",
   "metadata": {},
   "source": [
    "### Visualizing our table of motor vehicle thefts \n",
    "\n",
    "Plot a line graph with **Hour** and **Freq** from **DayHourCounts** on x axis and on y-axis respectively. Draw a line for each day differentiating each line with a different color. "
   ]
  },
  {
   "cell_type": "code",
   "execution_count": null,
   "metadata": {},
   "outputs": [],
   "source": [
    "## Our aesthetic is now a line:\n",
    "ggplot(DayHourCounts,aes(x=Hour,y=Freq))+\n",
    "   geom_line(aes(group=Var1,color=Var1))"
   ]
  },
  {
   "cell_type": "markdown",
   "metadata": {},
   "source": [
    "In the plot above, we are essentially trying to visualize three elements of data:\n",
    " * Day of Week\n",
    " * Hour of Day\n",
    " * Frequency of thefts\n"
   ]
  },
  {
   "cell_type": "markdown",
   "metadata": {},
   "source": [
    "## <span style=\"background:yellow\">Your Turn</span>\n",
    "\n",
    "Consider the data in the plot above.\n",
    "We see peak in the 8am - 9am time frame.  \n",
    "\n",
    "Answer and elaborate on these questions in the box below:\n",
    "\n",
    "  * Do you feel this data spike at 8-9am is an accurate reflection of when cars are being stolen in Chicago?\n",
    "  * Explain, why or why not.\n"
   ]
  },
  {
   "cell_type": "raw",
   "metadata": {},
   "source": [
    "# Write your answer / analysis below this comment\n",
    "# ------------------------------------------------\n",
    "\n",
    "\n",
    "\n"
   ]
  },
  {
   "cell_type": "markdown",
   "metadata": {},
   "source": [
    "## <span style=\"background:yellow\">Your Turn</span>\n",
    "\n",
    " 1. Convert the plot above to use _Hour-of-Day_ as the trends.\n",
    " 2. Then render the trends as points, not lines.\n",
    "\n"
   ]
  },
  {
   "cell_type": "code",
   "execution_count": null,
   "metadata": {
    "collapsed": true
   },
   "outputs": [],
   "source": [
    "# 1) Write your code below this comment\n",
    "# ------------------------------------------------\n",
    "\n",
    "\n",
    "\n",
    "\n",
    "\n",
    "\n"
   ]
  },
  {
   "cell_type": "code",
   "execution_count": null,
   "metadata": {
    "collapsed": true
   },
   "outputs": [],
   "source": [
    "# 2) Write your code below this comment\n",
    "# ------------------------------------------------\n",
    "\n",
    "\n",
    "\n",
    "\n",
    "\n",
    "\n"
   ]
  },
  {
   "cell_type": "markdown",
   "metadata": {},
   "source": [
    "\n",
    "## Heatmaps\n",
    "\n",
    "Heatmaps provide a visualization of a bivariable frequency or density.\n",
    "Heatmaps encode the frequency or density into a matrix, defined by the two variables which are are discretely partitioned.\n",
    "Ordinal, or ordered nomimal, values are a natural discrete partition of the space. \n",
    "\n",
    "In the case of our current data frame, those variables are _Day-of-Week_ and _Hour-of-Day_.\n",
    "The result, conceptually, is a grid of values, essentially a matrix.\n",
    "In this case, we are using the _Day-of-Week_ and _Hour-of-Day_ as positions, and by using a **tile** geometry we are establishing a gridded rendering.\n",
    "\n"
   ]
  },
  {
   "cell_type": "markdown",
   "metadata": {},
   "source": [
    "Then we can plot a heatmap with **Hour** and **Day** from **DayHourCounts**, on x axis and on y axis, respectively. \n",
    "We will use a gradient to represent the frequency of thefts, setting _white_ for the low color and _red_ as high color to fill the tiles. "
   ]
  },
  {
   "cell_type": "code",
   "execution_count": null,
   "metadata": {},
   "outputs": [],
   "source": [
    "# Again keep the the days in the order of weekdays just like how it is done above.\n",
    "DayHourCounts$Var1 = factor(DayHourCounts$Var1,ordered=TRUE,\n",
    "                            levels=c(\"Sunday\",\"Monday\",\"Tuesday\",\"Wednesday\",\"Thursday\",\"Friday\",\"Saturday\"))\n",
    "\n",
    "\n",
    "ggplot(DayHourCounts,aes(x=Hour,y=Var1))+\n",
    "    geom_tile(aes(fill=Freq)) +                 # Using tiles instead of points\n",
    "    # Note, the we are specifying to fill each tile / rectangle with a gradient from white to red.\n",
    "    scale_fill_gradient(name=\"Total MV thefts\",low=\"white\",high=\"red\") +\n",
    "    theme(axis.title.y=element_blank())\n",
    "\n",
    "# The fill parameter corresponds to the color of rectangles for the total crime for a particular hour. "
   ]
  },
  {
   "cell_type": "markdown",
   "metadata": {},
   "source": [
    "The result is that for each hour and each day there is a rectangle. \n",
    "The color intensity of rectangle tells the relative frequency or the number of crimes happened in that hour on that day. \n",
    "\n",
    "According to the legend, darker red color corresponds to more crimes. \n",
    "So, from the plot it is evident that more crimes occur at midnight during weekends. \n",
    "Also friday nights are when many thefts happen. \n",
    "Color schemes should be changed according to the problem. \n",
    "Different color schemes are helpful in different situations.\n",
    "\n",
    "Please recall the culture meanings of colors, as referenced in Day 2.\n"
   ]
  },
  {
   "cell_type": "markdown",
   "metadata": {},
   "source": [
    "## <span style=\"background:yellow\">Your Turn</span>\n",
    "\n",
    " 1. Pivot the heatmap to be _Days-of-Week_ across the bottom, and _Hour-of-Day_ along the side.\n",
    " 1. Change the plot to be a gray gradient\n"
   ]
  },
  {
   "cell_type": "code",
   "execution_count": null,
   "metadata": {
    "collapsed": true
   },
   "outputs": [],
   "source": [
    "# 1) Write your code below this comment\n",
    "# ------------------------------------------------\n",
    "\n",
    "\n",
    "\n",
    "\n",
    "\n",
    "\n"
   ]
  },
  {
   "cell_type": "code",
   "execution_count": null,
   "metadata": {
    "collapsed": true
   },
   "outputs": [],
   "source": [
    "# 2) Write your code below this comment\n",
    "# ------------------------------------------------\n",
    "\n",
    "\n",
    "\n",
    "\n",
    "\n",
    "\n"
   ]
  },
  {
   "cell_type": "markdown",
   "metadata": {},
   "source": [
    "# SAVE YOUR NOTEBOOK, and then \"File > Close and Halt\""
   ]
  }
 ],
 "metadata": {
  "anaconda-cloud": {},
  "kernelspec": {
   "display_name": "R",
   "language": "R",
   "name": "ir"
  },
  "language_info": {
   "codemirror_mode": "r",
   "file_extension": ".r",
   "mimetype": "text/x-r-source",
   "name": "R",
   "pygments_lexer": "r",
   "version": "3.4.0"
  }
 },
 "nbformat": 4,
 "nbformat_minor": 1
}
