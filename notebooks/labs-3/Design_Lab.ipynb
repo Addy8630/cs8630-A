{
 "cells": [
  {
   "cell_type": "markdown",
   "metadata": {},
   "source": [
    "# Design Principles Lab"
   ]
  },
  {
   "cell_type": "markdown",
   "metadata": {},
   "source": [
    "For this lab, we are going to use the King County housing data."
   ]
  },
  {
   "cell_type": "code",
   "execution_count": null,
   "metadata": {},
   "outputs": [],
   "source": [
    "# Read in the Day CSV file, look at the head\n",
    "house = read.csv(\"/dsa/data/all_datasets/house_sales_in_king_county/kc_house_data.csv\",header=TRUE,sep=\",\")\n",
    "head(house)"
   ]
  },
  {
   "cell_type": "code",
   "execution_count": null,
   "metadata": {},
   "outputs": [],
   "source": [
    "# Another look, including data type\n",
    "str(house)\n"
   ]
  },
  {
   "cell_type": "markdown",
   "metadata": {},
   "source": [
    "Exploring the data and how it is divided on view:"
   ]
  },
  {
   "cell_type": "code",
   "execution_count": null,
   "metadata": {},
   "outputs": [],
   "source": [
    "# Get a frequency count\n",
    "table(house$grade)"
   ]
  },
  {
   "cell_type": "code",
   "execution_count": null,
   "metadata": {},
   "outputs": [],
   "source": [
    "library(dplyr)\n",
    "library(ggplot2)\n",
    "\n",
    "zero <- filter(house, view %in% c(\"0\"))\n",
    "one <- filter(house, view %in% c(\"1\"))\n",
    "two <- filter(house, view %in% c(\"2\"))\n",
    "three <- filter(house, view %in% c(\"3\"))\n",
    "four <- filter(house, view %in% c(\"4\"))\n",
    "ggplot(zero, aes(sqft_living, price, group=factor(grade))) + \n",
    "    geom_point(aes(color=factor(grade)), alpha=0.25)  +\n",
    "#    scale_x_discrete(breaks=c(seq(1960,2020,by=10))) + ylim(30,80) +\n",
    "#    geom_line(aes(color=factor(Country.Name)))+ \n",
    "    ylab(\"Price\") + xlab(\"Square Ft, Living\")\n"
   ]
  },
  {
   "cell_type": "markdown",
   "metadata": {},
   "source": [
    "We see from the scatter plot that zero (0) view houses is a very dense rendering.\n",
    "However, we can still see the effects and replationship between `grades` and the square foot versus price relationship.\n",
    "\n",
    "Lets look at the remaining grades."
   ]
  },
  {
   "cell_type": "code",
   "execution_count": null,
   "metadata": {},
   "outputs": [],
   "source": [
    "library(gridExtra)\n",
    "\n",
    "p1 <- ggplot(one, aes(sqft_living, price, group=factor(grade))) + \n",
    "    geom_point(aes(color=factor(grade)), alpha=0.25)  +\n",
    "#    scale_x_discrete(breaks=c(seq(1960,2020,by=10))) + ylim(30,80) +\n",
    "#    geom_line(aes(color=factor(Country.Name)))+ \n",
    "    ylab(\"Price\") + xlab(\"Square Ft, Living\")\n",
    "\n",
    "p2 <- ggplot(two, aes(sqft_living, price, group=factor(grade))) + \n",
    "    geom_point(aes(color=factor(grade)), alpha=0.25)  +\n",
    "#    scale_x_discrete(breaks=c(seq(1960,2020,by=10))) + ylim(30,80) +\n",
    "#    geom_line(aes(color=factor(Country.Name)))+ \n",
    "    ylab(\"Price\") + xlab(\"Square Ft, Living\")\n",
    "\n",
    "\n",
    "grid.arrange(p1,p2,ncol=1)"
   ]
  },
  {
   "cell_type": "code",
   "execution_count": null,
   "metadata": {},
   "outputs": [],
   "source": [
    "p3 <- ggplot(three, aes(sqft_living, price, group=factor(grade))) + \n",
    "    geom_point(aes(color=factor(grade)), alpha=0.25)  +\n",
    "#    scale_x_discrete(breaks=c(seq(1960,2020,by=10))) + ylim(30,80) +\n",
    "#    geom_line(aes(color=factor(Country.Name)))+ \n",
    "    ylab(\"Price\") + xlab(\"Square Ft, Living\")\n",
    "\n",
    "p4 <- ggplot(four, aes(sqft_living, price, group=factor(grade))) + \n",
    "    geom_point(aes(color=factor(grade)), alpha=0.25)  +\n",
    "#    scale_x_discrete(breaks=c(seq(1960,2020,by=10))) + ylim(30,80) +\n",
    "#    geom_line(aes(color=factor(Country.Name)))+ \n",
    "    ylab(\"Price\") + xlab(\"Square Ft, Living\")\n",
    "\n",
    "grid.arrange(p3, p4,ncol=1)"
   ]
  },
  {
   "cell_type": "markdown",
   "metadata": {},
   "source": [
    "## <span style=\"background:yellow\">Your Turn</span>\n",
    "\n",
    "The below cell pulls the view = 1 houses, then orders the data based on Date.\n",
    "\n",
    "We are going to explore the data to see what we can conclude about home sale prices versus date.\n"
   ]
  },
  {
   "cell_type": "code",
   "execution_count": null,
   "metadata": {
    "scrolled": false
   },
   "outputs": [],
   "source": [
    "# Reduce to view = 1, then sort by date\n",
    "one <- filter(house, view %in% c(\"1\")) %>% arrange(date)\n",
    "head(one)"
   ]
  },
  {
   "cell_type": "markdown",
   "metadata": {},
   "source": [
    "How can we can then render the house prices to evaluate to relationship between price and date?\n",
    "\n",
    "Start with the plot below.  Then enhance the visualization until you maximize the information displayed relating date and home price. Do we see a steady include in home prices?"
   ]
  },
  {
   "cell_type": "code",
   "execution_count": null,
   "metadata": {},
   "outputs": [],
   "source": [
    "# Add and edit code below to improve the \n",
    "#   visualization of the desired data.\n",
    "# ----------------------------------------------------\n",
    "# ggplot(one, \n",
    "#  aes(x=date, y=price, fill=price)) +  \n",
    "#  geom_bar(position='dodge', stat='identity')\n",
    "#\n",
    "\n",
    "# edit this plot, until you get a discernible result\n",
    "# Good Axis, better presentation of data and labels.\n",
    "ggplot(one, \n",
    "  aes(x=date, y=price, fill=price)) +  \n",
    "  geom_bar(position='dodge', stat='identity')"
   ]
  },
  {
   "cell_type": "markdown",
   "metadata": {},
   "source": [
    "#### Please feel free to share your final visualization to the discussion board for Day 3!"
   ]
  },
  {
   "cell_type": "markdown",
   "metadata": {},
   "source": [
    "# SAVE YOUR NOTEBOOK, Select File > Close and Halt"
   ]
  }
 ],
 "metadata": {
  "kernelspec": {
   "display_name": "R",
   "language": "R",
   "name": "ir"
  },
  "language_info": {
   "codemirror_mode": "r",
   "file_extension": ".r",
   "mimetype": "text/x-r-source",
   "name": "R",
   "pygments_lexer": "r",
   "version": "3.4.0"
  }
 },
 "nbformat": 4,
 "nbformat_minor": 1
}
