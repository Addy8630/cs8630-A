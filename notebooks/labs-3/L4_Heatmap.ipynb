{
 "cells": [
  {
   "cell_type": "markdown",
   "metadata": {},
   "source": [
    "## Module 4 Practice - Heat Maps\n",
    "\n",
    "\n",
    "\n",
    "This practice notebook has exercises for plotting heat maps using R and ggplot library.\n"
   ]
  },
  {
   "cell_type": "markdown",
   "metadata": {},
   "source": [
    "\n",
    "A heat map is a 2D graphical representation of data where the individual values contained in a matrix are represented as colors. \n",
    "There are different types of heat maps used in different disciplines, each referred to by the term “heat map”, even though they use different visualization techniques. \n",
    "\n",
    "Heat maps :\n",
    "  * directly map values from a matrix to 2D tiles, or \n",
    "  * visualize densities as shades of colors usually using sequential color palettes, or \n",
    "  * represent data points in scatter plots where too many superposed data points do not give an accurate representation. \n"
   ]
  },
  {
   "cell_type": "markdown",
   "metadata": {},
   "source": [
    "Let's start with the diamonds data set and plot a heat map to mitigate the crowded data points in the plot."
   ]
  },
  {
   "cell_type": "code",
   "execution_count": null,
   "metadata": {},
   "outputs": [],
   "source": [
    "library(ggplot2)\n",
    "data(diamonds)\n",
    "head(diamonds)\n",
    "c <- ggplot(diamonds, aes(carat, price)) + geom_point(alpha=0.5, color=\"lightblue\")\n",
    "c"
   ]
  },
  {
   "cell_type": "markdown",
   "metadata": {},
   "source": [
    "As you can see, the chart is cluttered in the bottom left region.\n",
    "Traditionally, we may use the `alpha` value to apply transparency and let the density build darker.\n",
    "However, sometimes the data is too dense or granual even for that approach.\n",
    "\n",
    "Recall, in a previous lab, when using discrete values for _Hour-of-Day_ and _Day-of-Week_, we used `geom_tiles()`.\n",
    "Below, we will use the `geom_bin2d()` which is good for highly continuous data.\n",
    "This will get us more uniform grid patterns, as opposed by the retangular patterns in the 24x7 layout."
   ]
  },
  {
   "cell_type": "code",
   "execution_count": null,
   "metadata": {},
   "outputs": [],
   "source": [
    "# heat map\n",
    "c <- ggplot(diamonds, aes(carat, price)) + \n",
    "    geom_bin2d(bins=30)   # the 2-dimensional binning of frequency counts\n",
    "c"
   ]
  },
  {
   "cell_type": "markdown",
   "metadata": {},
   "source": [
    "Alternatively, we can generate surfaces as the rendering using the `stat_density_2d`.\n",
    "This is statistical function similar to the probability density function over a histogram in a prior lab."
   ]
  },
  {
   "cell_type": "code",
   "execution_count": null,
   "metadata": {},
   "outputs": [],
   "source": [
    "# Or we can 2D density estimate to the plot\n",
    "c <- ggplot(diamonds, aes(carat, price)) +  \n",
    "    stat_density_2d(aes(fill = ..level..), geom=\"polygon\")  # the stat_ functions are approximations\n",
    "                                                            # representing the data\n",
    "c"
   ]
  },
  {
   "cell_type": "markdown",
   "metadata": {},
   "source": [
    "## <span style=\"background:yellow\">Your Turn</span>\n",
    "\n",
    "Please notice that the generated shape and rendering of the statistical plot does not match up with the expectations, visually, based on the previous heatmap with 2-D boxes.\n",
    "\n",
    "In the cell below, correct the perspective of the above plot.\n",
    "Add a code comment to what you are correcting and why.\n"
   ]
  },
  {
   "cell_type": "code",
   "execution_count": null,
   "metadata": {
    "collapsed": true
   },
   "outputs": [],
   "source": [
    "# Add your code below this comment\n",
    "# --------------------------------\n",
    "\n",
    "\n",
    "\n",
    "\n",
    "\n",
    "\n",
    "\n"
   ]
  },
  {
   "cell_type": "markdown",
   "metadata": {},
   "source": [
    "---\n",
    "\n",
    "#### New data\n",
    "\n",
    "Let's plot a matrix heat map using NBA basketball statistics data. "
   ]
  },
  {
   "cell_type": "code",
   "execution_count": null,
   "metadata": {},
   "outputs": [],
   "source": [
    "library(RColorBrewer)\n",
    "nba <- read.csv(\"/dsa/data/all_datasets/ppg2008.csv\", sep=\",\")\n",
    "head(nba)"
   ]
  },
  {
   "cell_type": "code",
   "execution_count": null,
   "metadata": {
    "scrolled": false
   },
   "outputs": [],
   "source": [
    "# sort it \n",
    "nba <- nba[order(nba$PTS),]\n",
    "# add names \n",
    "row.names(nba) <- nba$Name\n",
    "nba <- nba[,2:20]\n",
    "# R heat maps can only accept matrix data\n",
    "nba_matrix <- data.matrix(nba)\n",
    "# plot it using the built/default heatmap (http://www.r-graph-gallery.com/215-the-heatmap-function/)\n",
    "\n",
    "nba_heatmap <- heatmap(nba_matrix, Rowv=NA, Colv=NA, col = brewer.pal(9, \"Blues\"), scale=\"column\", margins=c(5,10))"
   ]
  },
  {
   "cell_type": "markdown",
   "metadata": {},
   "source": [
    "## Spatial Heatmap\n",
    "Let's load the familiar Kings county data for house prices. we will lot a heat map to show the distribution of houses between floors and the year in which the house is built. The blue tiles represent larger number of houses built and white tiles represent fewer number of houses built."
   ]
  },
  {
   "cell_type": "code",
   "execution_count": null,
   "metadata": {},
   "outputs": [],
   "source": [
    "kc_house_data = read.csv(\"/dsa/data/all_datasets/house_sales_in_king_county/kc_house_data.csv\")"
   ]
  },
  {
   "cell_type": "markdown",
   "metadata": {},
   "source": [
    "Heat maps are frequently used with **`geospatial maps`**. \n",
    "Let's generate the map for **`Seattle`** and overlay a density heat map on it. \n",
    "\n",
    "get_map() in **`ggmap`** will fetch you the geospatial map of the supplied location. \n",
    "It queries Google Maps, OpenStreetMap, Stamen Maps or Naver Map servers for a map. \n",
    "\n",
    "The location can be an address, longitude/latitude pair (in that order), or left/bottom/right/top bounding box. "
   ]
  },
  {
   "cell_type": "markdown",
   "metadata": {},
   "source": [
    "**External Reference: **\n",
    "  * [ggmap](https://www.rdocumentation.org/packages/ggmap/versions/2.6.1/topics/ggmap)\n",
    "  * [get_map()](https://www.rdocumentation.org/packages/ggmap/versions/2.6.1/topics/get_map)"
   ]
  },
  {
   "cell_type": "code",
   "execution_count": null,
   "metadata": {},
   "outputs": [],
   "source": [
    "table(is.na(kc_house_data$long))"
   ]
  },
  {
   "cell_type": "code",
   "execution_count": null,
   "metadata": {},
   "outputs": [],
   "source": [
    "library(ggmap)\n",
    "kc_map_outline <- get_map(location='Seattle', zoom=11)\n",
    "kc_map <- ggmap(kc_map_outline)\n",
    "kc_map <- kc_map + geom_point(data=kc_house_data, aes(x=long, y=lat), \n",
    "                              inherit.aes=FALSE,color='red', alpha=0.2)\n",
    "kc_map"
   ]
  },
  {
   "cell_type": "markdown",
   "metadata": {},
   "source": [
    "**`geom_density2d`** in below code will draw the 2d contours based on the density of data points. The number of contours around a region is proportional to density of points. **`stat_density2d`** will show the heat based on number of data points. The map is shaded red if the number of data points are more in the region and yellow otherwise. "
   ]
  },
  {
   "cell_type": "markdown",
   "metadata": {},
   "source": [
    "**Rerefence:**\n",
    "\n",
    "- [geom_density2d](https://www.rdocumentation.org/packages/ggplot2/versions/1.0.1/topics/geom_density2d)\n",
    "- [stat_density2d](https://www.rdocumentation.org/packages/ggplot2/versions/1.0.1/topics/stat_density2d)"
   ]
  },
  {
   "cell_type": "code",
   "execution_count": null,
   "metadata": {},
   "outputs": [],
   "source": [
    "ggmap(kc_map_outline) + \n",
    "geom_density2d(data = kc_house_data, aes(x = long, y = lat), size = 0.3) + \n",
    "stat_density2d(data = kc_house_data, aes(x = long, y = lat, fill = ..level.., alpha = ..level..), size = 0.01, bins = 16, geom = \"polygon\") + \n",
    "scale_fill_gradient(low = \"yellow\", high = \"red\") + \n",
    "scale_alpha(range = c(0, 0.3), guide = FALSE)"
   ]
  },
  {
   "cell_type": "markdown",
   "metadata": {},
   "source": [
    "The below plot is a scatter plot where size of the data point indicates the price of the house. \n",
    "By using transparency, we can efficiently visualize super-imposed data points and also approximate a heat map."
   ]
  },
  {
   "cell_type": "code",
   "execution_count": null,
   "metadata": {},
   "outputs": [],
   "source": [
    "circle_scale_amt = 0.000001\n",
    "ggmap(kc_map_outline) + \n",
    "    geom_point(data=kc_house_data, \n",
    "               aes(x=long, y=lat),col=\"orange\",\n",
    "               alpha=0.3, \n",
    "               size=kc_house_data$price*circle_scale_amt) + \n",
    "    scale_size_continuous(range=range(kc_house_data$price)) "
   ]
  },
  {
   "cell_type": "markdown",
   "metadata": {},
   "source": [
    "## <span style=\"background:yellow\">YOUR TURN</span>\n",
    "\n",
    "Center the and zoom the map to Mercer Isand, by adjusting the parameters the get_map function.  \n",
    "Here is the API documentation:\n",
    "\n",
    "```\n",
    "get_map(\n",
    "    location = c(lon = -95.3632715, lat = 29.7632836), \n",
    "    zoom = \"auto\", \n",
    "    scale = \"auto\", \n",
    "    maptype = c(\"terrain\", \"terrain-background\", \"satellite\", \"roadmap\", \"hybrid\", \"toner\", \"watercolor\", \"terrain-labels\", \"terrain-lines\", \"toner-2010\", \"toner-2011\", \"toner-background\", \"toner-hybrid\", \"toner-labels\", \"toner-lines\", \"toner-lite\"), \n",
    "    source = c(\"google\", \"osm\", \"stamen\", \"cloudmade\"), \n",
    "    force = ifelse(source == \"google\", TRUE, TRUE), \n",
    "    messaging = FALSE, \n",
    "    urlonly = FALSE, \n",
    "    filename = \"ggmapTemp\", \n",
    "    crop = TRUE, \n",
    "    color = c(\"color\", \"bw\"), \n",
    "    language = \"en-EN\", \n",
    "    api_key\n",
    " )\n",
    "```\n",
    "\n",
    "Render the last version of the spatial heatmap, with size of the data point indicating the price of the house and using transparency to approximate heatmap.\n",
    "Make the points shades of red."
   ]
  },
  {
   "cell_type": "code",
   "execution_count": null,
   "metadata": {},
   "outputs": [],
   "source": [
    "# A) EDIT the code below this Comment by setting the \n",
    "# correct code into the \"<FIX_ME>\" spots\n",
    "# ---------------------------------------------------\n",
    "library(ggmap)\n",
    "\n",
    "\n",
    "kc_map_outline <- get_map(location=<FIX_ME>, \n",
    "                              zoom=<FIX_ME>)\n",
    "kc_map <- ggmap(kc_map_outline)\n"
   ]
  },
  {
   "cell_type": "code",
   "execution_count": null,
   "metadata": {
    "collapsed": true
   },
   "outputs": [],
   "source": [
    "# B) Add code below this comment to draw onto the map\n",
    "# the points and render\n",
    "# ---------------------------------------------------\n",
    "\n",
    "\n",
    "\n",
    "\n",
    "\n",
    "\n"
   ]
  },
  {
   "cell_type": "markdown",
   "metadata": {},
   "source": [
    "# SAVE YOUR NOTEBOOK, and then File > \"Close and Halt\""
   ]
  }
 ],
 "metadata": {
  "anaconda-cloud": {},
  "kernelspec": {
   "display_name": "R",
   "language": "R",
   "name": "ir"
  },
  "language_info": {
   "codemirror_mode": "r",
   "file_extension": ".r",
   "mimetype": "text/x-r-source",
   "name": "R",
   "pygments_lexer": "r",
   "version": "3.4.0"
  }
 },
 "nbformat": 4,
 "nbformat_minor": 1
}
