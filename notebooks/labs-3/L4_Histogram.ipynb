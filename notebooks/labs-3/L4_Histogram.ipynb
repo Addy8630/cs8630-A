{
 "cells": [
  {
   "cell_type": "markdown",
   "metadata": {},
   "source": [
    "## Module 4 Practice - Histograms\n",
    "\n",
    "This practice notebook has exercises for plotting histograms using R, ggplot, and plot.ly libraries. \n",
    "\n",
    "A histogram is a bar chart where each line (rectangle) represents the count of data items that fall to the corresponding bin in the x axis. \n",
    "\n",
    "In ggplot, histograms can be plotted either by modifying `geom_bar`, or simply by using `geom_histogram()` geometry. \n",
    "\n",
    "We will read a USDA dataset to plot some histogram examples. "
   ]
  },
  {
   "cell_type": "code",
   "execution_count": null,
   "metadata": {},
   "outputs": [],
   "source": [
    "usda_data = read.csv(\"/dsa/data/all_datasets/USDA.csv\")\n",
    "head(usda_data)"
   ]
  },
  {
   "cell_type": "code",
   "execution_count": null,
   "metadata": {},
   "outputs": [],
   "source": [
    "summary(usda_data)"
   ]
  },
  {
   "cell_type": "markdown",
   "metadata": {},
   "source": [
    "#### A little data carpentry!\n",
    "\n",
    "Remove the NA values from Calories variable. "
   ]
  },
  {
   "cell_type": "code",
   "execution_count": null,
   "metadata": {},
   "outputs": [],
   "source": [
    "usda_data=usda_data[!is.na(usda_data$Calories),]\n",
    "summary(usda_data)"
   ]
  },
  {
   "cell_type": "markdown",
   "metadata": {},
   "source": [
    "### Qplot in ggplot\n",
    "\n",
    "Qplot is a convenient wrapper for ggplot to create a number of different types of plots using a consistent calling scheme that is similar to the base graphics capability of R. \n",
    "It is also referred to as **quick plot**. \n",
    "\n",
    "In the below plot, a histogram is plotted using the string **`histogram`** supplied to **`geom`** parameter. \n",
    "`binwidth` tells ggplot to form bins of specified width. \n",
    "With a `binwidth` of 10, each bin in below plot represents a range of calories like (50-59) on x axis, \n",
    "and the data items falling within these ranges are counted and depicted as the frequencies of corresponding bins."
   ]
  },
  {
   "cell_type": "code",
   "execution_count": null,
   "metadata": {},
   "outputs": [],
   "source": [
    "library(ggplot2)\n",
    "qplot(Calories, data=usda_data, geom=\"histogram\",binwidth=10)"
   ]
  },
  {
   "cell_type": "markdown",
   "metadata": {},
   "source": [
    "The **`weight`** aesthetic when used with histograms or bar charts can be used to create weighted histograms and bar charts. Here the height of the bar no longer represents count of observations, but a sum over some other variable."
   ]
  },
  {
   "cell_type": "code",
   "execution_count": null,
   "metadata": {},
   "outputs": [],
   "source": [
    "library(ggplot2)\n",
    "qplot(Calories, data=usda_data, geom=\"histogram\", \n",
    "      weight=Protein, binwidth=10, ylab = \"Protein\") "
   ]
  },
  {
   "cell_type": "markdown",
   "metadata": {},
   "source": [
    "## <span style=\"background:yellow\">Your Turn</span>\n",
    "\n",
    "#### 1) Change the plot above to weight the histogram by `SaturatedFat`\n"
   ]
  },
  {
   "cell_type": "code",
   "execution_count": null,
   "metadata": {
    "collapsed": true
   },
   "outputs": [],
   "source": [
    "# 1) Add your code below this comment\n",
    "# ---------------------------------\n",
    "\n",
    "\n",
    "\n",
    "\n",
    "\n",
    "\n",
    "\n"
   ]
  },
  {
   "cell_type": "markdown",
   "metadata": {},
   "source": [
    "#### 2) Put the two histograms (protein and fat weighted) onto a grid, then provide a comparable analysis of the distribution of calories in the USDA data."
   ]
  },
  {
   "cell_type": "code",
   "execution_count": null,
   "metadata": {
    "collapsed": true
   },
   "outputs": [],
   "source": [
    "# 2) Add your code below this comment\n",
    "# ---------------------------------\n",
    "\n",
    "\n",
    "\n",
    "\n",
    "\n",
    "\n"
   ]
  },
  {
   "cell_type": "raw",
   "metadata": {},
   "source": [
    "# 2) Write your answer / analysis below this comment\n",
    "# -----------------------------------------------\n",
    "\n",
    "\n",
    "\n",
    "\n",
    "\n"
   ]
  },
  {
   "cell_type": "markdown",
   "metadata": {},
   "source": [
    "### Layered Grammar of ggplot\n",
    "\n",
    "We can use the ggplot syntax instead of qplot to create plots that follow the layered grammar convention of ggplot. \n",
    "The histogram can be also plotted like this:"
   ]
  },
  {
   "cell_type": "code",
   "execution_count": null,
   "metadata": {},
   "outputs": [],
   "source": [
    "library(ggplot2)\n",
    "ggplot(usda_data, aes(x=Calories)) + geom_histogram(binwidth=10, fill=\"lightblue\") + ylab(\"Frequency\")\n",
    "    \n"
   ]
  },
  {
   "cell_type": "markdown",
   "metadata": {},
   "source": [
    "**Note**: We altered the color of the histogram by specifying the `color` attribute in the `geom_histogram()` layer.\n",
    "\n",
    "### Density Curve on Histogram\n",
    "\n",
    "A density curve can be plotted on a histogram that represents the probability density function of that variable. \n",
    "Density can be overlayed on histogram with a transparent density plot. \n",
    "The `alpha` value controls the level of transparency as shown in below example. \n",
    "\n",
    "This shows the layered structure of ggplot where two layers (histogram and density) can be plotted on the same plot.  \n",
    "<span style=\"background:yellow\">Note</span>, **..density..** is a derived variable computed by the ggplot library on the fly."
   ]
  },
  {
   "cell_type": "code",
   "execution_count": null,
   "metadata": {},
   "outputs": [],
   "source": [
    "# Histogram with density plot\n",
    "ggplot(usda_data, aes(x=Calories)) + \n",
    " geom_histogram(aes(y=..density..),  # this ..density.. is a derived variable, computed during call to geom_histogram()\n",
    "                colour=\"black\", fill=\"lightblue\", binwidth=10) +\n",
    " geom_density(alpha=.2, fill=\"red\") "
   ]
  },
  {
   "cell_type": "markdown",
   "metadata": {},
   "source": [
    "## <span style=\"background:yellow\">Your Turn</span>\n",
    "\n",
    "#### 3) Provide a side-by-side density histogram of the Protein weighted calories and the Total Fat weighted calories.\n"
   ]
  },
  {
   "cell_type": "code",
   "execution_count": null,
   "metadata": {
    "collapsed": true
   },
   "outputs": [],
   "source": [
    "# 3) Add your code below this comment\n",
    "# ---------------------------------\n",
    "\n",
    "\n",
    "\n",
    "\n",
    "\n",
    "\n"
   ]
  },
  {
   "cell_type": "markdown",
   "metadata": {},
   "source": [
    "### scale_fill_gradient\n",
    "\n",
    "\n",
    "We can use `scale_fill_gradient` to fill bars with colors according to frequency. \n",
    "In the below plot, bar colors that are blue represent items that are most frequent,\n",
    "and tan bars indicate food items that are very sparse in the dataset."
   ]
  },
  {
   "cell_type": "code",
   "execution_count": null,
   "metadata": {},
   "outputs": [],
   "source": [
    "#  Create a plot variable 'p' ... the data is provided, \n",
    "# then the aes, aesthetic, specifies data elements are positioned on the X axis by their Calories attribute/field\n",
    "p <- ggplot(usda_data, aes(x=Calories))\n",
    "\n",
    "# Note the that ..count.. is a variable that is computed on the fly (implicit) \n",
    "# This ..count.. is then used to look up the appropriate color from the scale_fill_gradient\n",
    "p + geom_histogram(aes(fill = ..count..), binwidth=10) +\n",
    "  scale_fill_gradient(\"Count\", low = \"tan\", high = \"blue\")"
   ]
  },
  {
   "cell_type": "markdown",
   "metadata": {},
   "source": [
    "## <span style=\"background:yellow\">Your Turn</span>\n",
    "\n",
    "#### 4) Repeat the above plot using a tan to red.\n"
   ]
  },
  {
   "cell_type": "code",
   "execution_count": null,
   "metadata": {
    "collapsed": true
   },
   "outputs": [],
   "source": [
    "# 4) Add your code below this comment\n",
    "# ---------------------------------\n",
    "\n",
    "\n",
    "\n",
    "\n",
    "\n",
    "\n"
   ]
  },
  {
   "cell_type": "markdown",
   "metadata": {},
   "source": [
    "\n",
    "\n",
    "#### 5) Repeat the above plot using a yellow to red.\n"
   ]
  },
  {
   "cell_type": "code",
   "execution_count": null,
   "metadata": {
    "collapsed": true
   },
   "outputs": [],
   "source": [
    "# 5) Add your code below this comment\n",
    "# ---------------------------------\n",
    "\n",
    "\n",
    "\n",
    "\n",
    "\n",
    "\n"
   ]
  },
  {
   "cell_type": "markdown",
   "metadata": {},
   "source": [
    "\n",
    "#### 6) Which color gradient scheme (tan - blue, tan - red, yellow - red) do you feel most accurately conveys the transition in values?\n"
   ]
  },
  {
   "cell_type": "raw",
   "metadata": {
    "collapsed": true
   },
   "source": [
    "# 6) Add your answer below this comment\n",
    "# ---------------------------------\n",
    "\n",
    "\n",
    "\n",
    "\n",
    "\n",
    "\n"
   ]
  },
  {
   "cell_type": "markdown",
   "metadata": {},
   "source": [
    "\n",
    "#### 7) What effect of the human visual system do you feel is influcing your answer above.\n"
   ]
  },
  {
   "cell_type": "raw",
   "metadata": {
    "collapsed": true
   },
   "source": [
    "# 7) Add your answer below this comment\n",
    "# ---------------------------------\n",
    "\n",
    "\n",
    "\n",
    "\n",
    "\n",
    "\n"
   ]
  },
  {
   "cell_type": "markdown",
   "metadata": {},
   "source": [
    "# SAVE YOUR NOTEBOOK, then File > \"CLose and Halt\""
   ]
  }
 ],
 "metadata": {
  "anaconda-cloud": {},
  "kernelspec": {
   "display_name": "R",
   "language": "R",
   "name": "ir"
  },
  "language_info": {
   "codemirror_mode": "r",
   "file_extension": ".r",
   "mimetype": "text/x-r-source",
   "name": "R",
   "pygments_lexer": "r",
   "version": "3.4.0"
  }
 },
 "nbformat": 4,
 "nbformat_minor": 1
}
