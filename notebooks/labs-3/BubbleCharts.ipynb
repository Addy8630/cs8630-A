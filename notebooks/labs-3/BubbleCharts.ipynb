{
 "cells": [
  {
   "cell_type": "markdown",
   "metadata": {},
   "source": [
    "# Bubble Charts\n",
    "\n",
    "This notebook has exercises for plotting bubble charts using R. \n",
    "\n",
    "A bubble chart is a sepcial type of scatter plot where each point mark is encoded with typically two visual variables (e.g., color and size) to represent two attributes of a data point. \n",
    "In essence, bubble charts are used for plotting 4 dimensions (or features/fields) on a two dimensional plot.\n",
    "Therefore, the four visual variables are:\n",
    "  1. X position\n",
    "  1. Y position\n",
    "  1. size\n",
    "  1. color\n",
    "\n",
    "A famous interactive and animated bubble chart is the Gapminder that you can see and interact [here (external link)](http://gapminder.org/tools). \n",
    "\n",
    "\n",
    "In the below lab, we use a new crime data set which provides some aggregate statistics by state."
   ]
  },
  {
   "cell_type": "code",
   "execution_count": null,
   "metadata": {},
   "outputs": [],
   "source": [
    "library(ggplot2)\n",
    "crime = read.csv(\"/dsa/data/all_datasets/crime.csv\")\n",
    "head(crime)"
   ]
  },
  {
   "cell_type": "code",
   "execution_count": null,
   "metadata": {},
   "outputs": [],
   "source": [
    "summary(crime)"
   ]
  },
  {
   "cell_type": "markdown",
   "metadata": {},
   "source": [
    "## Building from a scatter plot\n",
    "\n",
    "Our first two visual variables are the\n",
    "  1. X = Murder measurement\n",
    "  1. Y = Burglary measurement"
   ]
  },
  {
   "cell_type": "code",
   "execution_count": null,
   "metadata": {},
   "outputs": [],
   "source": [
    "# First create a scatter plot using geom_point\n",
    "                        # Setting the position to be (murder,burglary)\n",
    "(p <- ggplot(crime, aes(murder,burglary)) + geom_point())  # and rendering points.\n"
   ]
  },
  {
   "cell_type": "markdown",
   "metadata": {},
   "source": [
    "## Adding Size\n",
    "\n",
    "We can then add a third visual variable, state population as the **size** of the points."
   ]
  },
  {
   "cell_type": "code",
   "execution_count": null,
   "metadata": {},
   "outputs": [],
   "source": [
    "# Add size visual variable to encode state population\n",
    "(p <- ggplot(crime, aes(murder,burglary,size=population)) + geom_point())\n"
   ]
  },
  {
   "cell_type": "markdown",
   "metadata": {},
   "source": [
    "## Adding a few more visual enhancements\n",
    "\n",
    "  1. Changing color\n",
    "  1. Writing text over the bubble"
   ]
  },
  {
   "cell_type": "code",
   "execution_count": null,
   "metadata": {},
   "outputs": [],
   "source": [
    "# Let's add the state names as labels and rewrite the axis labels\n",
    "#                                                       # Label is the annotation of a data point\n",
    "p <- ggplot(crime, aes(murder,burglary,size=population, label=state))\n",
    "p <- p + geom_point(colour=\"red\", alpha=1/4) + geom_text(size=2)\n",
    "p + xlab(\"Murders per 1,000 population\") + ylab(\"Burglaries per 1,000\")"
   ]
  },
  {
   "cell_type": "markdown",
   "metadata": {},
   "source": [
    "## Color as a visual variable\n",
    "\n",
    "Recall from day 2, color was one of the most basic visual variables.\n",
    "We will set the color of the points to be a measurement, motor_vehicle_theft.\n"
   ]
  },
  {
   "cell_type": "code",
   "execution_count": null,
   "metadata": {},
   "outputs": [],
   "source": [
    "# Now we will add another visual variable: color will encode motor_vehicle_theft\n",
    "p <- ggplot(crime, aes(murder,burglary,size=population, label=state))\n",
    "p <- p + geom_point(aes(colour=motor_vehicle_theft)) + geom_text(size=2)\n",
    "p + xlab(\"Murders per 1,000 population\") + ylab(\"Burglaries per 1,000\")"
   ]
  },
  {
   "cell_type": "markdown",
   "metadata": {},
   "source": [
    "Additionally, we can use color palettes to provide more distinctive colors for our plot."
   ]
  },
  {
   "cell_type": "code",
   "execution_count": null,
   "metadata": {},
   "outputs": [],
   "source": [
    "# and fix the color palette \n",
    "p <- ggplot(crime, aes(murder,burglary,size=population, label=state))\n",
    "p <- p + geom_point(aes(colour=motor_vehicle_theft)) + geom_text(size=2)\n",
    "p <- p + xlab(\"Murders per 1,000 population\") + ylab(\"Burglaries per 1,000\") \n",
    "p + scale_color_continuous(low=\"yellow\", high=\"purple\")\n"
   ]
  },
  {
   "cell_type": "markdown",
   "metadata": {},
   "source": [
    "## <span style=\"background:yellow\">Your Turn</span>\n",
    "\n",
    "Take note of the visual variables in the plot above.\n",
    "A key aspect of the the expressive power of Bubble Charts is the integration of multiple measurements and how humans are able to perceive relationships among the data points.\n",
    "\n",
    "Below, describe some insight the above plot gives you about crime rates."
   ]
  },
  {
   "cell_type": "raw",
   "metadata": {},
   "source": [
    "# Write your answer below this comment\n",
    "# -------------------------------------\n",
    "\n",
    "\n",
    "\n",
    "\n",
    "\n"
   ]
  },
  {
   "cell_type": "markdown",
   "metadata": {},
   "source": [
    "## <span style=\"background:yellow\">Your Turn</span>\n",
    "\n",
    "Modify the crime Bubble Chart to discover something you find interesting, expected, or unexpected.\n",
    "\n",
    "  1. Change around the visual variables, including possibly the measure for X, Y, size, and color.\n",
    "  1. Below, describe the thing you found in step 1."
   ]
  },
  {
   "cell_type": "code",
   "execution_count": null,
   "metadata": {
    "collapsed": true
   },
   "outputs": [],
   "source": [
    "# 1) Write your code below this comment\n",
    "# -------------------------------------\n",
    "\n",
    "\n",
    "\n",
    "\n",
    "\n"
   ]
  },
  {
   "cell_type": "raw",
   "metadata": {},
   "source": [
    "# 2) Write your answer below this comment\n",
    "# -------------------------------------\n",
    "\n",
    "\n",
    "\n",
    "\n",
    "\n"
   ]
  },
  {
   "cell_type": "markdown",
   "metadata": {},
   "source": [
    "### Let's do a similar plot with air quality data.\n",
    "\n",
    "The airquality data is built into R environments, as are various other data sets (e.g., Iris data).\n",
    "The `data()` function loads one of these well known, learning data sets.\n",
    "\n",
    "All the data sets are described here:\n",
    "  *  https://r.org/R-manual/R-devel/library/datasets/html/00Index.html\n",
    "     * [Local Mirror](/static/mirror_sites/r.org/R-manual/R-devel/library/datasets/html/00Index.html)\n",
    "  \n",
    "**Air Quality**:\n",
    "```\n",
    "Description\n",
    "\n",
    "Daily air quality measurements in New York, May to September 1973.\n",
    "Usage\n",
    "\n",
    "airquality\n",
    "\n",
    "Format\n",
    "\n",
    "A data frame with 154 observations on 6 variables.\n",
    "[,1] \tOzone \tnumeric \tOzone (ppb)\n",
    "[,2] \tSolar.R \tnumeric \tSolar R (lang)\n",
    "[,3] \tWind \tnumeric \tWind (mph)\n",
    "[,4] \tTemp \tnumeric \tTemperature (degrees F)\n",
    "[,5] \tMonth \tnumeric \tMonth (1--12)\n",
    "[,6] \tDay \tnumeric \tDay of month (1--31)\n",
    "```\n",
    "\n",
    "In the below code, we will load the data set and do a little carpentry."
   ]
  },
  {
   "cell_type": "code",
   "execution_count": null,
   "metadata": {},
   "outputs": [],
   "source": [
    "library(datasets)\n",
    "data(airquality)\n",
    "head(airquality)\n",
    "# get only the three months and create a month label variable\n",
    "aq_trim <- airquality[which(airquality$Month == 7 | airquality$Month == 8 | airquality$Month == 9), ]\n",
    "aq_trim$Month <- factor(aq_trim$Month, labels = c(\"July\", \"August\", \"September\"))"
   ]
  },
  {
   "cell_type": "code",
   "execution_count": null,
   "metadata": {
    "scrolled": false
   },
   "outputs": [],
   "source": [
    "#Let's start with basic scatter plot \n",
    "pa <- ggplot(aq_trim, aes(x = Day, y = Ozone)) + geom_point()\n",
    "pa"
   ]
  },
  {
   "cell_type": "code",
   "execution_count": null,
   "metadata": {
    "scrolled": false
   },
   "outputs": [],
   "source": [
    "#Let's encode wind by size channel \n",
    "pa <- ggplot(aq_trim, aes(x = Day, y = Ozone, size = Wind)) + geom_point()\n",
    "pa"
   ]
  },
  {
   "cell_type": "code",
   "execution_count": null,
   "metadata": {},
   "outputs": [],
   "source": [
    "# Fix the axis \n",
    "pa + scale_x_continuous(breaks = seq(1, 31, 5))"
   ]
  },
  {
   "cell_type": "code",
   "execution_count": null,
   "metadata": {},
   "outputs": [],
   "source": [
    "# add title and color and change shape to circle \n",
    "pa <- ggplot(aq_trim, aes(x = Day, y = Ozone, size = Wind)) +\n",
    "        geom_point(shape = 21, colour = \"mediumvioletred\",\n",
    "                   fill = \"springgreen\") +\n",
    "        ggtitle(\"Air Quality in New York by Day\") +\n",
    "        labs(x = \"Day of the month\", y = \"Ozone (ppb)\") +\n",
    "        scale_x_continuous(breaks = seq(1, 31, 5))\n",
    "pa"
   ]
  },
  {
   "cell_type": "code",
   "execution_count": null,
   "metadata": {},
   "outputs": [],
   "source": [
    "# encode temparature by color variable \n",
    "pa <- ggplot(aq_trim, aes(x = Day, y = Ozone, size = Wind, fill = Temp)) +\n",
    "        geom_point(shape = 21) +\n",
    "        ggtitle(\"Air Quality in New York by Day\") +\n",
    "        labs(x = \"Day of the month\", y = \"Ozone (ppb)\") +\n",
    "        scale_x_continuous(breaks = seq(1, 31, 5))\n",
    "pa"
   ]
  },
  {
   "cell_type": "code",
   "execution_count": null,
   "metadata": {},
   "outputs": [],
   "source": [
    "# and change the color scheme\n",
    "pa + scale_fill_continuous(low = \"plum1\", high = \"purple4\")"
   ]
  },
  {
   "cell_type": "code",
   "execution_count": null,
   "metadata": {
    "scrolled": false
   },
   "outputs": [],
   "source": [
    "# we can also color w.r.t. month which is categorical \n",
    "pa <- ggplot(aq_trim, aes(x = Day, y = Ozone, size = Wind, fill = Month)) +\n",
    "        geom_point(shape = 21) +\n",
    "        ggtitle(\"Air Quality in New York by Day\") +\n",
    "        labs(x = \"Day of the month\", y = \"Ozone (ppb)\") +\n",
    "        scale_x_continuous(breaks = seq(1, 31, 5))\n",
    "pa"
   ]
  },
  {
   "cell_type": "markdown",
   "metadata": {},
   "source": [
    "## <span style=\"background:yellow\">Your Turn</span>\n",
    "\n",
    "Modify the Air Quality Bubble Chart to use the Ozone as the size or color.\n",
    "Change around the visual variables, including possibly the measure for X, Y, size, and color.\n",
    "\n",
    "  1. Produce two different visualizations, A) and B)\n",
    "  1. Compare / Contrast the information conveyed in those two visualiziations."
   ]
  },
  {
   "cell_type": "code",
   "execution_count": null,
   "metadata": {
    "collapsed": true
   },
   "outputs": [],
   "source": [
    "# 1.A) Write your code below this comment\n",
    "# -------------------------------------\n",
    "\n",
    "\n",
    "\n",
    "\n",
    "\n"
   ]
  },
  {
   "cell_type": "code",
   "execution_count": null,
   "metadata": {
    "collapsed": true
   },
   "outputs": [],
   "source": [
    "# 1.B) Write your code below this comment\n",
    "# -------------------------------------\n",
    "\n",
    "\n",
    "\n",
    "\n",
    "\n"
   ]
  },
  {
   "cell_type": "raw",
   "metadata": {},
   "source": [
    "# 2) Write your observations below this comment\n",
    "# -------------------------------------\n",
    "\n",
    "\n",
    "\n",
    "\n",
    "\n"
   ]
  },
  {
   "cell_type": "markdown",
   "metadata": {},
   "source": [
    "# SAVE YOUR NOTEBOOK, then File > \"Close and Halt\""
   ]
  }
 ],
 "metadata": {
  "anaconda-cloud": {},
  "kernelspec": {
   "display_name": "R",
   "language": "R",
   "name": "ir"
  },
  "language_info": {
   "codemirror_mode": "r",
   "file_extension": ".r",
   "mimetype": "text/x-r-source",
   "name": "R",
   "pygments_lexer": "r",
   "version": "3.4.0"
  }
 },
 "nbformat": 4,
 "nbformat_minor": 1
}
