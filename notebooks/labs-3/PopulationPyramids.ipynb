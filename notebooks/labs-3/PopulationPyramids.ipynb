{
 "cells": [
  {
   "cell_type": "markdown",
   "metadata": {},
   "source": [
    "# Population Pyramid\n",
    "\n",
    "Population pyramids provide a graphical comparison of two histograms, where each side of the pyramid is one of a two-factor divsion of a data set.\n",
    "It usually consists of two back-to-back histograms, with the population plotted on the X axis and age on the Y axis.\n",
    "The most common division is the Male and Female partitioning.\n",
    "Males are conventionally shown on the left and females on the right, measured in frequency or density (%) of population.\n",
    "\n",
    "![LibyaPopulation2011](../images/LibyaPopulation2011.jpg)\n",
    "  * By U.S. Census Bureau. - Based on data provided by the U.S. Census Bureau.Originally uploaded to en.wikipedia by Mokkan88 in February 2011 (file log)., Public Domain, https://commons.wikimedia.org/w/index.php?curid=14032177\n",
    "\n",
    "In the example above, we see population histograms for Libya in 2011.\n",
    "Another name for this plot is an _age pyramid_, as the buckets are typically age ranges.\n",
    "\n",
    "Often, the result of these back-to-back histograms form a pyramid shape, particulary when the population is growing. \n",
    "Population pyramids are often viewed as the most effective way to graphically depict the age and sex distribution of a population, partly because of the very clear image these pyramids represent."
   ]
  },
  {
   "cell_type": "code",
   "execution_count": null,
   "metadata": {},
   "outputs": [],
   "source": [
    "# Generating random, fake data for fun\n",
    "\n",
    "set.seed(1)  # Changing or commenting out the random seed value will change the plot.\n",
    "df0 <- data.frame(Age = factor(rep(x = 1:10, times = 2)), \n",
    "                  Gender = rep(x = c(\"Female\", \"Male\"), each = 10),\n",
    "                  Population = sample(x = 1:100, size = 20))\n",
    "\n",
    "head(df0)\n",
    "#   Age Gender Population\n",
    "# 1   1 Female         27\n",
    "# 2   2 Female         37\n",
    "# 3   3 Female         57\n",
    "# 4   4 Female         89\n",
    "# 5   5 Female         20\n",
    "# 6   6 Female         86\n",
    "\n",
    "library(\"ggplot2\")\n",
    "ggplot(data = df0, aes(x = Age, y = Population, fill = Gender)) +\n",
    "  geom_bar(data = subset(df0, Gender==\"Female\"),\n",
    "           stat = \"identity\") +\n",
    "  geom_bar(data = subset(df0, Gender==\"Male\"),\n",
    "           stat = \"identity\",\n",
    "           position = \"identity\",\n",
    "           mapping = aes(y = -Population)) +\n",
    "  scale_y_continuous(labels = abs) +\n",
    "  coord_flip()\n",
    "\n",
    "## NOTE: The plot gets two layers... both geom_bar.  One uses y= negative population.\n",
    "## NOTE:: The last part pivots the plot to change Age into the Y axis, despite starting with it as the X"
   ]
  },
  {
   "cell_type": "markdown",
   "metadata": {
    "collapsed": true
   },
   "source": [
    "The following general types characterize the fertility and mortality rates of a country.\n",
    "\n",
    "   * Source: [Population Pyramids - Oregon State University](http://www.fsl.orst.edu/pnwerc/wrb/Atlas_web_compressed/5.Human_Populations/5h.pyramids_web.pdf)\n",
    "\n",
    "#### \"Expanding\" pyramid\n",
    "\n",
    "A population pyramid that is very wide at the younger ages, characteristic of countries with high birth rate and low life expectancy.\n",
    "\n",
    "#### \"Stationary\" pyramid\n",
    "\n",
    "A population pyramid has roughly equal numbers of people in most age categories, with tapering for older ages. Countries with relatively low constant birth rates and high life quality exhibit a stationary pyramid.\n",
    "\n",
    "\n",
    "#### \"Constracting\" pyramid\n",
    "A population pyramid that is narrowed at the bottom. The population is generally older on average, as the country has long life expectancy, a low death rate, but also a low birth rate. \n",
    "This pyramid is becoming more common, especially when immigrants are factored out, and is a typical pattern for a very developed country, a high level of education, easy access to and incentive to use birth control, good health care, and few negative environmental factors.\n",
    "\n",
    "![pop_pyr_variants](../images/pop_pyr_variants.jpg)"
   ]
  },
  {
   "cell_type": "markdown",
   "metadata": {
    "collapsed": true
   },
   "source": [
    "### World Population Pyramid\n",
    "\n",
    "![world_pyramid](../images/world_pyramid_0.jpg)"
   ]
  }
 ],
 "metadata": {
  "kernelspec": {
   "display_name": "R",
   "language": "R",
   "name": "ir"
  },
  "language_info": {
   "codemirror_mode": "r",
   "file_extension": ".r",
   "mimetype": "text/x-r-source",
   "name": "R",
   "pygments_lexer": "r",
   "version": "3.4.0"
  }
 },
 "nbformat": 4,
 "nbformat_minor": 1
}
