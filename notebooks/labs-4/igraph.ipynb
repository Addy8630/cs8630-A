{
 "cells": [
  {
   "cell_type": "markdown",
   "metadata": {},
   "source": [
    "## Getting to Know iGraph\n",
    "\n",
    "**`igraph`** is a sophisticated library for drawing networks, and social networks especially. \n",
    "Here is an example of using igraph to visualize question elicitation in an online discussion forum. "
   ]
  },
  {
   "cell_type": "code",
   "execution_count": null,
   "metadata": {},
   "outputs": [],
   "source": [
    "## load libraries. igraph and dplyr\n",
    "require('igraph')\n",
    "require('dplyr')"
   ]
  },
  {
   "cell_type": "markdown",
   "metadata": {},
   "source": [
    "## Read the data\n",
    "\n",
    "In this file, we have removed all the nodes from our prior example which are not question elicitation. \n",
    "We then calculate a synthetic variable we call \"socratic rank\", after Socrates, whose method of instruction was question focused.\n",
    "\n",
    "To obtain this list of question focused interactions, we used computational linguistic strategies. \n",
    "Computational linguistics are covered in other parts of the Data Science curriculum. "
   ]
  },
  {
   "cell_type": "code",
   "execution_count": null,
   "metadata": {},
   "outputs": [],
   "source": [
    "mydata = read.csv(\"/dsa/data/all_datasets/netdata/SocraticRank/mdl_forum_posts_scrubbed_snadata_question_info.csv\")\n",
    "mydata$isQuestion = mydata$message_q_mark == 1;\n",
    "\n",
    "graphData = mydata[,c(\"userid_from\", \"userid_to\", \"isQuestion\")]\n",
    "colnames(graphData) = c(\"from\", \"to\", \"question\")\n",
    "\n",
    "# filter the data to only include replies that have questions\n",
    "graphData = graphData[graphData$question, ]"
   ]
  },
  {
   "cell_type": "markdown",
   "metadata": {},
   "source": [
    "### Generate Graphs\n"
   ]
  },
  {
   "cell_type": "code",
   "execution_count": null,
   "metadata": {},
   "outputs": [],
   "source": [
    "# find all the unique interaction counts\n",
    "# you can learn more about how these functions work by\n",
    "# looking into dplyr \n",
    "# https://cran.rstudio.com/web/packages/dplyr/vignettes/introduction.html \n",
    "\n",
    "graphData = graphData %>% group_by(from, to) %>% summarise(count=n())\n",
    "\n",
    "# remove all replies to oneself\n",
    "graphData[graphData$from == graphData$to,]$count = 0\n",
    "graphData = graphData[graphData$count != 0,]\n",
    "\n",
    "# building igraph \n",
    "mygraph = graph.data.frame(graphData)\n",
    "\n",
    "# use page rank, which is the original \n",
    "# algorithm that google used to beat the \n",
    "# results of other search engines\n",
    "# This says, basically, that the more \n",
    "# connnected you are, the higher your rank\n",
    "pranks = page.rank(mygraph, weights=graphData$count)$vector\n",
    "\n",
    "# People in different subnetworks or courses\n",
    "# are likely to have radically different numbers of \n",
    "# edges, deriving in part from the size of the \n",
    "# course. \n",
    "\n",
    "\n",
    "# Therefore, we normalize page rank as z-score\n",
    "V(mygraph)$rank = (pranks - mean(pranks)) / sd(pranks) \n",
    "\n",
    "# get a subgraph of the top thought leaders\n",
    "highRankGraph = induced.subgraph(mygraph, which(V(mygraph)$rank > 5))\n",
    "\n",
    "# plot the graph\n",
    "layout = layout.circle(highRankGraph)\n",
    "plot(highRankGraph, \n",
    "     main=\"Top Question Elictors on Moodle (z-scores of SocraticRank > 5)\", \n",
    "     sub=\"Node Size = SocraticRank (PageRank); Edge Value = # of Reply Posts\", \n",
    "     edge.label = E(highRankGraph)$count, \n",
    "     edge.arrow.size = .25, \n",
    "     edge.label.cex = .5, \n",
    "     vertex.size = 5 * (V(highRankGraph)$rank / max(V(highRankGraph)$rank)), \n",
    "     vertex.label = V(highRankGraph)$name, \n",
    "     vertex.label.cex = .5, \n",
    "     vertex.label.dist = .25, \n",
    "     layout=layout)"
   ]
  },
  {
   "cell_type": "markdown",
   "metadata": {},
   "source": [
    "## Interpreting The Resulting Graph\n",
    " - Can you easily identify the individuals with the most socratic rank?\n",
    " - How does the graph compare to other possible layouts? [Layout List](http://igraph.org/r/doc/#L)\n",
    "     - what does a fruchterman.reingold layout show you that the circle does not?"
   ]
  },
  {
   "cell_type": "code",
   "execution_count": null,
   "metadata": {},
   "outputs": [],
   "source": [
    "layout = layout.fruchterman.reingold(highRankGraph)\n",
    "plot(highRankGraph, \n",
    "     main=\"Top Question Elictors on Moodle (z-scores of SocraticRank > 5)\", \n",
    "     sub=\"Node Size = SocraticRank (PageRank); Edge Value = # of Reply Posts\", \n",
    "     edge.label = E(highRankGraph)$count, \n",
    "     edge.arrow.size = .25, \n",
    "     edge.label.cex = .5, \n",
    "     vertex.size = 5 * (V(highRankGraph)$rank / max(V(highRankGraph)$rank)), \n",
    "     vertex.label = V(highRankGraph)$name, \n",
    "     vertex.label.cex = .5, \n",
    "     vertex.label.dist = .25, \n",
    "     layout=layout)"
   ]
  },
  {
   "cell_type": "markdown",
   "metadata": {},
   "source": [
    "## <span style=\"background:yellow\">Your Turn</span>\n",
    "\n",
    "Create your own graph from the socratic rank data using an alternative layout.  \n",
    "Experiment with a couple, then leave your favorite in place for submission."
   ]
  },
  {
   "cell_type": "code",
   "execution_count": null,
   "metadata": {
    "collapsed": true
   },
   "outputs": [],
   "source": [
    "# Add your code below  this comment\n",
    "# ----------------------------------\n",
    "\n",
    "\n",
    "\n",
    "\n",
    "\n",
    "\n"
   ]
  },
  {
   "cell_type": "markdown",
   "metadata": {},
   "source": [
    "# SAVE YOUR NOTEBOOK, then File > Close and Halt"
   ]
  }
 ],
 "metadata": {
  "kernelspec": {
   "display_name": "R",
   "language": "R",
   "name": "ir"
  },
  "language_info": {
   "codemirror_mode": "r",
   "file_extension": ".r",
   "mimetype": "text/x-r-source",
   "name": "R",
   "pygments_lexer": "r",
   "version": "3.4.0"
  }
 },
 "nbformat": 4,
 "nbformat_minor": 2
}
