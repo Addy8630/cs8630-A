{
 "cells": [
  {
   "cell_type": "markdown",
   "metadata": {},
   "source": [
    "# Geospatial Plotting\n",
    "\n",
    "In the previous notebook, we looked a basic geospatial plotting.\n",
    "Here we are using GeoPandas, however, there are numerous other ways to plot geospatial data.\n",
    "In the R notebooks, we have seen the use of mapping services, such as Google Maps for rendering maps.\n",
    "This functionality is available in Python as well.\n",
    "\n",
    "In this notebook we are going to examine layering data on-top of maps for visual presentations.\n",
    "\n",
    "## Load data from PostGIS"
   ]
  },
  {
   "cell_type": "code",
   "execution_count": null,
   "metadata": {
    "collapsed": true
   },
   "outputs": [],
   "source": [
    "import matplotlib.pyplot as plt\n",
    "import geopandas as gpd\n",
    "import psycopg2\n",
    "\n",
    "con = psycopg2.connect(database=\"dsa_ro\", user=\"dsa_ro_user\",password=\"readonly\",host=\"dbase\")\n",
    "\n",
    "# Pulling area and region and subregion from the table as well\n",
    "sql= \"select name, lon, lat, area, region, subregion, pop2005, the_geom from geospatial.country_borders\"\n",
    "\n",
    "countries=gpd.GeoDataFrame.from_postgis(sql,con,geom_col='the_geom' )\n"
   ]
  },
  {
   "cell_type": "markdown",
   "metadata": {},
   "source": [
    "## Map base"
   ]
  },
  {
   "cell_type": "code",
   "execution_count": null,
   "metadata": {},
   "outputs": [],
   "source": [
    "%matplotlib inline\n",
    "countries.plot(color='white', figsize=(15,15))"
   ]
  },
  {
   "cell_type": "markdown",
   "metadata": {},
   "source": [
    "## Overplotting \n",
    "\n",
    "Overplotting allows us to stack visual variables on top of the map.\n",
    "In this first example, we overplot the center point, adjusting size based on millions of people in 2005.\n"
   ]
  },
  {
   "cell_type": "code",
   "execution_count": null,
   "metadata": {},
   "outputs": [],
   "source": [
    "%matplotlib inline\n",
    "countries.plot(color='white', figsize=(15,15))\n",
    "\n",
    "# Millions of People\n",
    "size = countries['pop2005']/1000000\n",
    "\n",
    "plt.scatter(x=countries['lon'], y=countries['lat'], c='r', s=size)"
   ]
  },
  {
   "cell_type": "markdown",
   "metadata": {
    "collapsed": true
   },
   "source": [
    "# Combining data sets\n",
    "\n",
    "In this example, we can pull King county for Washington state into a GeoPanda dataframe.\n",
    "Then, load a secondary data set with geospatial features and plot them as an additional layer (channel) of data."
   ]
  },
  {
   "cell_type": "code",
   "execution_count": null,
   "metadata": {},
   "outputs": [],
   "source": [
    "# Second order\n",
    "sql = \"SELECT iso,name_1, name_2,the_geom \"\n",
    "sql+= \" FROM geospatial.gadm_admin_borders \"\n",
    "sql+= \" WHERE iso IN ('USA') and name_1 = 'Washington' and name_2 = 'King'\"\n",
    "\n",
    "fourth = gpd.GeoDataFrame.from_postgis(sql,con,geom_col='the_geom' )\n",
    "fourth.plot(figsize=(15,15), color='white');"
   ]
  },
  {
   "cell_type": "code",
   "execution_count": null,
   "metadata": {},
   "outputs": [],
   "source": [
    "import pandas as pd\n",
    "kc_house_data = pd.read_csv(\"/dsa/data/all_datasets/house_sales_in_king_county/kc_house_data.csv\")\n",
    "kc_house_data.describe()"
   ]
  },
  {
   "cell_type": "code",
   "execution_count": null,
   "metadata": {},
   "outputs": [],
   "source": [
    "fourth.plot(figsize=(15,15), color='white');\n",
    "plt.scatter(x=kc_house_data['long'], y=kc_house_data['lat']\n",
    "            ,  alpha=0.15, c='blue'\n",
    "            , s=20\n",
    "           )\n",
    "# Zoom in a little\n",
    "plt.xlim(-122.6,-121.6)\n",
    "plt.show()"
   ]
  },
  {
   "cell_type": "markdown",
   "metadata": {},
   "source": [
    "## Classification / Nominal Labeling\n",
    "\n",
    "It is possible to use the Choropleth capability to show classifications.\n",
    "However, when the number of labels exceeds the supported levels, you will have to revert to more programmatic techniques.\n",
    "\n",
    "In the next few examples the region is used to color the countries.\n",
    "First, look at he regiong and subregion fields, noticing that they are numeric."
   ]
  },
  {
   "cell_type": "code",
   "execution_count": null,
   "metadata": {},
   "outputs": [],
   "source": [
    "countries.head()"
   ]
  },
  {
   "cell_type": "markdown",
   "metadata": {},
   "source": [
    "The following visualization then maps the range of values into buckets using the Fisher-Jenks method."
   ]
  },
  {
   "cell_type": "code",
   "execution_count": null,
   "metadata": {},
   "outputs": [],
   "source": [
    "import pysal as ps \n",
    "countries.plot(column='subregion',         # Which column has the measures\n",
    "               scheme='fisher_jenks',   # How to partition the measure into color buckets\n",
    "               k=6,                     # There are only 6 regions\n",
    "               cmap='YlGnBu',           # From the Color Map Options\n",
    "               figsize=(15,15))         # Figure size in inches"
   ]
  },
  {
   "cell_type": "markdown",
   "metadata": {},
   "source": [
    "However, Geopandas has the ability to specify that a measure is to be treated and visualized as categorical using `categorical=True`."
   ]
  },
  {
   "cell_type": "code",
   "execution_count": null,
   "metadata": {},
   "outputs": [],
   "source": [
    "countries.plot(column='subregion',         # Which column has the measures\n",
    "               categorical=True,        # Categories\n",
    "               cmap='YlGnBu',           # Colors\n",
    "               figsize=(15,15))         # Figure size in inches"
   ]
  },
  {
   "cell_type": "markdown",
   "metadata": {},
   "source": [
    "## <span style=\"background:yellow\">YOUR TURN</span>\n",
    "\n",
    "Experiment with a few variations on the paramters for: `cmap` and using **region** versus **subregion**.  \n",
    "Leave your favorite in place for submission."
   ]
  },
  {
   "cell_type": "code",
   "execution_count": null,
   "metadata": {},
   "outputs": [],
   "source": [
    "# Add your code below this comment\n",
    "# ----------------------------------\n",
    "\n",
    "\n",
    "\n"
   ]
  },
  {
   "cell_type": "markdown",
   "metadata": {
    "collapsed": true
   },
   "source": [
    "# SAVE YOUR NOTEBOOK, then File > \"Close and Halt\""
   ]
  }
 ],
 "metadata": {
  "kernelspec": {
   "display_name": "Python 3",
   "language": "python",
   "name": "python3"
  },
  "language_info": {
   "codemirror_mode": {
    "name": "ipython",
    "version": 3
   },
   "file_extension": ".py",
   "mimetype": "text/x-python",
   "name": "python",
   "nbconvert_exporter": "python",
   "pygments_lexer": "ipython3",
   "version": "3.4.5"
  }
 },
 "nbformat": 4,
 "nbformat_minor": 1
}
