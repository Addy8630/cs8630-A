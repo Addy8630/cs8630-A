{
 "cells": [
  {
   "cell_type": "markdown",
   "metadata": {},
   "source": [
    "### Using Network & statnet packages\n"
   ]
  },
  {
   "cell_type": "code",
   "execution_count": null,
   "metadata": {
    "collapsed": true
   },
   "outputs": [],
   "source": [
    "## Load the Libraries\n",
    "\n",
    "suppressMessages(library(network))\n",
    "suppressMessages(library(statnet))\n",
    "suppressMessages(library(MASS))"
   ]
  },
  {
   "cell_type": "code",
   "execution_count": null,
   "metadata": {
    "collapsed": true
   },
   "outputs": [],
   "source": [
    "####################################################################\n",
    "# Read the Data in\n",
    "####################################################################\n",
    "files <- system(\"ls /dsa/data/all_datasets/netdata/MyLyn/release*TNET*\",intern=T)\n",
    "\n",
    "# These are networks of developer communication on a software project over the course of \n",
    "# nine releases of that software. "
   ]
  },
  {
   "cell_type": "markdown",
   "metadata": {},
   "source": [
    "Each release will generate seven network graph types using statnet. \n",
    "A difference you will notice between statnet and igraph is that statnet uses network terminology to name the visualization types. \n",
    "While igraph more explicitly addresses layout algorithm issues. \n",
    "\n",
    "**Note:** The code below is producing PDF files within an `output` folder under `labs` for this module. \n",
    "You will need to navigate to the folder from your JupyterHub home screen (folder view)."
   ]
  },
  {
   "cell_type": "code",
   "execution_count": null,
   "metadata": {
    "collapsed": true,
    "scrolled": true
   },
   "outputs": [],
   "source": [
    "for (i in 1:length(files)) {\n",
    "\t#this function is in the MASS package\n",
    "\tfileNamer = as.character(i)\n",
    "\t#Import the files\n",
    "\tel <- read.table(files[i], header=TRUE, dec=\".\", fill=TRUE)\n",
    "\t#netName = \"n\"+as.character(i)\n",
    "\tprint(el)\n",
    "\tn=network(el,matrix.type=\"edgelist\")\n",
    "\tprint(n)\n",
    "\tprint(i)\n",
    "\n",
    "\tfilename=paste(\"output/\",\"1graphOne\",i,\".pdf\")\n",
    "\tpdf(filename)\n",
    "    print(filename)\n",
    "\tgplot(n, displayisolates=FALSE,edge.len=(1/n$mel.dist),label=network.vertex.names(n), boxed.labels=TRUE, \tlabel.pad=0.01)\n",
    "\tdev.off()\n",
    "\n",
    "\t## Show graph of centrality measures\n",
    "\tdegree(n)\n",
    "\tideg <- degree(n, cmode=\"indegree\")\n",
    "\todeg <- degree(n, cmode=\"outdegree\")\n",
    "\tfilename=paste(\"output/\",\"2graphTwo-MidPlots\",i,\".pdf\")\n",
    "\tpdf(filename)\n",
    "\tplot(ideg, odeg, type=\"n\", xlab=\"Bug/Task Opener\", ylab=\"Bug/Task Commenter\")\n",
    "\tabline(0,1, lty=3)\n",
    "\ttext(jitter(ideg), jitter(odeg), network.vertex.names(n), cex=0.75, col=2)\n",
    "\tdev.off()\n",
    "\n",
    "\t## Simple histograms of degree distribution\n",
    "\tpar(mfrow=c(2,2))\n",
    "\tfilename=paste(\"output/\",\"3graphThree-histogram\",i,\".pdf\")\n",
    "\tpdf(filename)\n",
    "\thist(ideg, xlab=\"Indegree\", main=\"Indegree Distribution\", prob=TRUE)\n",
    "\thist(odeg, xlab=\"Outdegree\", main=\"Outdegree Distribution\", prob=TRUE)\n",
    "\thist(odeg+ideg, xlab=\"Total degree\", main=\"Total degree Distribution\", prob=TRUE)\n",
    "\tdev.off()\n",
    "\tpar(mfrow=c(1,1))\n",
    "\n",
    "\t## Use centrality scores to size and color the network plot\n",
    "\tfilename=paste(\"output/\",\"4graphFourCentralityColorized\",i,\".pdf\")\n",
    "\tpdf(filename)\n",
    "\tgplot(n,vertex.cex=(ideg+odeg)^0.5/2, vertex.sides=50, label.cex=0.8, vertex.col=rgb(odeg/max(odeg), 0, ideg/max\t(ideg)), label=network.vertex.names(n), displayisolates=FALSE,  boxed.labels=TRUE)\n",
    "\tdev.off()\n",
    "\n",
    "\t## Show network diagram with betweenness centrality as the key sizing dimension\n",
    "\tbet <- betweenness(n,gmode=\"graph\")\n",
    "\tfilename=paste(\"output/\",\"5graphFiveBetweennessPlot\",i,\".pdf\")\n",
    "\tpdf(filename)\n",
    "\tgplot(n, vertex.cex=sqrt(bet)/12, gmode=\"graph\", label.cex=0.8, label=network.vertex.names(n), \tdisplayisolates=FALSE,  boxed.labels=TRUE)\n",
    "\tdev.off()\n",
    "\t\n",
    "\t## Plot the largest weak component\n",
    "\tcl <- component.largest(n, connected=\"weak\")        # Who's in the largest component? \n",
    "\tcl \n",
    "\tfilename=paste(\"output/\",\"6graphSixLargest-Weak-Component\",i,\".pdf\")\n",
    "\tpdf(filename)\n",
    "\tgplot(n[cl,cl], boxed.lab=TRUE, label.cex=0.5, label.col=4, label=network.vertex.names(n)[cl], displayisolates=FALSE) # Plot the largest \t\tweak component\n",
    "\tdev.off()\n",
    "\t\n",
    "\tcl <- component.largest(n, connected=\"strong\")        # Who's in the largest component? \n",
    "\tcl \n",
    "\tfilename=paste(\"output/\",\"7graphSevenLargest-Strong-Component\",i,\".pdf\")\n",
    "\tpdf(filename)\n",
    "\tgplot(n[cl,cl], boxed.lab=TRUE, label.cex=0.5, label.col=4, label=network.vertex.names(n)[cl], displayisolates=FALSE) # Plot the largest \t\tweak component\n",
    "\tdev.off()\n",
    "}"
   ]
  },
  {
   "cell_type": "markdown",
   "metadata": {},
   "source": [
    "### Browse the generated output\n",
    "- Note that each of 9 releases has 7 diagrams. So, there are 63 visualizations. Start by looking at the first visualization graph across releases. \n",
    "- Use the documentation for [network](https://cran.r-project.org/web/packages/network/network.pdf) and [statnet](https://statnet.org/trac/wiki/Resources) to describe what you see emerging in the graphs over time and releases\n",
    "- What other kind of network visualization are you curious about?\n"
   ]
  },
  {
   "cell_type": "markdown",
   "metadata": {
    "collapsed": true
   },
   "source": [
    "# SAVE YOUR NOTEBOOK"
   ]
  }
 ],
 "metadata": {
  "kernelspec": {
   "display_name": "R",
   "language": "R",
   "name": "ir"
  },
  "language_info": {
   "codemirror_mode": "r",
   "file_extension": ".r",
   "mimetype": "text/x-r-source",
   "name": "R",
   "pygments_lexer": "r",
   "version": "3.4.0"
  }
 },
 "nbformat": 4,
 "nbformat_minor": 2
}
