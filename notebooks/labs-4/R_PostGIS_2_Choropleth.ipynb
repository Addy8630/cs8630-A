{
 "cells": [
  {
   "cell_type": "markdown",
   "metadata": {},
   "source": [
    "# Choropleth of Countries by Population\n",
    "\n",
    "R has the **SP, Spatial Data Library**, similar to GeoPandas.\n",
    "\n",
    "This notebook is just a reference notebook and code samples that some may decide to use for the final project."
   ]
  },
  {
   "cell_type": "code",
   "execution_count": null,
   "metadata": {},
   "outputs": [],
   "source": [
    "library(pgis2r) #Get spatial poloygons from PostGIS database\n",
    "library(sp) #Plot spatial data"
   ]
  },
  {
   "cell_type": "code",
   "execution_count": null,
   "metadata": {
    "collapsed": true
   },
   "outputs": [],
   "source": [
    "#Tell the driver this is for Postgres\n",
    "drv <- dbDriver(\"PostgreSQL\")\n",
    "\n",
    "#Open a connection to the dsa_ro database\n",
    "con <- dbConnect(drv, host = \"dbase.dsa.missouri.edu\", port = \"5432\", dbname = 'dsa_ro',user='dsa_ro_user',password='readonly')\n"
   ]
  },
  {
   "cell_type": "code",
   "execution_count": null,
   "metadata": {},
   "outputs": [],
   "source": [
    "# Use the helper function to pull the geospatial data of the country borders \n",
    "Spol_df<-pgis2spol(con,'geospatial.country_borders',geom='the_geom',gid='gid')\n",
    "\n",
    "#Plot the data with the color as the population \n",
    "# Ref: http://gis.stackexchange.com/questions/36877/how-do-i-change-the-polygon-fill-color-and-border-color-for-spatialpolygons-obje\n",
    "spplot(Spol_df, zcol=\"pop2005\")"
   ]
  },
  {
   "cell_type": "code",
   "execution_count": null,
   "metadata": {
    "collapsed": true
   },
   "outputs": [],
   "source": [
    "help(sp)"
   ]
  }
 ],
 "metadata": {
  "kernelspec": {
   "display_name": "R",
   "language": "R",
   "name": "ir"
  },
  "language_info": {
   "codemirror_mode": "r",
   "file_extension": ".r",
   "mimetype": "text/x-r-source",
   "name": "R",
   "pygments_lexer": "r",
   "version": "3.4.0"
  }
 },
 "nbformat": 4,
 "nbformat_minor": 1
}
