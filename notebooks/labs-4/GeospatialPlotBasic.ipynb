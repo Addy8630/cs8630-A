{
 "cells": [
  {
   "cell_type": "markdown",
   "metadata": {},
   "source": [
    "# Basic Geospatial Plotting\n",
    "\n",
    "This notebook lightly introduces some geospatial visualization concepts through GeoPandas.\n",
    "\n",
    "Additionally, we will pull data from a geospatial database, PostGIS"
   ]
  },
  {
   "cell_type": "code",
   "execution_count": null,
   "metadata": {
    "collapsed": true
   },
   "outputs": [],
   "source": [
    "# import the basic Matplot Lib\n",
    "import matplotlib.pyplot as plt\n",
    "# import the geopandas, extensions to the \n",
    "# Pandas data frame for Geospatial\n",
    "import geopandas as gpd\n",
    "# This library allows us to connect to a database\n",
    "import psycopg2\n",
    "\n",
    "con = psycopg2.connect(database=\"dsa_ro\", user=\"dsa_ro_user\",password=\"readonly\",host=\"dbase\")\n",
    "\n",
    "# NOTE  (CountryName, Longitude, Latitude, Population in 2005, the polynomial country border)\n",
    "sql= \"select name, lon, lat, pop2005, the_geom from geospatial.country_borders\"\n",
    "\n",
    "countries=gpd.GeoDataFrame.from_postgis(sql,con,geom_col='the_geom' )\n"
   ]
  },
  {
   "cell_type": "code",
   "execution_count": null,
   "metadata": {},
   "outputs": [],
   "source": [
    "countries.describe()"
   ]
  },
  {
   "cell_type": "markdown",
   "metadata": {},
   "source": [
    "We see above that we have 246 countries.\n",
    "\n",
    "---\n",
    "\n",
    "## Plotting \n",
    "\n",
    "We can produce a geospatial plot (map) of the data.\n",
    "This is just a simple rendering, which is using built in functionality (matplotlib) of **GeoPandas** to plot data.\n",
    "Note that the rendering is using a color scheme that makes it easy to visually discern country borders in a large range of sizes and densities."
   ]
  },
  {
   "cell_type": "code",
   "execution_count": null,
   "metadata": {},
   "outputs": [],
   "source": [
    "# plotting stuff\n",
    "%matplotlib inline\n",
    "countries.plot(figsize=(15,15))\n",
    "\n",
    "# May take a moment to render, please be patient"
   ]
  },
  {
   "cell_type": "markdown",
   "metadata": {},
   "source": [
    "## Choropleth \n",
    "\n",
    "As you have read, **choropleth maps** are thematic maps which shade the map regions with statistical measures for the region.\n",
    "Above we pulled the 2005 population (`pop2005`) into the GeoPandas structure.\n",
    "\n",
    "Geopandas has specific functionality for generating [Choropleth maps](/static/mirror_sites/geopandas.org/mapping.html#chloropleth-maps).\n",
    "\n",
    "   * See : [Color selection](/static/mirror_sites/matplotlib.org/users/colormaps.html)\n",
    "\n"
   ]
  },
  {
   "cell_type": "code",
   "execution_count": null,
   "metadata": {},
   "outputs": [],
   "source": [
    "import pysal as ps \n",
    "countries.plot(column='pop2005',        # Which column has the measures\n",
    "               scheme='equal_interval', # How to partition the measure into color buckets\n",
    "               k=9,                     # How many buckets of color\n",
    "               cmap='RdPu',             # From the Color Map Options\n",
    "               figsize=(15,15))         # Figure size in inches"
   ]
  },
  {
   "cell_type": "markdown",
   "metadata": {},
   "source": [
    "**Note**: The significant color of China and India, and the relative muted nature of the rest of the planet.\n",
    "Analytically, the strength of the measurement signal over those two regions dampens the dynamic range that can be interpreted from the rest of the map.\n",
    "\n",
    "\n",
    "There are a number of options for rendering the Choropleth map.\n",
    "This next one uses an alternative technique to partition the population values, thereby increasing the visual interpretation."
   ]
  },
  {
   "cell_type": "code",
   "execution_count": null,
   "metadata": {},
   "outputs": [],
   "source": [
    "import pysal as ps \n",
    "countries.plot(column='pop2005', \n",
    "               scheme='fisher_jenks', # https://en.wikipedia.org/wiki/Jenks_natural_breaks_optimization\n",
    "               k=9, \n",
    "               cmap='RdPu', \n",
    "               figsize=(15,15))"
   ]
  },
  {
   "cell_type": "markdown",
   "metadata": {},
   "source": [
    "\n",
    "##### Read more about mapping data with GeoPandas \n",
    "\n",
    "Here: http://geopandas.org/mapping.html"
   ]
  },
  {
   "cell_type": "markdown",
   "metadata": {
    "collapsed": true
   },
   "source": [
    "## <span style=\"background:yellow\">YOUR TURN</span>\n",
    "\n",
    "Experiment with a few variations on the paramters for: `k`, `cmap`, and `scheme`.\n",
    "Produce three different choropleth maps."
   ]
  },
  {
   "cell_type": "code",
   "execution_count": null,
   "metadata": {
    "collapsed": true
   },
   "outputs": [],
   "source": [
    "# Add your code below this comment\n",
    "# --------------------------------\n",
    "\n",
    "\n",
    "\n",
    "\n",
    "\n",
    "\n",
    "\n",
    "\n"
   ]
  },
  {
   "cell_type": "code",
   "execution_count": null,
   "metadata": {
    "collapsed": true
   },
   "outputs": [],
   "source": [
    "# Add your code below this comment\n",
    "# --------------------------------\n",
    "\n",
    "\n",
    "\n",
    "\n",
    "\n",
    "\n",
    "\n",
    "\n"
   ]
  },
  {
   "cell_type": "code",
   "execution_count": null,
   "metadata": {
    "collapsed": true
   },
   "outputs": [],
   "source": [
    "# Add your code below this comment\n",
    "# --------------------------------\n",
    "\n",
    "\n",
    "\n",
    "\n",
    "\n",
    "\n",
    "\n",
    "\n"
   ]
  },
  {
   "cell_type": "markdown",
   "metadata": {},
   "source": [
    "## Projections\n",
    "\n",
    "Recall that map projections define how a real world region is mapped to a flat (planar) region for rendering.\n",
    "The common Lat-Lon projection is `epsg:4326`.\n",
    "These are often stored with the container of the geospatial data as either a _spatial reference system_ (SRS) or _coordinate reference system_ (CRS).\n",
    "A comprehensive list is available at the registry site: http://www.epsg.org/\n"
   ]
  },
  {
   "cell_type": "code",
   "execution_count": null,
   "metadata": {},
   "outputs": [],
   "source": [
    "# This line assigned a default CRS\n",
    "countries.crs = {'init' :'epsg:4326'}\n",
    "                 \n",
    "# Create a transformmed version fo th data.\n",
    "transformed_countries = countries.to_crs({'init': 'epsg:3396'}) # Convert all the data to the new CRS\n",
    "transformed_countries.plot();"
   ]
  },
  {
   "cell_type": "markdown",
   "metadata": {},
   "source": [
    "# SAVE YOUR NOTEBOOK, then File > \"Close and Halt\""
   ]
  }
 ],
 "metadata": {
  "kernelspec": {
   "display_name": "Python 3",
   "language": "python",
   "name": "python3"
  },
  "language_info": {
   "codemirror_mode": {
    "name": "ipython",
    "version": 3
   },
   "file_extension": ".py",
   "mimetype": "text/x-python",
   "name": "python",
   "nbconvert_exporter": "python",
   "pygments_lexer": "ipython3",
   "version": "3.4.5"
  }
 },
 "nbformat": 4,
 "nbformat_minor": 1
}
