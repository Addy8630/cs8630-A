{
 "cells": [
  {
   "cell_type": "markdown",
   "metadata": {},
   "source": [
    "# Loading Packages / Libararies in R\n",
    "\n",
    "Just like in python, and other languages, you can extend the functionality of R by loading additional packages.\n"
   ]
  },
  {
   "cell_type": "markdown",
   "metadata": {},
   "source": [
    "Packages are loaded in R using the `library()` function.\n",
    "Libraries brind additional functions into scope of execution, making them available to run."
   ]
  },
  {
   "cell_type": "code",
   "execution_count": 1,
   "metadata": {},
   "outputs": [
    {
     "name": "stderr",
     "output_type": "stream",
     "text": [
      "\n",
      "Attaching package: ‘dplyr’\n",
      "\n",
      "The following objects are masked from ‘package:stats’:\n",
      "\n",
      "    filter, lag\n",
      "\n",
      "The following objects are masked from ‘package:base’:\n",
      "\n",
      "    intersect, setdiff, setequal, union\n",
      "\n"
     ]
    },
    {
     "data": {
      "text/html": [
       "<table>\n",
       "<thead><tr><th scope=col>mpg</th><th scope=col>cylinders</th><th scope=col>displacement</th><th scope=col>horsepower</th><th scope=col>weight</th><th scope=col>acceleration</th><th scope=col>model.year</th><th scope=col>origin</th><th scope=col>car.name</th></tr></thead>\n",
       "<tbody>\n",
       "\t<tr><td>18                       </td><td>8                        </td><td>307                      </td><td>130.0                    </td><td>3504                     </td><td>12.0                     </td><td>70                       </td><td>1                        </td><td>chevrolet chevelle malibu</td></tr>\n",
       "\t<tr><td>15                       </td><td>8                        </td><td>350                      </td><td>165.0                    </td><td>3693                     </td><td>11.5                     </td><td>70                       </td><td>1                        </td><td>buick skylark 320        </td></tr>\n",
       "\t<tr><td>18                       </td><td>8                        </td><td>318                      </td><td>150.0                    </td><td>3436                     </td><td>11.0                     </td><td>70                       </td><td>1                        </td><td>plymouth satellite       </td></tr>\n",
       "\t<tr><td>16                       </td><td>8                        </td><td>304                      </td><td>150.0                    </td><td>3433                     </td><td>12.0                     </td><td>70                       </td><td>1                        </td><td>amc rebel sst            </td></tr>\n",
       "\t<tr><td>17                       </td><td>8                        </td><td>302                      </td><td>140.0                    </td><td>3449                     </td><td>10.5                     </td><td>70                       </td><td>1                        </td><td>ford torino              </td></tr>\n",
       "\t<tr><td>15                       </td><td>8                        </td><td>429                      </td><td>198.0                    </td><td>4341                     </td><td>10.0                     </td><td>70                       </td><td>1                        </td><td>ford galaxie 500         </td></tr>\n",
       "</tbody>\n",
       "</table>\n"
      ],
      "text/latex": [
       "\\begin{tabular}{r|lllllllll}\n",
       " mpg & cylinders & displacement & horsepower & weight & acceleration & model.year & origin & car.name\\\\\n",
       "\\hline\n",
       "\t 18                        & 8                         & 307                       & 130.0                     & 3504                      & 12.0                      & 70                        & 1                         & chevrolet chevelle malibu\\\\\n",
       "\t 15                        & 8                         & 350                       & 165.0                     & 3693                      & 11.5                      & 70                        & 1                         & buick skylark 320        \\\\\n",
       "\t 18                        & 8                         & 318                       & 150.0                     & 3436                      & 11.0                      & 70                        & 1                         & plymouth satellite       \\\\\n",
       "\t 16                        & 8                         & 304                       & 150.0                     & 3433                      & 12.0                      & 70                        & 1                         & amc rebel sst            \\\\\n",
       "\t 17                        & 8                         & 302                       & 140.0                     & 3449                      & 10.5                      & 70                        & 1                         & ford torino              \\\\\n",
       "\t 15                        & 8                         & 429                       & 198.0                     & 4341                      & 10.0                      & 70                        & 1                         & ford galaxie 500         \\\\\n",
       "\\end{tabular}\n"
      ],
      "text/markdown": [
       "\n",
       "mpg | cylinders | displacement | horsepower | weight | acceleration | model.year | origin | car.name | \n",
       "|---|---|---|---|---|---|\n",
       "| 18                        | 8                         | 307                       | 130.0                     | 3504                      | 12.0                      | 70                        | 1                         | chevrolet chevelle malibu | \n",
       "| 15                        | 8                         | 350                       | 165.0                     | 3693                      | 11.5                      | 70                        | 1                         | buick skylark 320         | \n",
       "| 18                        | 8                         | 318                       | 150.0                     | 3436                      | 11.0                      | 70                        | 1                         | plymouth satellite        | \n",
       "| 16                        | 8                         | 304                       | 150.0                     | 3433                      | 12.0                      | 70                        | 1                         | amc rebel sst             | \n",
       "| 17                        | 8                         | 302                       | 140.0                     | 3449                      | 10.5                      | 70                        | 1                         | ford torino               | \n",
       "| 15                        | 8                         | 429                       | 198.0                     | 4341                      | 10.0                      | 70                        | 1                         | ford galaxie 500          | \n",
       "\n",
       "\n"
      ],
      "text/plain": [
       "  mpg cylinders displacement horsepower weight acceleration model.year origin\n",
       "1 18  8         307          130.0      3504   12.0         70         1     \n",
       "2 15  8         350          165.0      3693   11.5         70         1     \n",
       "3 18  8         318          150.0      3436   11.0         70         1     \n",
       "4 16  8         304          150.0      3433   12.0         70         1     \n",
       "5 17  8         302          140.0      3449   10.5         70         1     \n",
       "6 15  8         429          198.0      4341   10.0         70         1     \n",
       "  car.name                 \n",
       "1 chevrolet chevelle malibu\n",
       "2 buick skylark 320        \n",
       "3 plymouth satellite       \n",
       "4 amc rebel sst            \n",
       "5 ford torino              \n",
       "6 ford galaxie 500         "
      ]
     },
     "metadata": {},
     "output_type": "display_data"
    }
   ],
   "source": [
    "library(dplyr)\n",
    "\n",
    "df <- read.csv(\"/dsa/data/all_datasets/auto-mpg/auto-mpg.csv\")\n",
    "\n",
    "head(df)"
   ]
  },
  {
   "cell_type": "markdown",
   "metadata": {},
   "source": [
    "This library brought a suite of new functions and even a new operator, **`%>%`**.\n",
    "\n",
    "In this example, the library we loaded, `dplyr`, allows us to perform SQL like actions on the data frame."
   ]
  },
  {
   "cell_type": "code",
   "execution_count": 2,
   "metadata": {},
   "outputs": [
    {
     "data": {
      "text/html": [
       "<table>\n",
       "<thead><tr><th scope=col>mpg</th><th scope=col>cylinders</th><th scope=col>displacement</th><th scope=col>horsepower</th><th scope=col>weight</th><th scope=col>acceleration</th><th scope=col>model.year</th><th scope=col>origin</th><th scope=col>car.name</th></tr></thead>\n",
       "<tbody>\n",
       "\t<tr><td>14.0                    </td><td>8                       </td><td>455                     </td><td>225.0                   </td><td>4425                    </td><td>10.0                    </td><td>70                      </td><td>1                       </td><td>pontiac catalina        </td></tr>\n",
       "\t<tr><td>14.0                    </td><td>8                       </td><td>455                     </td><td>225.0                   </td><td>3086                    </td><td>10.0                    </td><td>70                      </td><td>1                       </td><td>buick estate wagon (sw) </td></tr>\n",
       "\t<tr><td>12.0                    </td><td>8                       </td><td>455                     </td><td>225.0                   </td><td>4951                    </td><td>11.0                    </td><td>73                      </td><td>1                       </td><td>buick electra 225 custom</td></tr>\n",
       "\t<tr><td>21.5                    </td><td>3                       </td><td> 80                     </td><td>110.0                   </td><td>2720                    </td><td>13.5                    </td><td>77                      </td><td>3                       </td><td>mazda rx-4              </td></tr>\n",
       "\t<tr><td>23.2                    </td><td>4                       </td><td>156                     </td><td>105.0                   </td><td>2745                    </td><td>16.7                    </td><td>78                      </td><td>1                       </td><td>plymouth sapporo        </td></tr>\n",
       "\t<tr><td>25.4                    </td><td>5                       </td><td>183                     </td><td>77.00                   </td><td>3530                    </td><td>20.1                    </td><td>79                      </td><td>2                       </td><td>mercedes benz 300d      </td></tr>\n",
       "</tbody>\n",
       "</table>\n"
      ],
      "text/latex": [
       "\\begin{tabular}{r|lllllllll}\n",
       " mpg & cylinders & displacement & horsepower & weight & acceleration & model.year & origin & car.name\\\\\n",
       "\\hline\n",
       "\t 14.0                     & 8                        & 455                      & 225.0                    & 4425                     & 10.0                     & 70                       & 1                        & pontiac catalina        \\\\\n",
       "\t 14.0                     & 8                        & 455                      & 225.0                    & 3086                     & 10.0                     & 70                       & 1                        & buick estate wagon (sw) \\\\\n",
       "\t 12.0                     & 8                        & 455                      & 225.0                    & 4951                     & 11.0                     & 73                       & 1                        & buick electra 225 custom\\\\\n",
       "\t 21.5                     & 3                        &  80                      & 110.0                    & 2720                     & 13.5                     & 77                       & 3                        & mazda rx-4              \\\\\n",
       "\t 23.2                     & 4                        & 156                      & 105.0                    & 2745                     & 16.7                     & 78                       & 1                        & plymouth sapporo        \\\\\n",
       "\t 25.4                     & 5                        & 183                      & 77.00                    & 3530                     & 20.1                     & 79                       & 2                        & mercedes benz 300d      \\\\\n",
       "\\end{tabular}\n"
      ],
      "text/markdown": [
       "\n",
       "mpg | cylinders | displacement | horsepower | weight | acceleration | model.year | origin | car.name | \n",
       "|---|---|---|---|---|---|\n",
       "| 14.0                     | 8                        | 455                      | 225.0                    | 4425                     | 10.0                     | 70                       | 1                        | pontiac catalina         | \n",
       "| 14.0                     | 8                        | 455                      | 225.0                    | 3086                     | 10.0                     | 70                       | 1                        | buick estate wagon (sw)  | \n",
       "| 12.0                     | 8                        | 455                      | 225.0                    | 4951                     | 11.0                     | 73                       | 1                        | buick electra 225 custom | \n",
       "| 21.5                     | 3                        |  80                      | 110.0                    | 2720                     | 13.5                     | 77                       | 3                        | mazda rx-4               | \n",
       "| 23.2                     | 4                        | 156                      | 105.0                    | 2745                     | 16.7                     | 78                       | 1                        | plymouth sapporo         | \n",
       "| 25.4                     | 5                        | 183                      | 77.00                    | 3530                     | 20.1                     | 79                       | 2                        | mercedes benz 300d       | \n",
       "\n",
       "\n"
      ],
      "text/plain": [
       "  mpg  cylinders displacement horsepower weight acceleration model.year origin\n",
       "1 14.0 8         455          225.0      4425   10.0         70         1     \n",
       "2 14.0 8         455          225.0      3086   10.0         70         1     \n",
       "3 12.0 8         455          225.0      4951   11.0         73         1     \n",
       "4 21.5 3          80          110.0      2720   13.5         77         3     \n",
       "5 23.2 4         156          105.0      2745   16.7         78         1     \n",
       "6 25.4 5         183          77.00      3530   20.1         79         2     \n",
       "  car.name                \n",
       "1 pontiac catalina        \n",
       "2 buick estate wagon (sw) \n",
       "3 buick electra 225 custom\n",
       "4 mazda rx-4              \n",
       "5 plymouth sapporo        \n",
       "6 mercedes benz 300d      "
      ]
     },
     "metadata": {},
     "output_type": "display_data"
    }
   ],
   "source": [
    "df %>%\n",
    "    group_by(cylinders) %>%   # Group the rows based on number of cylinders\n",
    "    filter(displacement == max(displacement)) %>%    # find the max(displacement) for each number of cylinders\n",
    "                # Then filter to just the rows that are the max(displacement) rows\n",
    "    head()"
   ]
  },
  {
   "cell_type": "markdown",
   "metadata": {},
   "source": [
    "## Many more libraries\n",
    "\n",
    "In this class, we will focus on data manipulation and plotting packages, however there an extensive set available.\n",
    "\n",
    "Besides `dplyr`, some other useful ones include:\n",
    "  * ggplot2 - Grammar of Graphics plot library\n",
    "  * stringr - String operations\n",
    "  * sqldf - SQL interface to Data Frames\n",
    "  * Various Database Interfaces\n",
    "    * RPostgreSQL\n",
    "    * RSQLite\n",
    "    * RMongo\n",
    "  \n",
    "\n",
    "The list goes on and on, a comprehensive list is availabe here:  https://cran.r-project.org/web/packages/available_packages_by_name.html\n"
   ]
  }
 ],
 "metadata": {
  "kernelspec": {
   "display_name": "R",
   "language": "R",
   "name": "ir"
  },
  "language_info": {
   "codemirror_mode": "r",
   "file_extension": ".r",
   "mimetype": "text/x-r-source",
   "name": "R",
   "pygments_lexer": "r",
   "version": "3.4.0"
  }
 },
 "nbformat": 4,
 "nbformat_minor": 1
}
