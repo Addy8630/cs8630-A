{
 "cells": [
  {
   "cell_type": "markdown",
   "metadata": {
    "collapsed": false
   },
   "source": [
    "# Reproducable experiment #\n",
    "\n",
    "----\n",
    "\n",
    "\n",
    "Every experiment will basically have following steps involved in it\n",
    "               \n",
    "\n",
    "* data collection\n",
    "* data preparation(cleaning, transformation, merging, sampling)\n",
    "* data analysis\n",
    "* presentation of results (generating reports and/or presentations)\n",
    "\n",
    "\n",
    "A reproducable experiment would essentially mean the data and the code is publicly available and others should be able to reproduce the experiment results.\n",
    "\n",
    "\n",
    "**Data collection:**\n",
    "\n",
    "- You might find data for your experiment in google. There is no guarantee that you will find all of it on google. If you are taking the data from a person or a website, don't forget to add the reference or add the url from where it is accessed and time period when it is accessed.\n",
    "\n",
    "\n",
    "**Data preparation:**\n",
    "\n",
    "Process the data before using it. If the data is processed make sure to know how the data is processed. It helps in tweaking the data according to future needs of the experiment.\n",
    "\n",
    "\n",
    "* **Cleaning:** Data cleaning could be one of the most challenging aspect of data analysis. It is often time consuming and may involve lots of manual effort.\n",
    "\n",
    "\n",
    "* **Transformation:** Cleaned data needs to be transformed into diferent formats like text to csv, html to csv, csv to json etc. \n",
    "\n",
    "\n",
    "* **Merging:** Often data is fetched from many different sources. Data shouldbe merged into one single dataset for analysis.\n",
    "\n",
    "\n",
    "* **Sampling:** The final dataset size can range from few megabits to hundreds of Gigabits. Sampling plays a vital role in conducting experiments on this large datasets.\n",
    "\n",
    "\n",
    "**Results: **\n",
    "\n",
    "- Here comes the fun part where you can witness the returns on time invested on the data cleaning and preparation part. Everyone else who has the data and code should be able to reproduce the experiment results.\n",
    "\n",
    "\n",
    "**Basic workflow for an academic reproducable experiment. **\n",
    "\n",
    "1) Put everything under version control, for e.g., Git\n",
    "\n",
    "- You can put your test data, code, results, resources everything on GIT following an organised workflow.\n",
    "\n",
    "2) IPython notebooks are a great source for doing analysis. It is very organized to have the code, results, discussions all in one document. Ipython notebooks can handle even large code snippets."
   ]
  }
 ],
 "metadata": {
  "kernelspec": {
   "display_name": "Python 3",
   "language": "python",
   "name": "python3"
  },
  "language_info": {
   "codemirror_mode": {
    "name": "ipython",
    "version": 3
   },
   "file_extension": ".py",
   "mimetype": "text/x-python",
   "name": "python",
   "nbconvert_exporter": "python",
   "pygments_lexer": "ipython3",
   "version": "3.4.3"
  }
 },
 "nbformat": 4,
 "nbformat_minor": 0
}
