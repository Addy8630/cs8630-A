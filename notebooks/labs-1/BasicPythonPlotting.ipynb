{
 "cells": [
  {
   "cell_type": "markdown",
   "metadata": {},
   "source": [
    "# Basic Python Plots\n",
    "\n",
    "Python has a wide variety of plotting libraries.\n",
    "\n",
    "Two common libraries are \n",
    "  * MatplotLib\n",
    "  * ggplot\n",
    "\n",
    "This notebook will look at some basic patterns of visualizing data with MatplotLib.\n",
    "\n",
    "\n",
    "## Matplotlib\n",
    "\n",
    "`matplotlib` is a classic Python data visualization library. \n",
    "Despite being over a decade old, it’s still the most widely used library for plotting in the Python community. \n",
    "It was designed to closely resemble MATLAB, a proprietary programming language developed in the 1980s.\n",
    "\n",
    "Because `matplotlib` was the first Python data visualization library, many other libraries are built on top of it or designed to work in tandem with it during analysis. \n",
    "Some other libraries like `pandas` are “wrappers” over matplotlib. \n",
    "They allow you to access a number of `matplotlib`’s methods with less code.  \n",
    "While `matplotlib` is good for getting a sense of the data, it’s not very useful for creating *publication-quality* charts quickly and easily. \n",
    "As Chris Moffitt points out in his overview of [Python visualization tools](http://pbpython.com/visualization-tools-1.html), matplotlib “is extremely powerful but with that power comes complexity.”\n",
    "\n",
    " http://matplotlib.org/\n",
    "\n",
    "```\n",
    "import pandas as pd\n",
    "import numpy as np\n",
    "import matplotlib.pyplot as plt\n",
    "%matplotlib inline\n",
    "sales=pd.read_csv(\"testers/sample-salesv2.csv\",parse_dates=['date'])\n",
    "sales.head()\n",
    "```\n"
   ]
  },
  {
   "cell_type": "markdown",
   "metadata": {},
   "source": [
    "\n",
    "<table class=\"dataframe\" border=\"1\">\n",
    "<thead>\n",
    "<tr style=\"text-align: right;\">\n",
    "<th></th>\n",
    "<th>account number</th>\n",
    "<th>name</th>\n",
    "<th>sku</th>\n",
    "<th>category</th>\n",
    "<th>quantity</th>\n",
    "<th>unit price</th>\n",
    "<th>ext price</th>\n",
    "<th>date</th>\n",
    "</tr>\n",
    "</thead>\n",
    "<tbody>\n",
    "<tr>\n",
    "<th>0</th>\n",
    "<td>296809</td>\n",
    "<td>Carroll PLC</td>\n",
    "<td>QN-82852</td>\n",
    "<td>Belt</td>\n",
    "<td>13</td>\n",
    "<td>44.48</td>\n",
    "<td>578.24</td>\n",
    "<td>2014-09-27 07:13:03</td>\n",
    "</tr>\n",
    "<tr>\n",
    "<th>1</th>\n",
    "<td>98022</td>\n",
    "<td>Heidenreich-Bosco</td>\n",
    "<td>MJ-21460</td>\n",
    "<td>Shoes</td>\n",
    "<td>19</td>\n",
    "<td>53.62</td>\n",
    "<td>1018.78</td>\n",
    "<td>2014-07-29 02:10:44</td>\n",
    "</tr>\n",
    "<tr>\n",
    "<th>2</th>\n",
    "<td>563905</td>\n",
    "<td>Kerluke, Reilly and Bechtelar</td>\n",
    "<td>AS-93055</td>\n",
    "<td>Shirt</td>\n",
    "<td>12</td>\n",
    "<td>24.16</td>\n",
    "<td>289.92</td>\n",
    "<td>2014-03-01 10:51:24</td>\n",
    "</tr>\n",
    "<tr>\n",
    "<th>3</th>\n",
    "<td>93356</td>\n",
    "<td>Waters-Walker</td>\n",
    "<td>AS-93055</td>\n",
    "<td>Shirt</td>\n",
    "<td>5</td>\n",
    "<td>82.68</td>\n",
    "<td>413.40</td>\n",
    "<td>2013-11-17 20:41:11</td>\n",
    "</tr>\n",
    "<tr>\n",
    "<th>4</th>\n",
    "<td>659366</td>\n",
    "<td>Waelchi-Fahey</td>\n",
    "<td>AS-93055</td>\n",
    "<td>Shirt</td>\n",
    "<td>18</td>\n",
    "<td>99.64</td>\n",
    "<td>1793.52</td>\n",
    "<td>2014-01-03 08:14:27</td>\n",
    "</tr>\n",
    "</tbody>\n",
    "</table>"
   ]
  },
  {
   "cell_type": "markdown",
   "metadata": {},
   "source": [
    "** Example:** \n",
    "\n",
    "```\n",
    "customers = sales[['name','ext price','date']]\n",
    "customer_group = customers.groupby('name')\n",
    "customer_group.size()\n",
    "sales_totals = customer_group.sum()\n",
    "my_plot = sales_totals.plot(kind='bar')\n",
    "```\n",
    "\n",
    "![matplotlib_bar_simple.png](../images/matplotlib_bar_simple.png)\n",
    "\n",
    "... and using more advanced functionality (not shown yet)  \n",
    "\n",
    "![matplotlib_bar_multi.png.png](../images/matplotlib_bar_multi.png.png)\n",
    "\n"
   ]
  },
  {
   "cell_type": "markdown",
   "metadata": {},
   "source": [
    "---\n",
    "\n",
    "## Getting feet wet\n",
    "\n",
    "In each of the example code segments below, please carefully review the use of functions, function arguments, and data.\n",
    "\n",
    "These are just previews.\n",
    "Course material will drill down into specifics as we review and apply the Day 1 lecture and discussion topics to labs and exercises.\n",
    "\n",
    "\n",
    "---\n",
    "First we need to import various Python libraries that we will need for this lab:"
   ]
  },
  {
   "cell_type": "code",
   "execution_count": 1,
   "metadata": {},
   "outputs": [],
   "source": [
    "# This next line tells the notebook environment to do rendering\n",
    "# inline of the notebook\n",
    "%matplotlib inline\n",
    "\n",
    "# You are familiar, or read the quick previews for\n",
    "# numpy and pandas\n",
    "import numpy as np\n",
    "import pandas as pd\n",
    "\n",
    "# These is the python plotting libary\n",
    "import matplotlib.pyplot as plt\n"
   ]
  },
  {
   "cell_type": "markdown",
   "metadata": {},
   "source": [
    "Next we need to load in a data file to work with. Just to expose different options for reading in data files, \n",
    "here we show how to use the the pandas library to read in a txt file that has white-space as a delimiter between the data elements:"
   ]
  },
  {
   "cell_type": "code",
   "execution_count": 2,
   "metadata": {},
   "outputs": [
    {
     "data": {
      "text/html": [
       "<div>\n",
       "<style scoped>\n",
       "    .dataframe tbody tr th:only-of-type {\n",
       "        vertical-align: middle;\n",
       "    }\n",
       "\n",
       "    .dataframe tbody tr th {\n",
       "        vertical-align: top;\n",
       "    }\n",
       "\n",
       "    .dataframe thead th {\n",
       "        text-align: right;\n",
       "    }\n",
       "</style>\n",
       "<table border=\"1\" class=\"dataframe\">\n",
       "  <thead>\n",
       "    <tr style=\"text-align: right;\">\n",
       "      <th></th>\n",
       "      <th>mpg</th>\n",
       "      <th>cylinders</th>\n",
       "      <th>displacement</th>\n",
       "      <th>horsepower</th>\n",
       "      <th>weight</th>\n",
       "      <th>acceleration</th>\n",
       "      <th>model_year</th>\n",
       "      <th>origin</th>\n",
       "      <th>car_name</th>\n",
       "    </tr>\n",
       "  </thead>\n",
       "  <tbody>\n",
       "    <tr>\n",
       "      <th>0</th>\n",
       "      <td>18.0</td>\n",
       "      <td>8</td>\n",
       "      <td>307.0</td>\n",
       "      <td>130.0</td>\n",
       "      <td>3504.0</td>\n",
       "      <td>12.0</td>\n",
       "      <td>70</td>\n",
       "      <td>1</td>\n",
       "      <td>chevrolet chevelle malibu</td>\n",
       "    </tr>\n",
       "    <tr>\n",
       "      <th>1</th>\n",
       "      <td>15.0</td>\n",
       "      <td>8</td>\n",
       "      <td>350.0</td>\n",
       "      <td>165.0</td>\n",
       "      <td>3693.0</td>\n",
       "      <td>11.5</td>\n",
       "      <td>70</td>\n",
       "      <td>1</td>\n",
       "      <td>buick skylark 320</td>\n",
       "    </tr>\n",
       "    <tr>\n",
       "      <th>2</th>\n",
       "      <td>18.0</td>\n",
       "      <td>8</td>\n",
       "      <td>318.0</td>\n",
       "      <td>150.0</td>\n",
       "      <td>3436.0</td>\n",
       "      <td>11.0</td>\n",
       "      <td>70</td>\n",
       "      <td>1</td>\n",
       "      <td>plymouth satellite</td>\n",
       "    </tr>\n",
       "    <tr>\n",
       "      <th>3</th>\n",
       "      <td>16.0</td>\n",
       "      <td>8</td>\n",
       "      <td>304.0</td>\n",
       "      <td>150.0</td>\n",
       "      <td>3433.0</td>\n",
       "      <td>12.0</td>\n",
       "      <td>70</td>\n",
       "      <td>1</td>\n",
       "      <td>amc rebel sst</td>\n",
       "    </tr>\n",
       "    <tr>\n",
       "      <th>4</th>\n",
       "      <td>17.0</td>\n",
       "      <td>8</td>\n",
       "      <td>302.0</td>\n",
       "      <td>140.0</td>\n",
       "      <td>3449.0</td>\n",
       "      <td>10.5</td>\n",
       "      <td>70</td>\n",
       "      <td>1</td>\n",
       "      <td>ford torino</td>\n",
       "    </tr>\n",
       "  </tbody>\n",
       "</table>\n",
       "</div>"
      ],
      "text/plain": [
       "    mpg  cylinders  displacement horsepower  weight  acceleration  model_year  \\\n",
       "0  18.0          8         307.0      130.0  3504.0          12.0          70   \n",
       "1  15.0          8         350.0      165.0  3693.0          11.5          70   \n",
       "2  18.0          8         318.0      150.0  3436.0          11.0          70   \n",
       "3  16.0          8         304.0      150.0  3433.0          12.0          70   \n",
       "4  17.0          8         302.0      140.0  3449.0          10.5          70   \n",
       "\n",
       "   origin                   car_name  \n",
       "0       1  chevrolet chevelle malibu  \n",
       "1       1          buick skylark 320  \n",
       "2       1         plymouth satellite  \n",
       "3       1              amc rebel sst  \n",
       "4       1                ford torino  "
      ]
     },
     "execution_count": 2,
     "metadata": {},
     "output_type": "execute_result"
    }
   ],
   "source": [
    "# This is our compressed data file reading, that takes just a path to a file\n",
    "df = pd.read_csv(\"../datasets/auto-mpg.txt\", sep='\\s+')\n",
    "df.head()"
   ]
  },
  {
   "cell_type": "markdown",
   "metadata": {},
   "source": [
    "Lets see what data types are present in this data frame:"
   ]
  },
  {
   "cell_type": "code",
   "execution_count": 3,
   "metadata": {},
   "outputs": [
    {
     "data": {
      "text/plain": [
       "mpg             float64\n",
       "cylinders         int64\n",
       "displacement    float64\n",
       "horsepower       object\n",
       "weight          float64\n",
       "acceleration    float64\n",
       "model_year        int64\n",
       "origin            int64\n",
       "car_name         object\n",
       "dtype: object"
      ]
     },
     "execution_count": 3,
     "metadata": {},
     "output_type": "execute_result"
    }
   ],
   "source": [
    "# dtypes or dtype is a special field available to list the datatype \n",
    "df.dtypes"
   ]
  },
  {
   "cell_type": "markdown",
   "metadata": {},
   "source": [
    "## Histograms ###"
   ]
  },
  {
   "cell_type": "markdown",
   "metadata": {},
   "source": [
    "Here is a basic code segement to generate a histogram plot from the `matplotlib` library:\n",
    "\n",
    "In an above cell, we imported this library:\n",
    "```Python\n",
    "import matplotlib.pyplot as plt\n",
    "```\n",
    "\n",
    "Now we can construct elements of a plot into a variable **`plt`**, then finally render it."
   ]
  },
  {
   "cell_type": "code",
   "execution_count": 8,
   "metadata": {},
   "outputs": [
    {
     "data": {
      "image/png": "[encoded data removed]",
      "text/plain": [
       "<Figure size 640x480 with 1 Axes>"
      ]
     },
     "metadata": {},
     "output_type": "display_data"
    }
   ],
   "source": [
    "plt.hist(                 # Use the histogram function\n",
    "    df['acceleration'],   # define a column of data to plot\n",
    "    bins=70,              # parameterize the number of buckets to collect data into\n",
    "    density=1,             # Do we want to normalize the counts into a portion of 1.0, aka 100%\n",
    "    facecolor='green',    # Define the color of the plotted elements\n",
    "    alpha=0.75            # Define the transparency of the plotted elements\n",
    "    )\n",
    "\n",
    "# Add a label to the X-axis\n",
    "plt.xlabel(\"Acceleration in Seconds\")  \n",
    "# Set the minimum and maximum of the X-axis\n",
    "plt.xlim(5, 30)                        \n",
    "\n",
    "# Render the plot\n",
    "plt.show()"
   ]
  },
  {
   "cell_type": "code",
   "execution_count": 10,
   "metadata": {},
   "outputs": [
    {
     "data": {
      "image/png": "[encoded data removed]",
      "text/plain": [
       "<Figure size 640x480 with 1 Axes>"
      ]
     },
     "metadata": {},
     "output_type": "display_data"
    }
   ],
   "source": [
    "# Note:  Each time plt.show() is called, the plot is \n",
    "#        rendered and the plt variable is reset\n",
    "plt.hist(df['acceleration'],bins=70,\n",
    "    density=0,   # Do NOT normalize the counts\n",
    "    facecolor='green',alpha=0.75)\n",
    "\n",
    "plt.xlabel(\"Acceleration in Seconds\")  \n",
    "plt.xlim(5, 30)                        \n",
    "plt.show()"
   ]
  },
  {
   "cell_type": "markdown",
   "metadata": {},
   "source": [
    "### <span style=\"background:yellow;\">YOUR TURN</span>\n",
    "\n",
    "Note the columns of the data from above:\n",
    "```\n",
    "mpg             float64\n",
    "cylinders         int64\n",
    "displacement    float64\n",
    "horsepower       object\n",
    "weight          float64\n",
    "acceleration    float64\n",
    "model_year        int64\n",
    "origin            int64\n",
    "car_name         object\n",
    "```\n",
    "Now experiment with the plotting a few different columns, as well as altering the `bins=` parameter by copying the code from above, pasting into the cells, and editing.  \n",
    "\n",
    "**Command portions to alter**\n",
    "  * `df['acceleration']`, change acceleration to a different column name.\n",
    "  * `bins=70`, change to different values and observe the changes in the visual rendering and how that affects your understanding of the data.\n",
    "\n",
    "#### 1) "
   ]
  },
  {
   "cell_type": "code",
   "execution_count": null,
   "metadata": {},
   "outputs": [],
   "source": [
    "# Add your code below this line\n",
    "# -------------------------------\n",
    "\n",
    "\n",
    "\n"
   ]
  },
  {
   "cell_type": "markdown",
   "metadata": {},
   "source": [
    "#### 2) "
   ]
  },
  {
   "cell_type": "code",
   "execution_count": null,
   "metadata": {
    "collapsed": true,
    "jupyter": {
     "outputs_hidden": true
    }
   },
   "outputs": [],
   "source": [
    "# Add your code below this line\n",
    "# -------------------------------\n",
    "\n",
    "\n",
    "\n"
   ]
  },
  {
   "cell_type": "markdown",
   "metadata": {},
   "source": [
    "#### 3) "
   ]
  },
  {
   "cell_type": "code",
   "execution_count": null,
   "metadata": {
    "collapsed": true,
    "jupyter": {
     "outputs_hidden": true
    }
   },
   "outputs": [],
   "source": [
    "# Add your code below this line\n",
    "# -------------------------------\n",
    "\n",
    "\n",
    "\n"
   ]
  },
  {
   "cell_type": "markdown",
   "metadata": {},
   "source": [
    "#### 4) "
   ]
  },
  {
   "cell_type": "code",
   "execution_count": null,
   "metadata": {
    "collapsed": true,
    "jupyter": {
     "outputs_hidden": true
    }
   },
   "outputs": [],
   "source": [
    "# Add your code below this line\n",
    "# -------------------------------\n",
    "\n",
    "\n",
    "\n"
   ]
  },
  {
   "cell_type": "markdown",
   "metadata": {},
   "source": [
    "### <span style=\"background:yellow;\">YOUR TURN</span>\n",
    "Now experiment with the `facecolor` and `alpha` parameters by copying and editing your favorite code segment above into the code cells below.  \n",
    "\n",
    "#### 1) "
   ]
  },
  {
   "cell_type": "code",
   "execution_count": null,
   "metadata": {
    "collapsed": true,
    "jupyter": {
     "outputs_hidden": true
    }
   },
   "outputs": [],
   "source": [
    "# Add your code below this line\n",
    "# -------------------------------\n",
    "\n",
    "\n",
    "\n",
    "\n",
    "\n"
   ]
  },
  {
   "cell_type": "markdown",
   "metadata": {},
   "source": [
    "#### 2) "
   ]
  },
  {
   "cell_type": "code",
   "execution_count": null,
   "metadata": {
    "collapsed": true,
    "jupyter": {
     "outputs_hidden": true
    }
   },
   "outputs": [],
   "source": [
    "# Add your code below this line\n",
    "# -------------------------------\n",
    "\n",
    "\n",
    "\n"
   ]
  },
  {
   "cell_type": "markdown",
   "metadata": {},
   "source": [
    "### Further Examples for Self-Exploration\n",
    "Numerous more examples are available here:\n",
    "  * http://matplotlib.org/1.3.0/examples/pylab_examples/histogram_demo_extended.html\n",
    "  * [Local Mirror](http://indigo.sgn.missouri.edu/static/mirror_sites/matplotlib.org/1.3.0/examples/pylab_examples/histogram_demo_extended.html)"
   ]
  },
  {
   "cell_type": "markdown",
   "metadata": {},
   "source": [
    "## Scatter Plots"
   ]
  },
  {
   "cell_type": "markdown",
   "metadata": {},
   "source": [
    "Scatter plots map data points to a grid using in the position based on two different measurements.\n",
    "For example, we can consider every point in our cars data set to be positioned at (displacement,mpg)."
   ]
  },
  {
   "cell_type": "code",
   "execution_count": null,
   "metadata": {},
   "outputs": [],
   "source": [
    "# The X value is first, Y is second\n",
    "plt.scatter(df['displacement'], df['mpg'], color='b') \n",
    "plt.xlabel(\"Displacement\")\n",
    "plt.ylabel(\"MPG\")\n",
    "plt.show()"
   ]
  },
  {
   "cell_type": "markdown",
   "metadata": {},
   "source": [
    "### <span style=\"background:yellow;\">YOUR TURN</span>\n",
    "\n",
    "Now experiment with using alternate pairs of columns by copying and editing scatter plot code segment above into the code cells below.  \n",
    "\n",
    "\n",
    "#### 1) "
   ]
  },
  {
   "cell_type": "code",
   "execution_count": null,
   "metadata": {
    "collapsed": true,
    "jupyter": {
     "outputs_hidden": true
    }
   },
   "outputs": [],
   "source": [
    "# Add your code below this line\n",
    "# -------------------------------\n",
    "\n",
    "\n",
    "\n"
   ]
  },
  {
   "cell_type": "markdown",
   "metadata": {},
   "source": [
    "#### 2) "
   ]
  },
  {
   "cell_type": "code",
   "execution_count": null,
   "metadata": {
    "collapsed": true,
    "jupyter": {
     "outputs_hidden": true
    }
   },
   "outputs": [],
   "source": [
    "# Add your code below this line\n",
    "# -------------------------------\n",
    "\n",
    "\n",
    "\n"
   ]
  },
  {
   "cell_type": "markdown",
   "metadata": {},
   "source": [
    "#### 3) "
   ]
  },
  {
   "cell_type": "code",
   "execution_count": null,
   "metadata": {
    "collapsed": true,
    "jupyter": {
     "outputs_hidden": true
    }
   },
   "outputs": [],
   "source": [
    "# Add your code below this line\n",
    "# -------------------------------\n",
    "\n",
    "\n",
    "\n"
   ]
  },
  {
   "cell_type": "markdown",
   "metadata": {},
   "source": [
    "Various options exist for plotting data.\n",
    "```\n",
    "plot(x, y)        # plot x and y using default line style and color\n",
    "plot(x, y, format)  # plot x and y using format markers\n",
    "```\n",
    "For _format_, typically a color and shape is represented.\n",
    "A partial list is provided below.\n",
    "```\n",
    "character \tdescription\n",
    "'.' \tpoint marker\n",
    "',' \tpixel marker\n",
    "'o' \tcircle marker\n",
    "'v' \ttriangle_down marker\n",
    "'^' \ttriangle_up marker\n",
    "'<' \ttriangle_left marker\n",
    "'>' \ttriangle_right marker\n",
    "```\n",
    "The following color abbreviations are supported:\n",
    "```\n",
    "character \tcolor\n",
    "‘b’ \tblue\n",
    "‘g’ \tgreen\n",
    "‘r’ \tred\n",
    "‘c’ \tcyan\n",
    "‘m’ \tmagenta\n",
    "‘y’ \tyellow\n",
    "‘k’ \tblack\n",
    "‘w’ \twhite\n",
    "```\n",
    "\n",
    "Full documentation available: http://matplotlib.org/api/pyplot_api.html#matplotlib.pyplot.plot\n",
    "\n",
    "Recall, we talked about clutter of data in a lecture.\n",
    "Approaches such as using alpha (transparency) to allow overlapping points to stack up helps visualization.\n"
   ]
  },
  {
   "cell_type": "code",
   "execution_count": null,
   "metadata": {},
   "outputs": [],
   "source": [
    "# Displaying trend lines can help emhpasize when you are trying to show with your plot\n",
    "\n",
    "# First plot the raw data\n",
    "plt.plot(df.displacement, df.mpg, 'bo', alpha=.25)\n",
    "\n",
    "plt.xlabel(\"Displacement\")\n",
    "plt.ylabel(\"MPG\")"
   ]
  },
  {
   "cell_type": "markdown",
   "metadata": {},
   "source": [
    "### <span style=\"background:yellow;\">YOUR TURN</span>\n",
    "\n",
    "From your previous scatter plots, choose the one you think will most benefit from applying transparency and density stacking to enhance the view of the clutter."
   ]
  },
  {
   "cell_type": "code",
   "execution_count": null,
   "metadata": {},
   "outputs": [],
   "source": [
    "# Add your code below this line\n",
    "# -------------------------------\n",
    "\n",
    "\n",
    "\n",
    "\n",
    "\n"
   ]
  },
  {
   "cell_type": "markdown",
   "metadata": {
    "collapsed": true,
    "jupyter": {
     "outputs_hidden": true
    }
   },
   "source": [
    "# Beyond MatplotLib\n",
    "\n",
    "There are a number of populate plotting libraries for python, beyond the brief introduction here.\n",
    "We will see some of them as you continue through this course, others you may find a future use for.\n",
    "Some are provided here for reference.\n",
    "\n",
    "\n",
    "## Seaborn\n",
    "\n",
    "`Seaborn` harnesses the power of `matplotlib` to create beautiful charts in a few lines of code. \n",
    "The key difference is `Seaborn`’s default styles and color palettes, which are designed to be more aesthetically pleasing and modern. \n",
    "Since `Seaborn` is built on top of `matplotlib`, you’ll need to know `matplotlib` to tweak `Seaborn`’s defaults.\n",
    "\n",
    "http://web.stanford.edu/~mwaskom/software/seaborn/index.html\n",
    "\n",
    "## ggplot\n",
    "\n",
    "`ggplot` is based on `ggplot2`, an R plotting system, and concepts from The Grammar of Graphics. \n",
    "`ggplot` operates differently than `matplotlib`: it lets you layer components to create a complete plot. \n",
    "For instance, you can start with axes, then add points, then a line, a trendline, etc. \n",
    "`ggplot` isn’t designed for creating highly customized graphics. \n",
    "It sacrifices complexity for a simpler method of plotting.\n",
    "\n",
    "`ggplot` is tightly integrated with `pandas`, so it’s best to store your data in a DataFrame when using `ggplot`.\n",
    "\n",
    "http://ggplot.yhathq.com/\n",
    "\n",
    "\n",
    "## Bokeh\n",
    "\n",
    "Like `ggplot`, `Bokeh` is based on The Grammar of Graphics, but unlike `ggplot`, it’s native to Python, not ported over from R. \n",
    "Its strength lies in the ability to create interactive, web-ready plots, which can be easily output as JSON objects, HTML documents, or interactive web applications. \n",
    "`Bokeh` also supports streaming and real-time data.\n",
    "\n",
    "`Bokeh` provides three interfaces with varying levels of control to accommodate different user types. \n",
    "The highest level is for creating charts quickly. \n",
    "It includes methods for creating common charts such as bar plots, box plots, and histograms. \n",
    "The middle level has the same specificity as `matplotlib` and allows you to control the basic building blocks of each chart (the dots in a scatter plot, for example). \n",
    "The lowest level is geared toward developers and software engineers. \n",
    "It has no pre-set defaults and requires you to define every element of the chart.\n",
    "\n",
    "http://bokeh.pydata.org/en/latest/ \n",
    "\n",
    " \n",
    "\n",
    "## Plotly\n",
    "\n",
    "`Plotly` is best known as an online platform for data visualization, but it can also be used in Python notebook. Like `Bokeh`, `Plotly`’s forte is making interactive plots, but it offers some charts you won’t find in most libraries, like contour plots, dendograms, and 3D charts.\n",
    "\n",
    "https://plot.ly/python/ \n",
    "\n",
    " \n",
    " ## geoplotlib\n",
    "\n",
    "`geoplotlib` is a toolbox for creating maps and plotting geographical data. \n",
    "You can use it to create a variety of map-types, like choropleths, heatmaps, and dot-density maps. \n",
    "You must have `Pyglet` (an object-oriented programming interface) installed to use `geoplotlib`. \n",
    "Nonetheless, since most Python data visualization libraries don’t offer maps, it’s nice to have a library dedicated solely to them.\n",
    "\n",
    "https://github.com/andrea-cuttone/geoplotlib\n",
    "\n",
    "## Gleam\n",
    "\n",
    "`Gleam` is inspired by R’s `Shiny` package. \n",
    "It allows you to turn analyses into interactive web apps using only Python scripts, so you don’t have to know any other languages like HTML, CSS, or JavaScript. \n",
    "`Gleam` works with any Python data visualization library. \n",
    "Once you’ve created a plot, you can build fields on top of it so users can filter and sort data.\n",
    "\n",
    "https://github.com/dgrtwo/gleam\n",
    "\n",
    "### Additional Reading / Links:\n",
    "\n",
    "    http://pbpython.com/visualization-tools-1.html\n",
    "    https://www.analyticsvidhya.com/blog/2015/05/data-visualization-python/\n"
   ]
  },
  {
   "cell_type": "markdown",
   "metadata": {},
   "source": [
    "### SAVE YOUR NOTEBOOK!! ####"
   ]
  }
 ],
 "metadata": {
  "kernelspec": {
   "display_name": "Python 3 (ipykernel)",
   "language": "python",
   "name": "python3"
  },
  "language_info": {
   "codemirror_mode": {
    "name": "ipython",
    "version": 3
   },
   "file_extension": ".py",
   "mimetype": "text/x-python",
   "name": "python",
   "nbconvert_exporter": "python",
   "pygments_lexer": "ipython3",
   "version": "3.11.9"
  }
 },
 "nbformat": 4,
 "nbformat_minor": 4
}
