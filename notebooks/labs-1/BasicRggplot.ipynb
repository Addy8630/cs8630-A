{
 "cells": [
  {
   "cell_type": "markdown",
   "metadata": {},
   "source": [
    "# Basic Plotting with Grammar of Graphics, R Library\n",
    "\n"
   ]
  },
  {
   "cell_type": "markdown",
   "metadata": {},
   "source": [
    "R has some bult in plot capabilities, such as histograms and scatter plots as more.\n",
    "Additionally, like Python, there are numerous additional libraries for enhanced plotting."
   ]
  },
  {
   "cell_type": "code",
   "execution_count": null,
   "metadata": {
    "collapsed": true
   },
   "outputs": [],
   "source": [
    "# df is a variable, named df, that holds the memory returned by the function call.\n",
    "#      # This is a function call, the module \"read\" has a function csv() for reading\n",
    "#      # csv files.\n",
    "df <- read.csv(\"/dsa/data/all_datasets/auto-mpg/auto-mpg.csv\")"
   ]
  },
  {
   "cell_type": "code",
   "execution_count": null,
   "metadata": {},
   "outputs": [],
   "source": [
    "# Simple Histogram\n",
    "hist(df$mpg)"
   ]
  },
  {
   "cell_type": "code",
   "execution_count": null,
   "metadata": {},
   "outputs": [],
   "source": [
    "# Kernel Density Plot\n",
    "d <- density(df$mpg) # returns the density data\n",
    "plot(d) # plots the results "
   ]
  },
  {
   "cell_type": "code",
   "execution_count": null,
   "metadata": {},
   "outputs": [],
   "source": [
    "# Here we are use quick plot, qplot from the ggplot2 library\n",
    "library(ggplot2)\n",
    "qplot(df$mpg,bins = 20,xlab='MPG')"
   ]
  },
  {
   "cell_type": "markdown",
   "metadata": {},
   "source": [
    "### <span style=\"background:yellow;\">YOUR TURN</span>\n",
    "\n",
    "Note the columns of the data from above:\n",
    "```\n",
    "mpg             float64\n",
    "cylinders         int64\n",
    "displacement    float64\n",
    "horsepower       object\n",
    "weight          float64\n",
    "acceleration    float64\n",
    "model_year        int64\n",
    "origin            int64\n",
    "car_name         object\n",
    "```\n",
    "Now experiment with the plotting a few different columns, as well as altering the `bins=` parameter by copying the code from above, pasting into the cells, and editing.  \n",
    "\n",
    "**Command portions to alter**\n",
    "  * `df$mpg`, change acceleration to a different column name.\n",
    "  * `bins=70`, change to different values and observe the changes in the visual rendering and how that affects your understanding of the data.\n",
    "\n",
    "#### 1) "
   ]
  },
  {
   "cell_type": "code",
   "execution_count": null,
   "metadata": {
    "collapsed": true
   },
   "outputs": [],
   "source": [
    "# Add your code below this line\n",
    "# -------------------------------\n",
    "\n",
    "\n",
    "\n"
   ]
  },
  {
   "cell_type": "markdown",
   "metadata": {},
   "source": [
    "#### 2) "
   ]
  },
  {
   "cell_type": "code",
   "execution_count": null,
   "metadata": {
    "collapsed": true
   },
   "outputs": [],
   "source": [
    "# Add your code below this line\n",
    "# -------------------------------\n",
    "\n",
    "\n",
    "\n"
   ]
  },
  {
   "cell_type": "markdown",
   "metadata": {},
   "source": [
    "## Scatter Plot"
   ]
  },
  {
   "cell_type": "code",
   "execution_count": null,
   "metadata": {},
   "outputs": [],
   "source": [
    "# Plot does X,Y scatter plots\n",
    "plot(df$mpg, df$displacement, main=\"MPG vs. Discplacement\",\n",
    "   xlab=\"MPG \", ylab=\"Displacement \", pch=19) "
   ]
  },
  {
   "cell_type": "markdown",
   "metadata": {},
   "source": [
    "### <span style=\"background:yellow;\">YOUR TURN</span>\n",
    "\n",
    "Please add two other pairs of variables using the `plot()` function.\n",
    "\n",
    "#### 1)\n"
   ]
  },
  {
   "cell_type": "code",
   "execution_count": null,
   "metadata": {
    "collapsed": true
   },
   "outputs": [],
   "source": [
    "# Add your code below this line\n",
    "# -------------------------------\n",
    "\n",
    "\n",
    "\n"
   ]
  },
  {
   "cell_type": "markdown",
   "metadata": {},
   "source": [
    "#### 2)"
   ]
  },
  {
   "cell_type": "code",
   "execution_count": null,
   "metadata": {
    "collapsed": true
   },
   "outputs": [],
   "source": [
    "# Add your code below this line\n",
    "# -------------------------------\n",
    "\n",
    "\n",
    "\n"
   ]
  },
  {
   "cell_type": "markdown",
   "metadata": {},
   "source": [
    "## Grammar of Graphics\n",
    "\n",
    "In this section, we bring the Grammar Graphics plotting library (ggplot2) into use.  "
   ]
  },
  {
   "cell_type": "code",
   "execution_count": null,
   "metadata": {},
   "outputs": [],
   "source": [
    "library(ggplot2)\n",
    "\n",
    "# Plot dataframe, use the mpg as the x-axis and the displacement as the y access\n",
    "#          # Add an aesthetic, which is the data \n",
    "ggplot(df, aes(x=mpg,y=displacement)) +  # Note, the plus here lets R know that the command will coninue\n",
    "# Add a X axis label\n",
    " xlab(\"MPG\") +\n",
    "# Add a Y axis label\n",
    " ylab(\"Discplacement\") +\n",
    "# set the data plotting to be points\n",
    " geom_point()"
   ]
  },
  {
   "cell_type": "markdown",
   "metadata": {},
   "source": [
    "### <span style=\"background:yellow;\">YOUR TURN</span>\n",
    "\n",
    "Consider the scatter plot above.\n",
    "Copy all the of the code into the cell below, then attempt to set the aesthetic where the nominal value cylinders determines the plotted color.\n",
    "\n",
    "Hint:\n",
    "```R\n",
    "aes(color = cylinders)\n",
    "```"
   ]
  },
  {
   "cell_type": "code",
   "execution_count": null,
   "metadata": {
    "collapsed": true
   },
   "outputs": [],
   "source": [
    "# Add your code below this line\n",
    "# -------------------------------\n",
    "\n",
    "\n",
    "\n"
   ]
  },
  {
   "cell_type": "markdown",
   "metadata": {},
   "source": [
    "# SAVE YOUR NOTEBOOK"
   ]
  }
 ],
 "metadata": {
  "kernelspec": {
   "display_name": "R",
   "language": "R",
   "name": "ir"
  },
  "language_info": {
   "codemirror_mode": "r",
   "file_extension": ".r",
   "mimetype": "text/x-r-source",
   "name": "R",
   "pygments_lexer": "r",
   "version": "3.4.0"
  }
 },
 "nbformat": 4,
 "nbformat_minor": 1
}
