{
 "cells": [
  {
   "cell_type": "markdown",
   "metadata": {},
   "source": [
    "# Getting Started with `NumPy` \n",
    "\n",
    "\n",
    "[**`NumPy`**](http://www.numpy.org/) is one of the fundamental packages for conducting any type of data science or data analysis project in `Python`. \n",
    "It seemlessly integrates with other packages like `scikit-learn` or `pandas` and provides an extensive mathematical library to perform analyses or build learning algorithms. \n",
    "\n",
    "Throughout this course (and the entire PSDS program) we will rely heavily on the `NumPy` package for data analysis. \n",
    "In this notebook we cover some of the data types that `NumPy` affords us as well as some of the methods that are commonly used.\n",
    "\n",
    "\n",
    "------\n",
    " ## What we'll cover...\n",
    " \n",
    "1. [Creating an Array](#array)\n",
    "2. [Array Indexing](#indexing)\n",
    "3. [Array Math](#math)\n",
    "4. [Array Methods](#methods)\n",
    "5. [Subsetting](#subset)\n",
    "6. [Joining Arrays](#joining)\n",
    "\n",
    "------\n"
   ]
  },
  {
   "cell_type": "markdown",
   "metadata": {},
   "source": [
    "<a id='array'></a>\n",
    "## 1. Creating an Array\n",
    "\n",
    "One of the most popular objects that `NumPy` provides is the the `numpy.array`. These arrays come with a variety of methods that can be run on them, but before we begin to do anything interesting with arrays, we first need to learn how to create them. "
   ]
  },
  {
   "cell_type": "code",
   "execution_count": null,
   "metadata": {},
   "outputs": [],
   "source": [
    "# Import the NumPy library and call it by a shorthand nickname 'np' using the 'as' statement\n",
    "import numpy as np\n",
    "\n",
    "one_d_data = np.array([10,20,30,40,50,60,70,80,90], dtype=np.int)\n",
    "\n",
    "print(one_d_data)\n",
    "print()\n",
    "\n",
    "two_d_data = np.array([[10,20,30,40,50,60,70,80,90], \n",
    "                       [11,21,31,41,51,61,71,81,91], \n",
    "                       [12,22,32,42,52,62,72,82,92]\n",
    "                      ]\n",
    "                       , dtype=np.int)\n",
    "\n",
    "print(two_d_data)\n"
   ]
  },
  {
   "cell_type": "markdown",
   "metadata": {},
   "source": [
    "The `np.array()` method creates an array from our list of lists. In this case, it is a 2-dimensional array, which can be thought of as having one dimension of rows and one dimension of columns.  We can take a look at the shape (size) of this array by doing doing the following..."
   ]
  },
  {
   "cell_type": "code",
   "execution_count": null,
   "metadata": {},
   "outputs": [],
   "source": [
    "two_d_data.shape"
   ]
  },
  {
   "cell_type": "markdown",
   "metadata": {},
   "source": [
    "`two_d_data.shape` returns a tuple object, where the first value is the number of items in the first dimension (number of rows) and the second is the number of items in the second dimension (number of columns). \n",
    "This (row, column) notation will come up over and over in `NumPy` as well as other data science libraries such as `pandas`, so be sure remember which is which."
   ]
  },
  {
   "cell_type": "markdown",
   "metadata": {},
   "source": [
    "### Alternative ways to creating arrays\n",
    "\n",
    "We can also create our own arrays by simply specifying a list or tuple of values. Below are some of the ways we can construct arrays.\n",
    "\n",
    "We can pass the `np.array()` method a list of values..."
   ]
  },
  {
   "cell_type": "markdown",
   "metadata": {},
   "source": [
    "You can also create arrays with different data types as inputs. However, since all of the data types of a single array have to be of the same type, the output will coerce the `int`s to `strings` so each of the numeric values will be shown inside a pair of single quotes, e.g. '1'."
   ]
  },
  {
   "cell_type": "code",
   "execution_count": null,
   "metadata": {},
   "outputs": [],
   "source": [
    "np.array(['x', 'y', 0, 1])"
   ]
  },
  {
   "cell_type": "markdown",
   "metadata": {},
   "source": [
    "We can even create an array of 0s. The `.zeros()` method can take a tuple as an argument that specifies the number of rows and columns that we would like. Notice how the code below creates an array of all zeros with 4 rows and 5 columns."
   ]
  },
  {
   "cell_type": "code",
   "execution_count": null,
   "metadata": {},
   "outputs": [],
   "source": [
    "np.zeros((4,5))"
   ]
  },
  {
   "cell_type": "markdown",
   "metadata": {},
   "source": [
    "The `np.arange()` method will return an array with a sequence of evenly spaced intervals. If you only specify one number, an array of that length will be returned starting at the index of 0."
   ]
  },
  {
   "cell_type": "code",
   "execution_count": null,
   "metadata": {},
   "outputs": [],
   "source": [
    "np.arange(6)"
   ]
  },
  {
   "cell_type": "markdown",
   "metadata": {},
   "source": [
    "If you pass two integers, then it will return an array starting at the first value and going to, but not including, the second. You can also specify the data type that you wish for it to be."
   ]
  },
  {
   "cell_type": "code",
   "execution_count": null,
   "metadata": {},
   "outputs": [],
   "source": [
    "np.arange(2, 10, dtype=np.float)"
   ]
  },
  {
   "cell_type": "markdown",
   "metadata": {},
   "source": [
    "If you add a third number, that will then become the interval spacing. In the example below, the code creates an array that begins at 2, ends at 5 (but doesn't include it), and every value in between should be .5 greater than the value before it."
   ]
  },
  {
   "cell_type": "code",
   "execution_count": null,
   "metadata": {},
   "outputs": [],
   "source": [
    "np.arange(2, 5, 0.5)"
   ]
  },
  {
   "cell_type": "markdown",
   "metadata": {},
   "source": [
    "Finally, we can create an array of random values as well..."
   ]
  },
  {
   "cell_type": "code",
   "execution_count": null,
   "metadata": {},
   "outputs": [],
   "source": [
    "np.random.rand(3,3)"
   ]
  },
  {
   "cell_type": "markdown",
   "metadata": {},
   "source": [
    "-----\n",
    "\n",
    "<a id='indexing'></a>\n",
    "## 2. Array Indexing\n",
    "\n",
    "One of the major benefits of using `NumPy` is its indexing capabilities. Unlike the string of string method used above, we can easily extract entire rows **and** columns, or slices of them.\n",
    "\n",
    "The `[]` square brackets allow us to access elements of the NumPy array.\n",
    "In the case of one-dimensional arrays, a single numerical value in the `[]` will access the data element.\n",
    "In Python, the array indexing, like `list` indexing, is **zero-based**. \n",
    "Therefore, the first element is [0], the second is [1], and so on.\n"
   ]
  },
  {
   "cell_type": "code",
   "execution_count": null,
   "metadata": {},
   "outputs": [],
   "source": [
    "myArray = np.array(['A','B','C','D'])\n",
    "\n",
    "print(\"First element is index [0], which equals : \",myArray[0])\n",
    "print(\"Fourth and last element is index [3], which equals : \",myArray[3])"
   ]
  },
  {
   "cell_type": "markdown",
   "metadata": {},
   "source": [
    "\n",
    "If the array is two-dimensional, we can select data using the row index specified as the first number and the column as the second. \n",
    "For example, if we want to select the value at row-index 2 and column-index 4, we do this..."
   ]
  },
  {
   "cell_type": "code",
   "execution_count": null,
   "metadata": {},
   "outputs": [],
   "source": [
    "print(two_d_data)\n",
    "print()\n",
    "\n",
    "print(\"Element at row index 2 and column index 4 equals :\", two_d_data[2,4])"
   ]
  },
  {
   "cell_type": "markdown",
   "metadata": {},
   "source": [
    "Or we can take slices of the array by specifying a range of values. \n",
    "For example, if we wanted the second row of the fourth through seventh column, we would do this..."
   ]
  },
  {
   "cell_type": "code",
   "execution_count": null,
   "metadata": {},
   "outputs": [],
   "source": [
    "two_d_data[1, 3:7]"
   ]
  },
  {
   "cell_type": "markdown",
   "metadata": {},
   "source": [
    "And if we wanted the entire second row, we would do this..."
   ]
  },
  {
   "cell_type": "code",
   "execution_count": null,
   "metadata": {},
   "outputs": [],
   "source": [
    "two_d_data[1,]"
   ]
  },
  {
   "cell_type": "markdown",
   "metadata": {},
   "source": [
    "However, if you want to select an entire column, you will have to provide the `:` operator in the row-index position like so...\n",
    "\n",
    "This syntax is simply a shortcut, or default, for the entire row."
   ]
  },
  {
   "cell_type": "code",
   "execution_count": null,
   "metadata": {},
   "outputs": [],
   "source": [
    "print(two_d_data[:,4])"
   ]
  },
  {
   "cell_type": "markdown",
   "metadata": {},
   "source": [
    "### Modifying the array\n",
    "\n",
    "Indexing is particularly important when it comes to modifying values of the array. For these next couple of code blocks, we are going to be working with a copy of the `two_d_data` array. \n",
    "One might think that you could just create a copy by using the assignment operator, `=` like so:\n",
    "\n",
    "```python \n",
    "two_d_data_copy = two_d_data\n",
    "```\n",
    "\n",
    "However, with `NumPy` arrays, any future modification you make to the `two_d_data_cp` will also modify the `two_d_data` array.<br><br>\n",
    "So be careful! <br><br>\n",
    "If you need to create a copy of the `two_d_data` array you should **always** use the `np.copy()` method. "
   ]
  },
  {
   "cell_type": "code",
   "execution_count": null,
   "metadata": {
    "collapsed": true
   },
   "outputs": [],
   "source": [
    "two_d_data_copy = np.copy(two_d_data)"
   ]
  },
  {
   "cell_type": "markdown",
   "metadata": {},
   "source": [
    "Now, if we want to change the value at any particular point we could just select the value by its indexes and assign it a new value like so..."
   ]
  },
  {
   "cell_type": "code",
   "execution_count": null,
   "metadata": {},
   "outputs": [],
   "source": [
    "two_d_data_copy[2,5] = 65\n",
    "print(\"The original value of two_d_data[2,5] was {} but now it is {}.\"\n",
    "      .format(two_d_data[2,5],two_d_data_copy[2,5]))"
   ]
  },
  {
   "cell_type": "markdown",
   "metadata": {},
   "source": [
    "We can also change the value of an entire slice. If we wanted to change the entire 4th column to the value 400, you can do that."
   ]
  },
  {
   "cell_type": "code",
   "execution_count": null,
   "metadata": {},
   "outputs": [],
   "source": [
    "two_d_data_copy[:,3]= 400\n",
    "\n",
    "print(\"The first few values of the 4th column (index = 3) of the two_d_data array were {} and now they are {}.\"\n",
    "      .format(two_d_data[0:2,3],two_d_data_copy[0:2,3]))\n"
   ]
  },
  {
   "cell_type": "markdown",
   "metadata": {},
   "source": [
    "---\n",
    "\n",
    "<a id='math'></a>\n",
    "## 3. Array Math\n",
    "\n",
    "One of the major strengths of `NumPy` is it can easily perform a variety of mathematical operations on arrays. Let's take a look a the column that we will be modifying in the next few exercises... "
   ]
  },
  {
   "cell_type": "code",
   "execution_count": null,
   "metadata": {},
   "outputs": [],
   "source": [
    "two_d_data_copy = np.copy(two_d_data)\n",
    "two_d_data_copy[:,3]"
   ]
  },
  {
   "cell_type": "markdown",
   "metadata": {},
   "source": [
    "If we wanted to add 10 to every value in this column, all we would have to do is specify the column, the operator `+` and then `10`"
   ]
  },
  {
   "cell_type": "code",
   "execution_count": null,
   "metadata": {},
   "outputs": [],
   "source": [
    "two_d_data_copy[:,3] + 10"
   ]
  },
  {
   "cell_type": "markdown",
   "metadata": {},
   "source": [
    "Similarly with subtraction..."
   ]
  },
  {
   "cell_type": "code",
   "execution_count": null,
   "metadata": {},
   "outputs": [],
   "source": [
    "two_d_data_copy[:,3] - 10"
   ]
  },
  {
   "cell_type": "markdown",
   "metadata": {},
   "source": [
    "Multiplication!"
   ]
  },
  {
   "cell_type": "code",
   "execution_count": null,
   "metadata": {},
   "outputs": [],
   "source": [
    "two_d_data_copy[:,3] * .01"
   ]
  },
  {
   "cell_type": "markdown",
   "metadata": {},
   "source": [
    "...or divide by 100."
   ]
  },
  {
   "cell_type": "code",
   "execution_count": null,
   "metadata": {},
   "outputs": [],
   "source": [
    "two_d_data_copy[:,3] / 100"
   ]
  },
  {
   "cell_type": "markdown",
   "metadata": {},
   "source": [
    "We can also perform operations between arrays. Take for example, multiplying column 4 by column 4..."
   ]
  },
  {
   "cell_type": "code",
   "execution_count": null,
   "metadata": {},
   "outputs": [],
   "source": [
    "two_d_data_copy[:,3] * two_d_data_copy[:,3]"
   ]
  },
  {
   "cell_type": "markdown",
   "metadata": {},
   "source": [
    "----\n",
    "<a id='methods'></a>\n",
    "## 4. Array Methods\n",
    "\n",
    "`NumPy` also provides a variety of convenient array methods to make our life easier. For example, if we wanted to find the sum of all of the values in the 4th column, we can simply use the `sum()` method."
   ]
  },
  {
   "cell_type": "code",
   "execution_count": null,
   "metadata": {},
   "outputs": [],
   "source": [
    "# Methods are invoked on an array using the '.' notation then the function name\n",
    "\n",
    "a = two_d_data[:,3]\n",
    "a.sum() "
   ]
  },
  {
   "cell_type": "markdown",
   "metadata": {},
   "source": [
    "We may also want to know the range of values using the `min()` and `max()` functions.\n",
    "Note, we chain the subsetting to the function call."
   ]
  },
  {
   "cell_type": "code",
   "execution_count": null,
   "metadata": {},
   "outputs": [],
   "source": [
    "two_d_data[:,3].min()"
   ]
  },
  {
   "cell_type": "code",
   "execution_count": null,
   "metadata": {},
   "outputs": [],
   "source": [
    "two_d_data[:,3].max()"
   ]
  },
  {
   "cell_type": "markdown",
   "metadata": {},
   "source": [
    "The `two_d_data` array currently has 3 rows and 9 columns. There are situations in which you may want to transpose the array so that the rows become the columns and the columns become the rows. In order to do that, you simply call the `.transpose()` method."
   ]
  },
  {
   "cell_type": "code",
   "execution_count": null,
   "metadata": {},
   "outputs": [],
   "source": [
    "two_d_data_tr = two_d_data.transpose()\n",
    "two_d_data_tr.shape"
   ]
  },
  {
   "cell_type": "markdown",
   "metadata": {},
   "source": [
    "----\n",
    "<a id='subset'></a>\n",
    "## 5. Subsetting\n",
    "\n",
    "We may also want to subset the array based on the values meeting  particular conditions. \n",
    "We can use  logical operators to return an array of `bool`s, which can then be used to subset our array.\n",
    "\n",
    "In this example, we will scan all rows and return the rows such that the fourth element is greater than or equal to 41."
   ]
  },
  {
   "cell_type": "code",
   "execution_count": null,
   "metadata": {},
   "outputs": [],
   "source": [
    "two_d_data[:,3] >= 41"
   ]
  },
  {
   "cell_type": "markdown",
   "metadata": {},
   "source": [
    "We can now name this array something, and then use it as our row subsetter like so..."
   ]
  },
  {
   "cell_type": "code",
   "execution_count": null,
   "metadata": {},
   "outputs": [],
   "source": [
    "subset_rows = two_d_data[:,3] >= 41\n",
    "two_d_data[subset_rows,:]"
   ]
  },
  {
   "cell_type": "markdown",
   "metadata": {},
   "source": [
    "As we can see, only 2 rows (the last two of the original three row) are returned from the array and note that the value of the 4th item in each list is >= 41. \n",
    "\n",
    "We can also specify multiple conditions."
   ]
  },
  {
   "cell_type": "code",
   "execution_count": null,
   "metadata": {},
   "outputs": [],
   "source": [
    "subset_rows = (two_d_data[:,3] >= 41) & (two_d_data[:,7] >= 82)\n",
    "\n",
    "two_d_data[subset_rows,:]"
   ]
  },
  {
   "cell_type": "markdown",
   "metadata": {},
   "source": [
    "When joining logical conditions:\n",
    "  * use the `&` symbol to signify conjunction (and)\n",
    "  * use the `|` symbol to signify conjunction (or) <br><br> \n",
    "Be careful when combining `&` and `|`.\n",
    "\n",
    "\n",
    "---\n",
    "\n",
    "<a id='joining'></a>\n",
    "## 6. Joining Arrays\n",
    "\n",
    "We can also join arrays. \n",
    "NumPy has numerous methods to join arrays, the most common are:\n",
    "  * hstack - Horizontal stack\n",
    "  * vstack - Vertical stack\n",
    "  * dstack - depth stack arrays, i.e., along z-axis"
   ]
  },
  {
   "cell_type": "code",
   "execution_count": null,
   "metadata": {
    "collapsed": true
   },
   "outputs": [],
   "source": [
    "# define a few 1x3 arrays\n",
    "\n",
    "abc = np.array(['a','b','c'])\n",
    "dfg = np.array(['d','f','g'])\n",
    "hij = np.array(['h','i','j'])\n",
    "klm = np.array(['k','l','m'])"
   ]
  },
  {
   "cell_type": "code",
   "execution_count": null,
   "metadata": {},
   "outputs": [],
   "source": [
    "# Notice that the argument is (abc, dfg), which is a tuple group of two variables\n",
    "\n",
    "np.hstack(\n",
    "        (abc, dfg)\n",
    "        )"
   ]
  },
  {
   "cell_type": "code",
   "execution_count": null,
   "metadata": {},
   "outputs": [],
   "source": [
    "# We can use any size tuple, not just two elements\n",
    "\n",
    "np.hstack(\n",
    "        (abc, dfg,hij,klm)\n",
    "        )"
   ]
  },
  {
   "cell_type": "code",
   "execution_count": null,
   "metadata": {},
   "outputs": [],
   "source": [
    "# Vertically stacking\n",
    "\n",
    "mat1 = np.vstack((hij, klm))  # Assigned to a variable for later use\n",
    "\n",
    "print(mat1)"
   ]
  },
  {
   "cell_type": "code",
   "execution_count": null,
   "metadata": {},
   "outputs": [],
   "source": [
    "# Vertically Stacking another\n",
    "\n",
    "mat2 = np.vstack((abc, dfg))\n",
    "print(mat2)\n",
    "\n",
    "# Depth stacking creating a 3-D array\n",
    "\n",
    "np.dstack((mat2, mat1))"
   ]
  },
  {
   "cell_type": "markdown",
   "metadata": {
    "collapsed": true
   },
   "source": [
    "---\n",
    "\n",
    "### Digging Deeper\n",
    "1. https://docs.scipy.org/doc/numpy-dev/user/quickstart.html\n",
    "2. http://cs231n.github.io/python-numpy-tutorial/#numpy\n",
    "\n",
    "---\n",
    "\n",
    "# SAVE YOUR NOTEBOOK!!"
   ]
  }
 ],
 "metadata": {
  "kernelspec": {
   "display_name": "Python 3",
   "language": "python",
   "name": "python3"
  },
  "language_info": {
   "codemirror_mode": {
    "name": "ipython",
    "version": 3
   },
   "file_extension": ".py",
   "mimetype": "text/x-python",
   "name": "python",
   "nbconvert_exporter": "python",
   "pygments_lexer": "ipython3",
   "version": "3.4.5"
  }
 },
 "nbformat": 4,
 "nbformat_minor": 1
}
