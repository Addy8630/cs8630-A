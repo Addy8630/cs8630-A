{
 "cells": [
  {
   "cell_type": "markdown",
   "metadata": {},
   "source": [
    "# R"
   ]
  },
  {
   "cell_type": "markdown",
   "metadata": {},
   "source": [
    "R is a free, independent, open-source platform for data analysis, statistics and graphing which uses the S programming language. \n",
    "All of that is really great, because there are almost limitless resources available online to help you if you get stuck (individuals, companies and institutions have set up R resources to provide tutorials, data packages, etc.). \n",
    "\n",
    "The R Project is progressing due to the work of contributors who grow the available documentation and capacities by adding new packages and functions.\n",
    "\n",
    "In this lab, you are going to be exposed to the basics of data science with `R`. \n",
    "This will include reading in data and very simple data manipulation in base `R`.\n",
    "\n",
    "**R Reference Links:**\n",
    "\n",
    "  * Local Reference [Manuals](/static/mirror_sites/cran.r-project.org/manuals.html)\n",
    "  * Local Reference [Other Docs](/static/mirror_sites/www.r-project.org/other-docs.html)"
   ]
  },
  {
   "cell_type": "markdown",
   "metadata": {},
   "source": [
    "---\n",
    "If you have learned python or another language, R will have some famliar concepts.\n",
    "Basically, you read data into _Data Frames_ or tables.  In Python, you use the `pandas` data frame, which is loosely inspired by data frames in languages such as R.\n",
    "Once the data is in memory, and refernced by a variable name, we can potentiall manipulate it.\n",
    "Finally, as we did with python, we will visualize the data.\n",
    "\n",
    "You will see that for most languages, certain concepts appear over and over again; and only the syntax of the language is different.\n",
    "\n",
    "\n",
    "### Read in data\n",
    "\n",
    "The `read.csv` function creates a data frame from a file. \n",
    "In this example, we read in the data set, `auto-mpg.csv`"
   ]
  },
  {
   "cell_type": "code",
   "execution_count": null,
   "metadata": {},
   "outputs": [],
   "source": [
    "# df is a variable, named df, that holds the memory returned by the function call.\n",
    "#      # This is a function call, the module \"read\" has a function csv() for reading\n",
    "#      # csv files.\n",
    "df <- read.csv(\"/dsa/data/all_datasets/auto-mpg/auto-mpg.csv\")"
   ]
  },
  {
   "cell_type": "markdown",
   "metadata": {},
   "source": [
    "Take a look at the first few rows below.  \n",
    "Note, in Python, using the pandas, we called the below as `df.head()`.  \n",
    "They are the same concept, just sytactically different."
   ]
  },
  {
   "cell_type": "code",
   "execution_count": null,
   "metadata": {},
   "outputs": [],
   "source": [
    "head(df)"
   ]
  },
  {
   "cell_type": "markdown",
   "metadata": {},
   "source": [
    "## Subsetting\n",
    "\n",
    "Subsetting allows you to reduce a dataframe, either by rows or columns or both. \n",
    "Below are a few examples of subsetting the R data frame.\n",
    "In the R bootcamp course, you are (or will be) exposed to the DPLYR library which provides much more capability.\n",
    "\n",
    "In python, we say that we access a column by listing it in square brackets, ` [  ] `.\n",
    "Such as `df['acceleration']`.\n",
    "\n",
    "In R, the sytntax is to use a `$` instead of   ` [  ] `.\n",
    "So, `df$acceleration`"
   ]
  },
  {
   "cell_type": "code",
   "execution_count": null,
   "metadata": {},
   "outputs": [],
   "source": [
    "accl <- df$acceleration\n",
    "head(accl)"
   ]
  },
  {
   "cell_type": "markdown",
   "metadata": {},
   "source": [
    "If we want to select mulitple columns out, we put the column names into a list.\n",
    "Then use the square brackets, passing in the list of columns.\n",
    "\n"
   ]
  },
  {
   "cell_type": "code",
   "execution_count": null,
   "metadata": {},
   "outputs": [],
   "source": [
    "# select variables mpg, displacement, acceleration\n",
    "mycols <- c(\"mpg\", \"displacement\", \"acceleration\")   # c() combines these into a list of values\n",
    "newdata <- df[mycols] # Now we see the square brackets.\n",
    "head(newdata)"
   ]
  },
  {
   "cell_type": "markdown",
   "metadata": {},
   "source": [
    "We can also sub-divide a dataset by rows!\n"
   ]
  },
  {
   "cell_type": "code",
   "execution_count": null,
   "metadata": {},
   "outputs": [],
   "source": [
    "# Generate a sub set where the cylinders column holds the value 8 and assign to a variable, eight\n",
    "eight <- subset(df, cylinders == 8) \n",
    "# Generate a sub set where the cylinders column holds the value 4 and assign to a variable, four\n",
    "four <- subset(df,  cylinders == 4)\n",
    "head(eight)"
   ]
  },
  {
   "cell_type": "code",
   "execution_count": null,
   "metadata": {},
   "outputs": [],
   "source": [
    "head(four)"
   ]
  }
 ],
 "metadata": {
  "kernelspec": {
   "display_name": "R",
   "language": "R",
   "name": "ir"
  },
  "language_info": {
   "codemirror_mode": "r",
   "file_extension": ".r",
   "mimetype": "text/x-r-source",
   "name": "R",
   "pygments_lexer": "r",
   "version": "3.4.0"
  }
 },
 "nbformat": 4,
 "nbformat_minor": 1
}
