{
 "cells": [
  {
   "cell_type": "markdown",
   "metadata": {},
   "source": [
    "# Basics of Python\n",
    "\n",
    "## Computational Statistics\n",
    "\n",
    "Data Science relies on the use of computational technologies to process large amounts of data.\n",
    "These technologies include Python, R, and other computing languages; \n",
    "along with an ever-growing selection of Big Data computational ecosystems.<br><br>\n",
    "\n",
    "In this course we will use both Python and R programming languages in concert with a variety of advanced libaries for visualization.\n",
    "\n",
    "If Python is familiar to you, you may want to skip over this."
   ]
  },
  {
   "cell_type": "markdown",
   "metadata": {},
   "source": [
    "### Python : A Swiss Army Knife for Data Science\n",
    "\n",
    "Python is a widely used *general-purpose, high-level* programming language. \n",
    "Python supports multiple programming paradigms, including object-oriented, imperative and functional programming or procedural styles. \n",
    "It features a dynamic type system and automatic memory management and has a large and comprehensive standard library.<br><br>\n",
    "Python is an interpreted language, so you can simply write and run your code, i.e. you do not need to compile your code.  \n",
    "Additionally, Python environments have a kernel execution giving you command prompt to type in Python commands. \n"
   ]
  },
  {
   "cell_type": "markdown",
   "metadata": {},
   "source": [
    "## Variables\n",
    "\n",
    "**Variables** are named values or objects *stored in memory* in the Python computational environment.\n",
    "Variables can represent numerical values, textual values (strings), collections, and objects.\n",
    "\n",
    "In this example, three variables are declared, `x`, `y`, `z`.\n",
    "The first two have literal numerical values assigned.\n",
    "The latter, `z`, has the result of a computation assigned."
   ]
  },
  {
   "cell_type": "code",
   "execution_count": null,
   "metadata": {
    "collapsed": false
   },
   "outputs": [],
   "source": [
    "x = 1\n",
    "y = 2\n",
    "z = x + y"
   ]
  },
  {
   "cell_type": "markdown",
   "metadata": {},
   "source": [
    "## Printing Output\n",
    "\n",
    "Python has an advanced output / printing capability.\n",
    "Typically,  _print_ is used for simple printing needs.  However, there are more advanced printing functions that can be loaded from a Python library, such as _pretty print_, for specialized data elements."
   ]
  },
  {
   "cell_type": "code",
   "execution_count": null,
   "metadata": {
    "collapsed": false
   },
   "outputs": [],
   "source": [
    "print(\"Hello Data Scientists\")\n",
    "print(\"This is a more complex print: z = \", z)\n",
    "print(\"This is a parameterized print: {} + {} = {}\".format(x,y,z))"
   ]
  },
  {
   "cell_type": "markdown",
   "metadata": {},
   "source": [
    "## Functions\n",
    "\n",
    "**Functions** are units of computational steps that take a specific set of inputs and state information and produce a predictable output.\n",
    "We just saw the _print_ function.\n",
    "You will encounter a broad collection of functions throughout this course.\n",
    "\n",
    "Functions are indentified as an element followed by parathenses.\n",
    "The parathenses may have 0 or more _parameters_, which are a comma separated list.\n",
    "\n",
    "Example: The _print_ function above was called with a single argument, `\"Hello Data Scientists\"`.\n",
    "```\n",
    "print(\"Hello Data Scientists\")\n",
    "```\n",
    "\n",
    "A useful function is the _help_ function.\n",
    "You can pass as its argmument most variables or functions."
   ]
  },
  {
   "cell_type": "code",
   "execution_count": null,
   "metadata": {
    "collapsed": false,
    "scrolled": true
   },
   "outputs": [],
   "source": [
    "# This line is a comment\n",
    "# w is a floating point number, 1.2\n",
    "w = 1.2\n",
    "help(w)"
   ]
  },
  {
   "cell_type": "code",
   "execution_count": null,
   "metadata": {
    "collapsed": false
   },
   "outputs": [],
   "source": [
    "# Help on a function\n",
    "help(print)"
   ]
  },
  {
   "cell_type": "markdown",
   "metadata": {},
   "source": [
    "#### The next few labs drill down into some particular Python libraries that are relevant to the course material."
   ]
  }
 ],
 "metadata": {
  "kernelspec": {
   "display_name": "Python 3",
   "language": "python",
   "name": "python3"
  },
  "language_info": {
   "codemirror_mode": {
    "name": "ipython",
    "version": 3
   },
   "file_extension": ".py",
   "mimetype": "text/x-python",
   "name": "python",
   "nbconvert_exporter": "python",
   "pygments_lexer": "ipython3",
   "version": "3.4.3"
  }
 },
 "nbformat": 4,
 "nbformat_minor": 1
}
