{
 "cells": [
  {
   "cell_type": "markdown",
   "metadata": {},
   "source": [
    "# Module 3 Lab - Elements of Visualization\n",
    "\n",
    "#### This is an R Notebook"
   ]
  },
  {
   "cell_type": "markdown",
   "metadata": {},
   "source": [
    "Different elements of visualization discussed in the slides play important role when plotting maps.\n",
    "\n"
   ]
  },
  {
   "cell_type": "markdown",
   "metadata": {},
   "source": [
    "The following dataset we are going to use tried to answer the question, if eye color depends on gender?. \n",
    "\n",
    "According to the data source, data on eye color and gender were collected from students enrolled in an introductory statistics \n",
    "course at a university over a recent four year period. Biologically, eye color and gender are independent traits. However, in the data collected, there is a statistically significant dependence between the two variables. Using visualizations analyze this behavior."
   ]
  },
  {
   "cell_type": "code",
   "execution_count": 1,
   "metadata": {},
   "outputs": [
    {
     "ename": "NameError",
     "evalue": "name 'read' is not defined",
     "output_type": "error",
     "traceback": [
      "\u001b[0;31m---------------------------------------------------------------------------\u001b[0m",
      "\u001b[0;31mNameError\u001b[0m                                 Traceback (most recent call last)",
      "Cell \u001b[0;32mIn[1], line 1\u001b[0m\n\u001b[0;32m----> 1\u001b[0m eyecolor_data\u001b[38;5;241m=\u001b[39m\u001b[43mread\u001b[49m\u001b[38;5;241m.\u001b[39mcsv(\u001b[38;5;124m\"\u001b[39m\u001b[38;5;124m../datasets/eyecolorgender/eyecolorgenderdata.csv\u001b[39m\u001b[38;5;124m\"\u001b[39m)\n\u001b[1;32m      2\u001b[0m head(eyecolor_data)\n",
      "\u001b[0;31mNameError\u001b[0m: name 'read' is not defined"
     ]
    }
   ],
   "source": [
    "eyecolor_data=read.csv(\"../datasets/eyecolorgender/eyecolorgenderdata.csv\")\n",
    "head(eyecolor_data)"
   ]
  },
  {
   "cell_type": "markdown",
   "metadata": {},
   "source": [
    "As mentioned in the pdf, main types of data that occur in data are nominal, ordinal and quantitative. \n",
    "This is a quick review from statistics, before we look at the different data types in eyecolor dataset. "
   ]
  },
  {
   "cell_type": "markdown",
   "metadata": {},
   "source": [
    "**Nominal Type: ** Variables gender, eyecolor, and exercise fit the description for nominal variables. \n",
    "\n",
    "----\n",
    "**Ordinal Type: ** Year can be considered as ordinal since each unique value suggests the seniority of a student. \n",
    "\n",
    "----\n",
    "### Quantitative\n",
    "\n",
    "• **Interval Type: ** age, miles, brothers, sisters are the interval variables.\n",
    "\n",
    "----\n",
    "\n",
    "• **Ratio Type: ** Ratios of values belonging to variables height, computertime, exercisehours, musiccds, playgames, watchtv have a meaning. They can be compared to see the trends about how different sets of observations vary in a variable."
   ]
  },
  {
   "cell_type": "markdown",
   "metadata": {},
   "source": [
    "## Visual Elements\n",
    "\n",
    "### Position & Length"
   ]
  },
  {
   "cell_type": "code",
   "execution_count": null,
   "metadata": {},
   "outputs": [],
   "source": [
    "library(ggplot2)\n",
    "ggplot(eyecolor_data,aes(height))+geom_bar()"
   ]
  },
  {
   "cell_type": "markdown",
   "metadata": {},
   "source": [
    "Here the data is indicated by mapping to position which helps to do better job of understanding the quantities than if the data is mapped to color or density. \n",
    "So, if the data is varying along the horizontal axis, map the data to position. \n",
    "The height of bars vary with some of them having greater position. \n",
    "In fact one can observe how much greater the position is. \n",
    "This difference can also be seen from the length perspective as some of the bars are longer than others. \n",
    "\n",
    "Position and length are good methods for displaying quantitative data. \n",
    "When these two are combined, you get the elements of a bar chart."
   ]
  },
  {
   "cell_type": "markdown",
   "metadata": {},
   "source": [
    "### Mapping data to pie chart"
   ]
  },
  {
   "cell_type": "code",
   "execution_count": null,
   "metadata": {},
   "outputs": [],
   "source": [
    "slices <- c(unique(eyecolor_data$height))\n",
    "lbls <- c(unique(eyecolor_data$height))\n",
    "pie(slices, labels = lbls, main=\"Pie Chart of height\")"
   ]
  },
  {
   "cell_type": "markdown",
   "metadata": {},
   "source": [
    "Just like a bar chart, data can be mapped to angle or slope. \n",
    "In the above plot each **height** value has an angle. \n",
    "That's very ineffective. \n",
    "This example shows pie charts are a little less effective at displaying quantitative data than are bar charts. "
   ]
  },
  {
   "cell_type": "markdown",
   "metadata": {},
   "source": [
    "### Area"
   ]
  },
  {
   "cell_type": "markdown",
   "metadata": {},
   "source": [
    "Just like position, length and angle data can be mapped to area. \n",
    "The circles shown below in the map represents the population for each state. \n",
    "Bigger teh circle more is the population of the state and vice versa. \n",
    "It's little harder to figure out how much smaller or bigger the circle is when compared to other circles on the map. \n",
    "\n",
    "The crime data from [https://flowingdata.com/]() has crime details for each state. \n",
    "Bubble chart is a very effective tool to show statistics in term of area."
   ]
  },
  {
   "cell_type": "code",
   "execution_count": null,
   "metadata": {
    "collapsed": true,
    "jupyter": {
     "outputs_hidden": true
    }
   },
   "outputs": [],
   "source": [
    "crime_data <- read.csv(\"/dsa/data/all_datasets/crimeRatesByState2005.tsv\", header=TRUE, sep=\"\\t\")"
   ]
  },
  {
   "cell_type": "code",
   "execution_count": null,
   "metadata": {},
   "outputs": [],
   "source": [
    "head(crime_data)\n",
    "sum(crime_data$population)"
   ]
  },
  {
   "cell_type": "code",
   "execution_count": null,
   "metadata": {},
   "outputs": [],
   "source": [
    "radius <- sqrt(crime_data$population/pi)\n",
    "\n",
    "symbols(crime_data$murder, crime_data$burglary, circles=radius, \n",
    "        inches=0.35, fg=\"white\", bg=\"red\", xlab=\"Murder Rate\", ylab=\"Burglary Rate\")\n",
    "\n",
    "text(crime_data$murder, crime_data$burglary, crime_data$state, cex=0.5)"
   ]
  },
  {
   "cell_type": "markdown",
   "metadata": {},
   "source": [
    "### Color or Density. \n",
    "\n",
    "\n",
    "Color is useful when we have data points in equal sizes and shapes and want to differentiate the points by some parameter.\n",
    "The point representing Maryland is lighter than the point representing California, but we are not sure how much lighter it is. "
   ]
  },
  {
   "cell_type": "code",
   "execution_count": null,
   "metadata": {},
   "outputs": [],
   "source": [
    "ggplot(crime_data,aes(x=burglary,y=motor_vehicle_theft,label = crime_data$state)) +\n",
    "        geom_point(aes(color=crime_data$murder))+\n",
    "        geom_text(size=3)"
   ]
  },
  {
   "cell_type": "markdown",
   "metadata": {},
   "source": [
    "Use different colors for different levels in a variable instead of using scale_color_gradient to differentiate the points. "
   ]
  },
  {
   "cell_type": "code",
   "execution_count": null,
   "metadata": {},
   "outputs": [],
   "source": [
    "ggplot(crime_data,aes(x=burglary,y=motor_vehicle_theft,label = crime_data$state)) +\n",
    "        geom_point(aes(color=factor(crime_data$murder)))+\n",
    "        geom_text(size=3)"
   ]
  },
  {
   "cell_type": "markdown",
   "metadata": {},
   "source": [
    "However, it is just difficult to know how much lighter one point is from other even when the points are labelled with different color schemes."
   ]
  },
  {
   "cell_type": "code",
   "execution_count": null,
   "metadata": {},
   "outputs": [],
   "source": [
    "yearone_data=eyecolor_data[eyecolor_data$year==\"first\",]\n",
    "head(yearone_data)"
   ]
  },
  {
   "cell_type": "markdown",
   "metadata": {},
   "source": [
    "## Shape\n",
    "\n",
    "Shape makes it easy to distinguish different subsets of the data.\n",
    "However, there is not a useful quantitative representation to the shape in most cases."
   ]
  },
  {
   "cell_type": "code",
   "execution_count": null,
   "metadata": {},
   "outputs": [],
   "source": [
    "ggplot(yearone_data,aes(x=height,y=age))+geom_point(aes(shape=eyecolor))"
   ]
  },
  {
   "cell_type": "markdown",
   "metadata": {},
   "source": [
    "## Summary\n",
    "----\n",
    "\n",
    "### Quantitative Data\n",
    "\n",
    "As we move from the one-dimensional visual elements like position, length, and angle to two-dimensional size to three-dimensional shape and n-dimensional color elements, one will find less effective ways of mapping data to geometric or spatial values. \n",
    "When the map is concentrating on color and shapes it is no longer emphasizing spatial values. \n",
    "These are non-spatial values. \n",
    "Position and length are the most effective spatial representations of quantitative data. "
   ]
  },
  {
   "cell_type": "markdown",
   "metadata": {},
   "source": [
    "----\n",
    "### Ordinal Data\n",
    "\n",
    "The next category is ordinal values.\n",
    "Although we can compare the values we don't know how much one one value is greater to another. \n",
    "We just know that one value is less than another or greater than another value. \n",
    "So for ordinal data, position is still most favored option for indicating ordinal data values.\n",
    "\n",
    "Density, saturation, and hue comes second, third, and fourth in the list. \n",
    "Length, angle, slope, area, and volume are less effective when looking at relative orders of things that don't have quantitative values. \n",
    "And this gap here is filled in with some geometric mappings that don't make sense for quantitative values, things\n",
    "like texture, connection, and containment. \n",
    "Textures shouldn't be thought of as being different, quantitatively, from other textures, but value judgments between textures should be made. \n",
    "One can say one quantity is more textured than the other. \n",
    "When visualizations make connections between objects, this sets up an ordering which is not necessarily quantitative. \n",
    "\n"
   ]
  },
  {
   "cell_type": "markdown",
   "metadata": {},
   "source": [
    "-----\n",
    "\n",
    "### Nominal Data\n",
    "\n",
    "The last category of data is nominal which is categorical data. \n",
    "Just like ordinal values, nominal values can be compared, but we are often unsure how much one is greater to another. \n",
    "For example, comparing a square to a circle. A square isn't greater than a circle or less than a circle. \n",
    "They're just different. \n",
    "\n",
    "So, position is most favoured indicator of difference for nominal data values, with density, saturation, hue, texture, connection, and containment following. \n",
    "Hue and texture become stronger, and the rest of these become a little bit weaker. \n",
    "Hue, the actual color in a color wheel, is a good indicator of category, even though it's a very poor indicator of actual quantities. \n",
    "Length, angle, slope, volume, and area end up being similarly poor for describing categories. \n",
    "Mapping nominal data to shape like circle, square, and so on is more effective than mapping categories to, for example, the length or angle of geometry. \n",
    "\n",
    "----\n",
    "### Takeaway\n",
    "\n",
    "There are many different ways of connecting the data to different graphics attributes when data is displayed graphically for data visualization. Some ways are better perceived than others depending on type of the data in hand."
   ]
  },
  {
   "cell_type": "markdown",
   "metadata": {},
   "source": [
    "### Please save your notebook"
   ]
  }
 ],
 "metadata": {
  "anaconda-cloud": {},
  "kernelspec": {
   "display_name": "Python 3 (ipykernel)",
   "language": "python",
   "name": "python3"
  },
  "language_info": {
   "codemirror_mode": {
    "name": "ipython",
    "version": 3
   },
   "file_extension": ".py",
   "mimetype": "text/x-python",
   "name": "python",
   "nbconvert_exporter": "python",
   "pygments_lexer": "ipython3",
   "version": "3.11.9"
  }
 },
 "nbformat": 4,
 "nbformat_minor": 4
}
