{
 "cells": [
  {
   "cell_type": "markdown",
   "metadata": {},
   "source": [
    "# Module 2 Practice\n",
    "\n",
    "In this notebook, we will look at different ways of choosing color schemes for our visualizations. We will use ggplot2 and RColorBrewer libraries.\n",
    "\n",
    "[This cheat sheet can also be handy.](https://www.nceas.ucsb.edu/~frazier/RSpatialGuides/colorPaletteCheatsheet.pdf)  \n",
    "  * [Local Mirror](https://indigo.sgn.missouri.edu/static/PDF/colorPaletteCheatsheet.pdf)\n",
    "  \n",
    "### Please read the code comments!\n",
    "\n",
    "This notebook high-lighting various utilities at your disposal for selecting color maps for data visualization.\n",
    "Please be sure to carefully read the code.\n",
    "Also remember, that any function you see can be run in the help function.\n",
    "Just use the notebook menu: `Insert > Insert Cell Above`  and then:\n",
    "```R\n",
    "help(function_name)\n",
    "```"
   ]
  },
  {
   "cell_type": "code",
   "execution_count": null,
   "metadata": {},
   "outputs": [],
   "source": [
    "library(ggplot2)\n",
    "# Color palettes from Color Brewer\n",
    "library(RColorBrewer)\n",
    "# Show all palettes with their names: sequential, qualitative, diverging\n",
    "display.brewer.all()"
   ]
  },
  {
   "cell_type": "code",
   "execution_count": null,
   "metadata": {
    "scrolled": false
   },
   "outputs": [],
   "source": [
    "# display five colors for a qualitative data type, use 'Dark2' palette \n",
    "display.brewer.pal(n = 5, name = 'Dark2')\n"
   ]
  },
  {
   "cell_type": "code",
   "execution_count": null,
   "metadata": {},
   "outputs": [],
   "source": [
    "# display color maps with seven colors for a diverging data type, colorblind safe\n",
    "display.brewer.all(n = 7, type = 'div', colorblindFriendly = TRUE)\n"
   ]
  },
  {
   "cell_type": "markdown",
   "metadata": {},
   "source": [
    "The package can provide details of the available color maps.\n",
    "This includes name (key), max colors, etc."
   ]
  },
  {
   "cell_type": "code",
   "execution_count": null,
   "metadata": {},
   "outputs": [],
   "source": [
    "brewer.pal.info"
   ]
  },
  {
   "cell_type": "code",
   "execution_count": null,
   "metadata": {
    "scrolled": true
   },
   "outputs": [],
   "source": [
    "# This library also contains colorblind safe color maps \n",
    "library(dichromat)\n",
    "colorschemes"
   ]
  },
  {
   "cell_type": "code",
   "execution_count": null,
   "metadata": {},
   "outputs": [],
   "source": [
    "# If we want to get more colors than available in the library, we can interpolate like this: \n",
    "p <- colorRampPalette(brewer.pal(9,'Blues'))(100)"
   ]
  },
  {
   "cell_type": "code",
   "execution_count": null,
   "metadata": {},
   "outputs": [],
   "source": [
    "# Let's use the built-in cars data (mtcars) to visualize some aspects of the data set.\n",
    "head(mtcars)\n",
    "# Pick some variables\n",
    "data=mtcars[ , c(1,3:6)]\n",
    " \n",
    "#Make a plot to show if there's any visible correlation, use rgb() to choose a color and alpha transparency\n",
    "plot(data , pch=20 , cex=1.5 , col=rgb(0.5, 0.8, 0.9, 0.7))\n"
   ]
  },
  {
   "cell_type": "code",
   "execution_count": null,
   "metadata": {},
   "outputs": [],
   "source": [
    "#Let's compute all the correlations and look at them \n",
    "data=cor(mtcars)\n",
    "data"
   ]
  },
  {
   "cell_type": "code",
   "execution_count": null,
   "metadata": {},
   "outputs": [],
   "source": [
    "# Not very useful to look at numbers, let's use a visualization with the ellipse library\n",
    "library(ellipse)\n",
    "\n",
    "# This represents correlations as ellipses; slope represents sign,\n",
    "# thickness represents strength of correlation: thinner is better\n",
    "plotcorr(data)"
   ]
  },
  {
   "cell_type": "code",
   "execution_count": null,
   "metadata": {
    "scrolled": false
   },
   "outputs": [],
   "source": [
    "# Again not very clear; let's use an adequate color scheme to distinguish between good and weak \n",
    "# correlations as well as negative and positive \n",
    "\n",
    "# Build a Pannel of 100 colors with Rcolor Brewer\n",
    "my_colors <- brewer.pal(5, \"Spectral\")\n",
    "my_colors=colorRampPalette(my_colors)(100)\n",
    " \n",
    "# Order the correlation matrix\n",
    "ord <- order(data[1, ])\n",
    "data_ord = data[ord, ord]\n",
    "# plot and pick a color from the palette based on the value of correlation [-1,1] --> [0,100]\n",
    "plotcorr(data_ord , col=my_colors[data_ord*50+50] , mar=c(1,1,1,1)  )\n"
   ]
  },
  {
   "cell_type": "markdown",
   "metadata": {
    "collapsed": true
   },
   "source": [
    "### This is better. \n",
    "It's a diverging color scheme for both positive and negative correlations, \n",
    " and we can easily distinguish the strongest correlations by darker color thanks to preattentive \n",
    " processing of color by human visual system. Ordering also helps. "
   ]
  },
  {
   "cell_type": "code",
   "execution_count": null,
   "metadata": {},
   "outputs": [],
   "source": [
    "# Let's look at different ways of manipulating color in ggplot2\n",
    "# get a small sample from diamonds data set \n",
    "dsamp <- diamonds[sample(nrow(diamonds), 1000), ]\n",
    "head(dsamp)"
   ]
  },
  {
   "cell_type": "code",
   "execution_count": null,
   "metadata": {},
   "outputs": [],
   "source": [
    "\n",
    "\n",
    "# plot carat vs price and encode 'cut' variable with color\n",
    "\n",
    "# default color palette: not a good choice \n",
    "(gp <- ggplot(dsamp, aes(x=carat, y=price, color=cut)) + geom_point())\n",
    "\n",
    "# 'cut' is categorical but it does have an inherent ordering. Let's use a sequential color scheme\n"
   ]
  },
  {
   "cell_type": "code",
   "execution_count": null,
   "metadata": {},
   "outputs": [],
   "source": [
    "gp + scale_colour_brewer()\n"
   ]
  },
  {
   "cell_type": "code",
   "execution_count": null,
   "metadata": {},
   "outputs": [],
   "source": [
    "# This might be better if we want to emphasize the ideal cut \n",
    "gp + scale_colour_brewer(type=\"seq\", palette=3)"
   ]
  },
  {
   "cell_type": "code",
   "execution_count": null,
   "metadata": {},
   "outputs": [],
   "source": [
    "#Again bad choice \n",
    "gp + scale_colour_brewer(palette=\"Set1\")\n"
   ]
  },
  {
   "cell_type": "code",
   "execution_count": null,
   "metadata": {},
   "outputs": [],
   "source": [
    "# We can also assign colors manually using their hexadecimal codes \n",
    "gp + scale_color_manual(values=c(\"#0000FF\", \"#009F00\", \"#56B4E9\", \"#009E73\", \"#FFFFFF\"))\n",
    "\n",
    "\n",
    "# not a very good color scheme"
   ]
  },
  {
   "cell_type": "markdown",
   "metadata": {},
   "source": [
    "## <span style=\"background:yellow\">Your Turn</span>\n",
    "\n",
    "Examine some other potential variables of the Diamond sample, `dsamp`.\n",
    "\n",
    "First, lets take a look at the assesment of variable type."
   ]
  },
  {
   "cell_type": "code",
   "execution_count": null,
   "metadata": {},
   "outputs": [],
   "source": [
    "str(dsamp)"
   ]
  },
  {
   "cell_type": "markdown",
   "metadata": {},
   "source": [
    "You may have hear of the **4-C's** of diamond:\n",
    "  * Carat\n",
    "  * Cut\n",
    "  * Color\n",
    "  * Clarity\n",
    "\n",
    "All of these affect price of the diamond.  \n",
    "In the cells below, create 3 visual renderings which you think best convey a relationship of two of the C's in determining price.\n",
    "In each case, one C is the X-axis value, the other is the color aesthetic.\n",
    "\n",
    "#### 1)"
   ]
  },
  {
   "cell_type": "code",
   "execution_count": null,
   "metadata": {
    "collapsed": true
   },
   "outputs": [],
   "source": [
    "# Add your code below this line\n",
    "# ------------------------------\n",
    "\n",
    "\n",
    "\n",
    "\n",
    "\n"
   ]
  },
  {
   "cell_type": "markdown",
   "metadata": {},
   "source": [
    "#### 2)"
   ]
  },
  {
   "cell_type": "code",
   "execution_count": null,
   "metadata": {
    "collapsed": true
   },
   "outputs": [],
   "source": [
    "# Add your code below this line\n",
    "# ------------------------------\n",
    "\n",
    "\n",
    "\n",
    "\n",
    "\n"
   ]
  },
  {
   "cell_type": "markdown",
   "metadata": {},
   "source": [
    "#### 3)"
   ]
  },
  {
   "cell_type": "code",
   "execution_count": null,
   "metadata": {
    "collapsed": true
   },
   "outputs": [],
   "source": [
    "# Add your code below this line\n",
    "# ------------------------------\n",
    "\n",
    "\n",
    "\n",
    "\n",
    "\n"
   ]
  },
  {
   "cell_type": "markdown",
   "metadata": {},
   "source": [
    "# SAVE YOUR NOTEBOOK, and then \"Close and Halt\""
   ]
  }
 ],
 "metadata": {
  "kernelspec": {
   "display_name": "R",
   "language": "R",
   "name": "ir"
  },
  "language_info": {
   "codemirror_mode": "r",
   "file_extension": ".r",
   "mimetype": "text/x-r-source",
   "name": "R",
   "pygments_lexer": "r",
   "version": "3.4.0"
  }
 },
 "nbformat": 4,
 "nbformat_minor": 2
}
