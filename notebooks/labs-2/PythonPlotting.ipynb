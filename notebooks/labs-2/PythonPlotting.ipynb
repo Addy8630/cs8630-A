{
 "cells": [
  {
   "cell_type": "markdown",
   "metadata": {},
   "source": [
    "## Module 3 Practise"
   ]
  },
  {
   "cell_type": "markdown",
   "metadata": {},
   "source": [
    "### This is a Python Notebook\n",
    "\n",
    "Following notebook will show basic plots using **ggplot**, **matplotlib**, and **seaborn** packages. \n",
    "\n",
    "The data used in the notebook is taken from [here (external link)](https://www.causeweb.org/cause/research/literature/sexual-activity-and-lifespan-male-fruitflies-dataset-gets-attention). \n",
    "\n",
    "\n",
    "## About the data set\n",
    "From the readme file, a cost of increased reproduction in terms of reduced longevity has been shown for female fruitflies, but not for males.\n",
    "The flies used were an outbred stock.\n",
    "Sexual activity was manipulated by supplying individual males with one or eight receptive virgin females per day.  \n",
    "The longevity of these males was compared with that of two control types.\n",
    "The first control consisted of two sets of individual males kept with one or eight newly inseminated females.\n",
    "Newly inseminated females will not usually remate for at least two days, and thus served as a control for any effect of competition with the male for food or space.\n",
    "\n",
    "The second control was a set of individual males kept with no females. \n",
    "There were 25 males in each of the five groups, which were treated identically in number of anaesthetizations (using CO2) and provision of fresh food medium.\n",
    "\n",
    "The dataset has 125 observations and 5 variables"
   ]
  },
  {
   "cell_type": "code",
   "execution_count": null,
   "metadata": {},
   "outputs": [],
   "source": [
    "import pandas as pd\n",
    "\n",
    "fruitfly_data = pd.read_csv('/dsa/data/all_datasets/fruitfly/fruitfly.txt',sep=\" \",\\\n",
    "                            names=[\"ID\",\"Partners\",\"Type\",\"Longevity\",\"Thorax\",\"Sleep\"])\n",
    "fruitfly_data.head(5)"
   ]
  },
  {
   "cell_type": "code",
   "execution_count": null,
   "metadata": {},
   "outputs": [],
   "source": [
    "# Check the descriptive statistics for the dataset\n",
    "fruitfly_data.describe()"
   ]
  },
  {
   "cell_type": "code",
   "execution_count": null,
   "metadata": {},
   "outputs": [],
   "source": [
    "# Save the distribution of variable Partners in a variable called \"counts\"\n",
    "counts = fruitfly_data.Partners.value_counts()\n",
    "counts"
   ]
  },
  {
   "cell_type": "code",
   "execution_count": null,
   "metadata": {},
   "outputs": [],
   "source": [
    "# Create a dataframe \"No_of_Partners\" to make a bar graph for Partners variable\n",
    "# No_of_Partners has two columns, 'Partners' to save no of partners and 'count' to store respective frequency count.\n",
    "No_of_Partners = {'Partners' : [8, 1, 0], 'count' : counts}\n",
    "No_of_Partners=pd.DataFrame(No_of_Partners)\n",
    "No_of_Partners"
   ]
  },
  {
   "cell_type": "markdown",
   "metadata": {},
   "source": [
    "---\n",
    "\n",
    "## Grammar of Graphics\n"
   ]
  },
  {
   "cell_type": "code",
   "execution_count": null,
   "metadata": {},
   "outputs": [],
   "source": [
    "from ggplot import *\n",
    "\n",
    "# Warnings expected"
   ]
  },
  {
   "cell_type": "code",
   "execution_count": null,
   "metadata": {},
   "outputs": [],
   "source": [
    "# Create a bar chart for Partners variable using ggplot package.\n",
    "ggplot(aes(x=\"Partners\", weight=\"count\"), No_of_Partners) + geom_bar()"
   ]
  },
  {
   "cell_type": "code",
   "execution_count": null,
   "metadata": {},
   "outputs": [],
   "source": [
    "type(fruitfly_data.Partners)"
   ]
  },
  {
   "cell_type": "markdown",
   "metadata": {},
   "source": [
    "Convert the type of Partners from integer to Object so that it can be used to color the data points. "
   ]
  },
  {
   "cell_type": "code",
   "execution_count": null,
   "metadata": {},
   "outputs": [],
   "source": [
    "fruitfly_data['Partners']=fruitfly_data['Partners'].astype(object)\n",
    "type(fruitfly_data.Partners)"
   ]
  },
  {
   "cell_type": "code",
   "execution_count": null,
   "metadata": {},
   "outputs": [],
   "source": [
    "from ggplot import *\n",
    "\n",
    "# scatter plot of Longevity and Thorax with levels of Partners variable used for indicating different data points.\n",
    "p = ggplot(fruitfly_data, aes(x='Longevity', y='Thorax',colour=\"Partners\"))\n",
    "p + geom_point(aes(size=10)) + facet_grid(\"Partners\", \"Type\")"
   ]
  },
  {
   "cell_type": "markdown",
   "metadata": {},
   "source": [
    "## Matplot Lib\n",
    "\n",
    "Matplot Lib is the default plotting library of python.\n",
    "The code below uses matplotlib package to draw a histogram. \n",
    "As you know from statistics, this is a type of bar-chart,where the bars are frequencies."
   ]
  },
  {
   "cell_type": "code",
   "execution_count": null,
   "metadata": {},
   "outputs": [],
   "source": [
    "%matplotlib inline\n",
    "import matplotlib.pyplot as plt\n",
    "\n",
    "# Histogram for Longevity variable with 20 bins\n",
    "plt.hist(fruitfly_data.Longevity, bins=20)\n",
    "plt.xlabel('Longevity')\n",
    "plt.ylabel('count')\n",
    "plt.title('Histogram of Longevity')"
   ]
  },
  {
   "cell_type": "markdown",
   "metadata": {},
   "source": [
    "## Seaborn\n",
    "\n",
    "##### From the documentation\n",
    "\n",
    "Seaborn is a library for making attractive and informative statistical graphics in Python. \n",
    "It is built on top of matplotlib and tightly integrated with the PyData stack, including support for numpy and pandas data structures and statistical routines from scipy and statsmodels.\n",
    "\n",
    "Some of the features that seaborn offers are:\n",
    "  * Several built-in themes that improve on the default matplotlib aesthetics\n",
    "  * Tools for choosing color palettes to make beautiful plots that reveal patterns in your data\n",
    "  * Functions for visualizing univariate and bivariate distributions or for comparing them between subsets of data\n",
    "  * Tools that fit and visualize linear regression models for different kinds of independent and dependent variables\n",
    "  * Functions that visualize matrices of data and use clustering algorithms to discover structure in those matrices\n",
    "  * A function to plot statistical timeseries data with flexible estimation and representation of uncertainty around the estimate\n",
    "  * High-level abstractions for structuring grids of plots that let you easily build complex visualizations\n",
    "\n",
    "...\n",
    "\n",
    "Seaborn should be thought of as a complement to matplotlib, not a replacement for it. \n",
    "When using seaborn, it is likely that you will often invoke matplotlib functions directly to draw simpler plots already available through the pyplot namespace. \n",
    "Further, while the seaborn functions aim to make plots that are reasonably “production ready” (including extracting semantic information from Pandas objects to add informative labels), full customization of the figures will require a sophisticated understanding of matplotlib objects.\n",
    "\n",
    "https://seaborn.pydata.org/introduction.html\n",
    "\n",
    "  * [Local Mirror](https://indigo.sgn.missouri.edu/static/mirror_sites/seaborn.pydata.org/introduction.html)\n",
    "\n",
    "\n",
    "### Faceted Exploration\n",
    "\n",
    "Faceted exploration will _automagically_ lay out mutliple plots allowing the comparison of difference combinations of factors on the data set."
   ]
  },
  {
   "cell_type": "code",
   "execution_count": null,
   "metadata": {},
   "outputs": [],
   "source": [
    "import seaborn as sns\n",
    "%matplotlib inline\n",
    "import matplotlib.pyplot as plt\n",
    "\n",
    "g = sns.FacetGrid(fruitfly_data, row=\"Partners\", col=\"Type\")\n",
    "g.map(plt.hist, \"Longevity\")"
   ]
  },
  {
   "cell_type": "markdown",
   "metadata": {},
   "source": [
    "The facets work with other plots types as well."
   ]
  },
  {
   "cell_type": "code",
   "execution_count": null,
   "metadata": {},
   "outputs": [],
   "source": [
    "\n",
    "g = sns.FacetGrid(fruitfly_data, row=\"Partners\", col=\"Type\")\n",
    "g.map(plt.scatter, \"Longevity\", \"Sleep\")"
   ]
  },
  {
   "cell_type": "markdown",
   "metadata": {},
   "source": [
    "## Bar charts\n",
    "\n",
    "Bar charts uses horizontal or vertical bars to show comparisons among categories. \n",
    "\n",
    "One axis of the chart shows the categories being compared, and the other axis represents a quantitative value. \n"
   ]
  },
  {
   "cell_type": "code",
   "execution_count": null,
   "metadata": {},
   "outputs": [],
   "source": [
    "# Using the No_of_Partners datafrom compute above\n",
    "sns.barplot(x=\"Partners\", y=\"count\",data=No_of_Partners)"
   ]
  },
  {
   "cell_type": "markdown",
   "metadata": {},
   "source": [
    "## Box and Whisker Plots\n",
    "\n",
    "Box plot is a convenient way of graphically depicting common descriptive statistics of data, divided into categories. Box plots may also have lines extending vertically from the boxes (**whiskers**) indicating variability outside the upper and lower quartiles, hence the terms box and whisker plot.\n",
    "\n",
    "![Boxplot_vs_PDF](../images/Boxplot_vs_PDF.png)\n",
    "###### from: By Jhguch at en.wikipedia, CC BY-SA 2.5, https://commons.wikimedia.org/w/index.php?curid=14524285\n"
   ]
  },
  {
   "cell_type": "code",
   "execution_count": null,
   "metadata": {},
   "outputs": [],
   "source": [
    "# Draw a nested boxplot to show \n",
    "sns.boxplot(x=\"Type\", y=\"Longevity\", data=fruitfly_data, palette=\"PRGn\")"
   ]
  },
  {
   "cell_type": "code",
   "execution_count": null,
   "metadata": {
    "scrolled": true
   },
   "outputs": [],
   "source": [
    "# Draw a nested boxplot to show \n",
    "sns.boxplot(x=\"Partners\", y=\"Longevity\",hue=\"Type\",  data=fruitfly_data, palette=\"PRGn\")"
   ]
  },
  {
   "cell_type": "markdown",
   "metadata": {},
   "source": [
    "**Notice**, buy adding the hue parameter as a new visual variable, the plot groups the defined variable as subsets of partners.\n",
    "\n",
    "Below, we will turn the box and whiskers sideways."
   ]
  },
  {
   "cell_type": "code",
   "execution_count": null,
   "metadata": {},
   "outputs": [],
   "source": [
    "# Draw a nested boxplot to show \n",
    "sns.boxplot(x=\"Longevity\",y=\"Partners\",hue=\"Type\", orient=\"h\",  data=fruitfly_data, palette=\"PRGn\")"
   ]
  }
 ],
 "metadata": {
  "anaconda-cloud": {},
  "kernelspec": {
   "display_name": "Python 3 (ipykernel)",
   "language": "python",
   "name": "python3"
  },
  "language_info": {
   "codemirror_mode": {
    "name": "ipython",
    "version": 3
   },
   "file_extension": ".py",
   "mimetype": "text/x-python",
   "name": "python",
   "nbconvert_exporter": "python",
   "pygments_lexer": "ipython3",
   "version": "3.12.5"
  }
 },
 "nbformat": 4,
 "nbformat_minor": 4
}
