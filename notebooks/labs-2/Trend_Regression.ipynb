{
 "cells": [
  {
   "cell_type": "markdown",
   "metadata": {},
   "source": [
    "# Scatter Plots and Trend/Regression lines\n",
    "\n",
    "**NOTE: This is an R Notebook**\n",
    "\n",
    "Reference Site: http://zevross.com/blog/2014/08/04/beautiful-plotting-in-r-a-ggplot2-cheatsheet-3/\n",
    " \n",
    "  * [Local Mirror](http://indigo.sgn.missouri.edu/static/mirror_sites/zevross.com/blog/2014/08/04/beautiful-plotting-in-r-a-ggplot2-cheatsheet-3/)\n",
    "\n",
    "\n",
    "**Current GGPlot Reference** \n",
    "  * http://docs.ggplot2.org/current/\n",
    "    * [Local Mirror](https://indigo.sgn.missouri.edu/static/mirror_sites/docs.ggplot2.org/current/)"
   ]
  },
  {
   "cell_type": "markdown",
   "metadata": {},
   "source": [
    "The lab will plot simple graphs showing the linear relationships between different set of variables. \n",
    "The dataset used in the notebook is about Nutrition data of different food items. \n",
    "There are some of the variables in the dataset which have linear relationships between them."
   ]
  },
  {
   "cell_type": "markdown",
   "metadata": {},
   "source": [
    "Read the data from USDA dataset in \"/dsa/data/all_datasets/USDA.csv\" into the dataframe called _USDA_"
   ]
  },
  {
   "cell_type": "code",
   "execution_count": null,
   "metadata": {},
   "outputs": [],
   "source": [
    "USDA = read.csv(\"/dsa/data/all_datasets/USDA.csv\",header=TRUE,sep=\",\")\n",
    "head(USDA)"
   ]
  },
  {
   "cell_type": "code",
   "execution_count": null,
   "metadata": {},
   "outputs": [],
   "source": [
    "str(USDA)"
   ]
  },
  {
   "cell_type": "code",
   "execution_count": null,
   "metadata": {
    "scrolled": true
   },
   "outputs": [],
   "source": [
    "cor(USDA[,3:16])"
   ]
  },
  {
   "cell_type": "markdown",
   "metadata": {},
   "source": [
    "Above outcome is the result of NA (not available) values in the dataset. \n",
    "We must identify the NA values and fill the missing data so that we can identify the correlations. "
   ]
  },
  {
   "cell_type": "markdown",
   "metadata": {},
   "source": [
    "**How To: ** Find the number of rows where there are NA values."
   ]
  },
  {
   "cell_type": "code",
   "execution_count": null,
   "metadata": {
    "collapsed": true
   },
   "outputs": [],
   "source": [
    "# Review this documention\n",
    "help(complete.cases)"
   ]
  },
  {
   "cell_type": "code",
   "execution_count": null,
   "metadata": {},
   "outputs": [],
   "source": [
    "## The \"!\" is the logical Not, so complete cases True are flipped to False\n",
    "# Giving us non-complete\n",
    "dim(USDA[!complete.cases(USDA),])"
   ]
  },
  {
   "cell_type": "markdown",
   "metadata": {},
   "source": [
    "**How To : ** Fill the missing NA values in the dataset."
   ]
  },
  {
   "cell_type": "code",
   "execution_count": null,
   "metadata": {},
   "outputs": [],
   "source": [
    "## Using the zoo library\n",
    "library(zoo)\n",
    "\n",
    "# Last Observation Carried Forward\n",
    "help(na.locf)"
   ]
  },
  {
   "cell_type": "code",
   "execution_count": null,
   "metadata": {
    "collapsed": true
   },
   "outputs": [],
   "source": [
    "USDA=na.locf(USDA)"
   ]
  },
  {
   "cell_type": "code",
   "execution_count": null,
   "metadata": {},
   "outputs": [],
   "source": [
    "#Convert everything to numbers \n",
    "USDA <- lapply(USDA, function(x) as.numeric(x))\n",
    "# Re-form into a data frame\n",
    "USDA = as.data.frame(USDA)"
   ]
  },
  {
   "cell_type": "code",
   "execution_count": null,
   "metadata": {},
   "outputs": [],
   "source": [
    "# Correlation\n",
    "cor(USDA[,3:16])"
   ]
  },
  {
   "cell_type": "markdown",
   "metadata": {},
   "source": [
    "**How To : ** Find the correlation between the variables in the dataset and find the pairs which have correlation more than 0.5. "
   ]
  },
  {
   "cell_type": "code",
   "execution_count": null,
   "metadata": {},
   "outputs": [],
   "source": [
    "## Correlation function again, along with a filter \n",
    "\n",
    "cor(USDA[,3:16])>0.5"
   ]
  },
  {
   "cell_type": "markdown",
   "metadata": {},
   "source": [
    "The pairs of variables that are adequately positively correlated are:\n",
    "\n",
    "* Calories & Total Fat\n",
    "* Calories & Saturated Fat\n",
    "* Total Fat & Saturated Fat\n",
    "* Carbohydrate & Sugar"
   ]
  },
  {
   "cell_type": "code",
   "execution_count": null,
   "metadata": {},
   "outputs": [],
   "source": [
    "library(ggplot2)\n",
    "library(gridExtra)"
   ]
  },
  {
   "cell_type": "markdown",
   "metadata": {},
   "source": [
    "**How To : ** Fit a linear regression model, `lm()`, between Calories and TotalFat."
   ]
  },
  {
   "cell_type": "code",
   "execution_count": null,
   "metadata": {},
   "outputs": [],
   "source": [
    "# Train a (l)inear (m)odel\n",
    "\n",
    "lm(Calories ~ TotalFat, data = USDA)"
   ]
  },
  {
   "cell_type": "markdown",
   "metadata": {},
   "source": [
    "## Regression Lines\n",
    "\n",
    "Lets let GGPlot add regression  limes."
   ]
  },
  {
   "cell_type": "code",
   "execution_count": null,
   "metadata": {},
   "outputs": [],
   "source": [
    "# Create a scatterplot with Calories and TotalFat as inputs for x and y axis\n",
    "p1 <- ggplot(USDA, aes(Calories, TotalFat,color=SaturatedFat)) + geom_point() \n",
    "# add a linear regression line and set minimum x,y limits on the plot\n",
    "p1 <- p1 + geom_smooth(method = lm, se = FALSE, color=\"orange\") \n",
    "           #                  # Use the linear model\n",
    "           # This function adds the line that approximates the trend/regression.\n",
    "p1"
   ]
  },
  {
   "cell_type": "code",
   "execution_count": null,
   "metadata": {},
   "outputs": [],
   "source": [
    "# Create a scatterplot with Calories and TotalFat as inputs for x and y axis\n",
    "p1 <- ggplot(USDA, aes(Calories, TotalFat,color=SaturatedFat)) + geom_point() \n",
    "# add a linear regression line and set minimum x,y limits on the plot\n",
    "p1 <- p1 + geom_smooth(se = FALSE, color=\"orange\")\n",
    "p1"
   ]
  },
  {
   "cell_type": "markdown",
   "metadata": {},
   "source": [
    "## <span style=\"background:yellow\">YOUR TURN</span>\n",
    "\n",
    "#### 1) What is the difference in the last two plots above and which part of the code changed?\n"
   ]
  },
  {
   "cell_type": "raw",
   "metadata": {},
   "source": [
    "# Write your answer under this comment.\n",
    "# -----------------------------------------\n",
    "\n",
    "\n",
    "\n",
    "\n",
    "\n",
    "\n"
   ]
  },
  {
   "cell_type": "markdown",
   "metadata": {},
   "source": [
    "\n",
    "#### 2)  Choose another pair of values with high correlation.  Plot the data with regression \n"
   ]
  },
  {
   "cell_type": "code",
   "execution_count": null,
   "metadata": {
    "collapsed": true
   },
   "outputs": [],
   "source": [
    "# Add your code under this comment.\n",
    "# -----------------------------------------\n",
    "\n",
    "\n",
    "\n",
    "\n"
   ]
  },
  {
   "cell_type": "markdown",
   "metadata": {},
   "source": [
    "## Grid Plotting\n",
    "\n",
    "Plot a grid of scatter plots for the 4 pairs of correlations identified above.\n",
    "\n",
    "\n",
    "Build the plots in memory, then assigne all the grapohics to the grid layout manager."
   ]
  },
  {
   "cell_type": "code",
   "execution_count": null,
   "metadata": {
    "scrolled": false
   },
   "outputs": [],
   "source": [
    "## \n",
    "\n",
    "# Create a scatterplot with Calories and TotalFat as inputs for x and y axis\n",
    "p1 <- ggplot(USDA, aes(Calories, TotalFat,color=SaturatedFat)) + geom_point() \n",
    "# add a linear regression line and set minimum x,y limits on the plot\n",
    "p1 <- p1 + geom_smooth(method = lm, se = FALSE, color=\"orange\")\n",
    "\n",
    "# Create it with Calories, SaturatedFat\n",
    "p2 <- ggplot(USDA, aes(Calories, SaturatedFat,color=Cholesterol)) + geom_point() \n",
    "p2 <- p2 + geom_smooth(method = lm, se = FALSE)\n",
    "\n",
    "\n",
    "# Create it with TotalFat, SaturatedFat\n",
    "p3 <- ggplot(USDA, aes(TotalFat, SaturatedFat,color=Cholesterol)) + geom_point() \n",
    "p3 <- p3 + geom_smooth(method = lm, se = FALSE)\n",
    "\n",
    "# Create it with Carbohydrate, Sugar\n",
    "p4 <- ggplot(USDA, aes(Carbohydrate, Sugar,color=Calories)) + geom_point() \n",
    "p4 <- p4 + geom_smooth(method = lm, se = FALSE)\n",
    "\n",
    "grid.arrange(p1, p2, p3, p4)"
   ]
  },
  {
   "cell_type": "markdown",
   "metadata": {},
   "source": [
    "**Activity 6: ** Plot a scatter plot between Calories and TotalFat. Plot the points in green color and transparent. Adjust the breaks for x and y axes. "
   ]
  },
  {
   "cell_type": "code",
   "execution_count": null,
   "metadata": {},
   "outputs": [],
   "source": [
    "## \n",
    "\n",
    "pp1 <- ggplot(USDA,aes(Calories, TotalFat)) + geom_point(color=\"green\",alpha = 1/10)\n",
    "# add black and white theme\n",
    "pp1 <- pp1 + theme_bw() \n",
    "# # adjust the limits on the axes\n",
    "pp1 <- pp1 + scale_x_continuous(breaks = seq(0, 1000, 100)) + scale_y_continuous(breaks = seq(-10, 110, 10)) \n",
    "# # more axis stuff\n",
    "pp1 <- pp1 + expand_limits(x = c(0,1000), y = c(-10,110)) \n",
    "# # add title \n",
    "pp1 <- pp1 + labs(title = \"USDA\") + geom_smooth(method = lm, se = FALSE,color = \"orange\")\n",
    "pp1"
   ]
  },
  {
   "cell_type": "code",
   "execution_count": null,
   "metadata": {},
   "outputs": [],
   "source": [
    "## \n",
    "\n",
    "pp1 <- ggplot(USDA,aes(Calories, TotalFat)) + geom_point(color=\"green\",alpha = 1/10)\n",
    "# add black and white theme\n",
    "pp1 <- pp1 + theme_bw() \n",
    "# # adjust the limits on the axes\n",
    "pp1 <- pp1 + scale_x_continuous(breaks = seq(0, 1000, 100)) + scale_y_continuous(breaks = seq(-10, 110, 10)) \n",
    "# # more axis stuff\n",
    "pp1 <- pp1 + expand_limits(x = c(0,1000), y = c(-10,110)) \n",
    "# # add title \n",
    "pp1 <- pp1 + labs(title = \"USDA\") + geom_smooth(method = lm, se = FALSE,color = \"orange\")\n",
    "pp1 + stat_smooth(method=\"lm\")"
   ]
  },
  {
   "cell_type": "markdown",
   "metadata": {},
   "source": [
    "## <span style=\"background:yellow\">YOUR TURN</span>\n",
    "\n",
    "Explore the data for negative correlations.\n",
    "\n",
    " Run the cell below to see the raw corrlations.\n"
   ]
  },
  {
   "cell_type": "code",
   "execution_count": null,
   "metadata": {},
   "outputs": [],
   "source": [
    "# Potentially alter this cell to filter into True/False\n",
    "cor(USDA[,3:16])"
   ]
  },
  {
   "cell_type": "markdown",
   "metadata": {},
   "source": [
    "#### 1) Plot the two variabales which are most strongly negatively correlated."
   ]
  },
  {
   "cell_type": "code",
   "execution_count": null,
   "metadata": {
    "collapsed": true
   },
   "outputs": [],
   "source": [
    "# Add your code under this comment.\n",
    "# -----------------------------------------\n",
    "\n",
    "\n",
    "\n",
    "\n"
   ]
  },
  {
   "cell_type": "markdown",
   "metadata": {},
   "source": [
    "#### 2) Repeat, adding a regression element."
   ]
  },
  {
   "cell_type": "code",
   "execution_count": null,
   "metadata": {
    "collapsed": true
   },
   "outputs": [],
   "source": [
    "# Add your code under this comment.\n",
    "# -----------------------------------------\n",
    "\n",
    "\n",
    "\n",
    "\n"
   ]
  },
  {
   "cell_type": "markdown",
   "metadata": {},
   "source": [
    "# SAVE YOUR NOTEBOOK -- Then \"Close & Halt\" the notebook."
   ]
  }
 ],
 "metadata": {
  "anaconda-cloud": {},
  "kernelspec": {
   "display_name": "R",
   "language": "R",
   "name": "ir"
  },
  "language_info": {
   "codemirror_mode": "r",
   "file_extension": ".r",
   "mimetype": "text/x-r-source",
   "name": "R",
   "pygments_lexer": "r",
   "version": "3.4.0"
  }
 },
 "nbformat": 4,
 "nbformat_minor": 1
}
