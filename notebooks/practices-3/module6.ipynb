{
 "cells": [
  {
   "cell_type": "markdown",
   "metadata": {},
   "source": [
    "# Module 6 Practice\n",
    "\n",
    "For this practice, you are going to pull data from two data sets.  \n",
    "Merge them, the compare measurements across the data sets using visual variables within Bubble Charts."
   ]
  },
  {
   "cell_type": "markdown",
   "metadata": {},
   "source": [
    "## Datasets\n",
    "\n",
    " \n",
    "### state\n",
    "\n",
    "The **states** data is built into R environments, as are various other data sets (e.g., Iris data).\n",
    "The `data()` function loads one of these well known, learning data sets.\n",
    "\n",
    "All the data sets are described here:\n",
    "  *  https://r.org/R-manual/R-devel/library/datasets/html/00Index.html\n",
    "     *  [Local Mirror](/static/mirror_sites/r.org/R-manual/R-devel/library/datasets/html/00Index.html)\n",
    " \n",
    "\n",
    "**state.x77**\n",
    "```\n",
    "    matrix with 50 rows and 8 columns giving the following statistics in the respective columns.\n",
    "\n",
    "    Population:\n",
    "\n",
    "        population estimate as of July 1, 1975\n",
    "    Income:\n",
    "\n",
    "        per capita income (1974)\n",
    "    Illiteracy:\n",
    "\n",
    "        illiteracy (1970, percent of population)\n",
    "    Life Exp:\n",
    "\n",
    "        life expectancy in years (1969–71)\n",
    "    Murder:\n",
    "\n",
    "        murder and non-negligent manslaughter rate per 100,000 population (1976)\n",
    "    HS Grad:\n",
    "\n",
    "        percent high-school graduates (1970)\n",
    "    Frost:\n",
    "\n",
    "        mean number of days with minimum temperature below freezing (1931–1960) in capital or large city\n",
    "    Area:\n",
    "\n",
    "        land area in square miles\n",
    "```\n",
    "\n",
    "### crime\n",
    "Additionally, we will use our crime data set from the Bubble Chart lab.\n",
    "```\n",
    "/dsa/data/all_datasets/crime.csv\n",
    "```\n",
    "\n",
    "Lets load these datasets:"
   ]
  },
  {
   "cell_type": "code",
   "execution_count": null,
   "metadata": {},
   "outputs": [],
   "source": [
    "library(datasets)\n",
    "data(state)\n",
    "state <-data.frame(state.x77)\n",
    "state$names<-rownames(state)\n",
    "head(state)\n",
    "str(state)"
   ]
  },
  {
   "cell_type": "code",
   "execution_count": null,
   "metadata": {},
   "outputs": [],
   "source": [
    "summary(state)"
   ]
  },
  {
   "cell_type": "code",
   "execution_count": null,
   "metadata": {},
   "outputs": [],
   "source": [
    "crime = read.csv(\"/dsa/data/all_datasets/crime.csv\")\n",
    "# Rename the column state to names\n",
    "colnames(crime)[which(names(crime) == \"state\")] <- \"names\"\n",
    "head(crime)\n",
    "crime$names = trimws(crime$names) # these names actually have whitespace, extra spaces.\n",
    "str(crime)"
   ]
  },
  {
   "cell_type": "markdown",
   "metadata": {},
   "source": [
    "We are going to do a little bit of data carpentry to merge two data sets."
   ]
  },
  {
   "cell_type": "code",
   "execution_count": null,
   "metadata": {},
   "outputs": [],
   "source": [
    "library(dplyr)\n",
    "# Join the tables using the names column\n",
    "fusion <- (crime %>% inner_join(state, by=\"names\"))"
   ]
  },
  {
   "cell_type": "code",
   "execution_count": null,
   "metadata": {},
   "outputs": [],
   "source": [
    "summary(fusion)"
   ]
  },
  {
   "cell_type": "code",
   "execution_count": null,
   "metadata": {},
   "outputs": [],
   "source": [
    "head(fusion)\n",
    "str(fusion)"
   ]
  },
  {
   "cell_type": "markdown",
   "metadata": {},
   "source": [
    "### Task 1) Show the relationship between the following variables, using the most illustrative Bubble Chart possible.\n",
    "\n",
    "#### A)\n",
    "  1. HS.Grad\n",
    "  1. larceny_theft\n",
    "  1. Life.Exp\n",
    "  1. Income\n",
    "\n",
    "#### B) Then, provide your interpretation of the relationship your chart shows."
   ]
  },
  {
   "cell_type": "code",
   "execution_count": null,
   "metadata": {
    "collapsed": true
   },
   "outputs": [],
   "source": [
    "# 1.A) Add your code below this comment\n",
    "# --------------------------------\n",
    "\n",
    "\n",
    "\n",
    "\n",
    "\n",
    "\n",
    "\n",
    "\n"
   ]
  },
  {
   "cell_type": "raw",
   "metadata": {},
   "source": [
    "# 1.B) Add your interpreation below \n",
    "#   this comment\n",
    "# --------------------------------\n",
    "\n",
    "\n",
    "\n",
    "\n",
    "\n"
   ]
  },
  {
   "cell_type": "markdown",
   "metadata": {},
   "source": [
    "### Task 2) Show the relationship between the following variables, using the most illustrative Bubble Chart possible.\n",
    "\n",
    "#### A)\n",
    "  1. `population` ... note the lower case \"p\" \n",
    "  1. Area\n",
    "  1. Income\n",
    "  1. aggravated_assult\n",
    "\n",
    "#### B) Then, provide your interpretation of the relationship your chart shows."
   ]
  },
  {
   "cell_type": "code",
   "execution_count": null,
   "metadata": {
    "collapsed": true
   },
   "outputs": [],
   "source": [
    "# 2.A) Add your code below this comment\n",
    "# --------------------------------\n",
    "\n",
    "\n",
    "\n",
    "\n",
    "\n",
    "\n",
    "\n",
    "\n"
   ]
  },
  {
   "cell_type": "raw",
   "metadata": {},
   "source": [
    "# 2.B) Add your interpreation below \n",
    "#   this comment\n",
    "# --------------------------------\n",
    "\n",
    "\n",
    "\n",
    "\n",
    "\n"
   ]
  },
  {
   "cell_type": "markdown",
   "metadata": {},
   "source": [
    "### Task 3) Show the relationship between variables, using the most illustrative Bubble Chart possible.\n",
    "\n",
    "#### A)  Choose a new combination of variables.\n",
    "\n",
    "#### B) Then, provide your interpretation of the relationship your chart shows."
   ]
  },
  {
   "cell_type": "code",
   "execution_count": null,
   "metadata": {
    "collapsed": true
   },
   "outputs": [],
   "source": [
    "# 3.A) Add your code below this comment\n",
    "# --------------------------------\n",
    "\n",
    "\n",
    "\n",
    "\n",
    "\n",
    "\n",
    "\n",
    "\n"
   ]
  },
  {
   "cell_type": "raw",
   "metadata": {},
   "source": [
    "# 3.B) Add your interpreation below \n",
    "#   this comment\n",
    "# --------------------------------\n",
    "\n",
    "\n",
    "\n",
    "\n",
    "\n"
   ]
  },
  {
   "cell_type": "markdown",
   "metadata": {},
   "source": [
    "# Save your notebook, then File > Close and Halt"
   ]
  }
 ],
 "metadata": {
  "kernelspec": {
   "display_name": "R",
   "language": "R",
   "name": "ir"
  },
  "language_info": {
   "codemirror_mode": "r",
   "file_extension": ".r",
   "mimetype": "text/x-r-source",
   "name": "R",
   "pygments_lexer": "r",
   "version": "3.4.0"
  }
 },
 "nbformat": 4,
 "nbformat_minor": 1
}
