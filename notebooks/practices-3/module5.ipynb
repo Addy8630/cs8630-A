{
 "cells": [
  {
   "cell_type": "markdown",
   "metadata": {},
   "source": [
    "# Module 5 R Practice"
   ]
  },
  {
   "cell_type": "markdown",
   "metadata": {},
   "source": [
    "The exercises in the following notebook requires plotting histograms, line graphs and heat maps. \n",
    "Histograms and line grapgs are useful to understand the trends in data but heat maps offer more insights when looking for patterns. \n"
   ]
  },
  {
   "cell_type": "markdown",
   "metadata": {},
   "source": [
    "# Histograms"
   ]
  },
  {
   "cell_type": "code",
   "execution_count": null,
   "metadata": {
    "collapsed": true
   },
   "outputs": [],
   "source": [
    "kc_house_data = read.csv(\"/dsa/data/all_datasets/house_sales_in_king_county/kc_house_data.csv\")"
   ]
  },
  {
   "cell_type": "markdown",
   "metadata": {},
   "source": [
    "### Render the following histograms\n",
    "\n",
    " 1. House Prices\n",
    " 1. Grade\n",
    " 1. Grade, as a density\n",
    " 1. Square Feet of Living space, with bars and density curve"
   ]
  },
  {
   "cell_type": "code",
   "execution_count": null,
   "metadata": {
    "collapsed": true
   },
   "outputs": [],
   "source": [
    "# 1) Add your code below this comment\n",
    "# --------------------------------\n",
    "\n",
    "\n",
    "\n",
    "\n",
    "\n",
    "\n",
    "\n"
   ]
  },
  {
   "cell_type": "code",
   "execution_count": null,
   "metadata": {
    "collapsed": true
   },
   "outputs": [],
   "source": [
    "# 2) Add your code below this comment\n",
    "# --------------------------------\n",
    "\n",
    "\n",
    "\n",
    "\n",
    "\n",
    "\n",
    "\n"
   ]
  },
  {
   "cell_type": "code",
   "execution_count": null,
   "metadata": {
    "collapsed": true
   },
   "outputs": [],
   "source": [
    "# 3) Add your code below this comment\n",
    "# --------------------------------\n",
    "\n",
    "\n",
    "\n",
    "\n",
    "\n",
    "\n",
    "\n"
   ]
  },
  {
   "cell_type": "code",
   "execution_count": null,
   "metadata": {
    "collapsed": true
   },
   "outputs": [],
   "source": [
    "# 4) Add your code below this comment\n",
    "# --------------------------------\n",
    "\n",
    "\n",
    "\n",
    "\n",
    "\n",
    "\n",
    "\n"
   ]
  },
  {
   "cell_type": "markdown",
   "metadata": {},
   "source": [
    "# Heatmaps\n",
    "\n",
    "Let's load the familiar Kings county data for house prices. \n",
    "We will plot a heat map to show the distribution of houses between floors and the year in which the house is built. \n",
    "The blue tiles represent larger number of houses built and white tiles represent fewer number of houses built."
   ]
  },
  {
   "cell_type": "markdown",
   "metadata": {},
   "source": [
    "The below table command gives the distribution of every combination of houses for yr_built and floors. \n",
    "**`yr_built_floors`** dataframe has yr_built, floors and Freq that represents frequency. "
   ]
  },
  {
   "cell_type": "code",
   "execution_count": null,
   "metadata": {},
   "outputs": [],
   "source": [
    "yr_built_floors = as.data.frame(table(kc_house_data$yr_built,kc_house_data$floors))\n",
    "str(yr_built_floors)"
   ]
  },
  {
   "cell_type": "markdown",
   "metadata": {},
   "source": [
    "### Task 1) Plot a heatmap of the Year Built versus Floors, that is as shown below.\n",
    "\n",
    "![heatmap_challenge](../images/heatmap_challenge.png)"
   ]
  },
  {
   "cell_type": "code",
   "execution_count": null,
   "metadata": {
    "collapsed": true
   },
   "outputs": [],
   "source": [
    "# 1) Add your code below this comment\n",
    "# --------------------------------\n",
    "\n",
    "\n",
    "\n",
    "\n",
    "\n",
    "\n",
    "\n",
    "\n",
    "\n"
   ]
  },
  {
   "cell_type": "markdown",
   "metadata": {},
   "source": [
    "### Task 2) Re-frame the table based on `view` and `grade`, then plot a heatmap."
   ]
  },
  {
   "cell_type": "code",
   "execution_count": null,
   "metadata": {
    "collapsed": true
   },
   "outputs": [],
   "source": [
    "# 2) Add your code below this comment\n",
    "# --------------------------------\n",
    "\n",
    "\n",
    "\n",
    "\n",
    "\n",
    "\n",
    "\n"
   ]
  },
  {
   "cell_type": "markdown",
   "metadata": {},
   "source": [
    "## Spatial Heatmaps\n",
    "\n",
    "The _motor vehicles theft_ (MVT) data used in the notebook are incidents reported in the city of Chicago. \n",
    "It has 3 variables Date(incident reported date with time), Latitude and Longitude(coordinates where incident occured).\n",
    "\n",
    "Recall the data transformations:"
   ]
  },
  {
   "cell_type": "code",
   "execution_count": null,
   "metadata": {},
   "outputs": [],
   "source": [
    "mvt_data=read.csv(\"/dsa/data/all_datasets/mvt.csv\")\n",
    "# The format specified should match the input date format to extract respective information.\n",
    "mvt_data$Date=strptime(mvt_data$Date,format=\"%m/%d/%y %H:%M\")\n",
    "\n",
    "# To find out the day of week, use weekdays()\n",
    "mvt_data$Day = weekdays(mvt_data$Date)\n",
    "\n",
    "# mvt_data$Date$hour will extract the hour from Date\n",
    "mvt_data$Hour = mvt_data$Date$hour\n",
    "str(mvt_data)"
   ]
  },
  {
   "cell_type": "markdown",
   "metadata": {},
   "source": [
    "Finding the bounds spatial of our data the simple way.  Note, we throw out NA values."
   ]
  },
  {
   "cell_type": "code",
   "execution_count": null,
   "metadata": {},
   "outputs": [],
   "source": [
    "min(mvt_data$Latitude, na.rm = TRUE)\n",
    "max(mvt_data$Latitude, na.rm = TRUE)"
   ]
  },
  {
   "cell_type": "code",
   "execution_count": null,
   "metadata": {},
   "outputs": [],
   "source": [
    "min(mvt_data$Longitude, na.rm = TRUE)\n",
    "max(mvt_data$Longitude, na.rm = TRUE)"
   ]
  },
  {
   "cell_type": "markdown",
   "metadata": {},
   "source": [
    "\n",
    "### Task 1) Render a spatial heatmap of the car thefts.\n",
    "\n",
    "Here is the API documentation for `get_map()`.\n",
    "```\n",
    "get_map(\n",
    "    location = c(lon = -95.3632715, lat = 29.7632836), \n",
    "    zoom = \"auto\", \n",
    "    scale = \"auto\", \n",
    "    maptype = c(\"terrain\", \"terrain-background\", \"satellite\", \"roadmap\", \"hybrid\", \"toner\", \"watercolor\", \"terrain-labels\", \"terrain-lines\", \"toner-2010\", \"toner-2011\", \"toner-background\", \"toner-hybrid\", \"toner-labels\", \"toner-lines\", \"toner-lite\"), \n",
    "    source = c(\"google\", \"osm\", \"stamen\", \"cloudmade\"), \n",
    "    force = ifelse(source == \"google\", TRUE, TRUE), \n",
    "    messaging = FALSE, \n",
    "    urlonly = FALSE, \n",
    "    filename = \"ggmapTemp\", \n",
    "    crop = TRUE, \n",
    "    color = c(\"color\", \"bw\"), \n",
    "    language = \"en-EN\", \n",
    "    api_key\n",
    " )\n",
    "```\n"
   ]
  },
  {
   "cell_type": "code",
   "execution_count": null,
   "metadata": {
    "collapsed": true
   },
   "outputs": [],
   "source": [
    "library(ggmap)\n",
    "# 1) Add your code below this comment\n",
    "# ----------------------------------\n",
    "\n",
    "\n",
    "\n",
    "\n",
    "\n"
   ]
  },
  {
   "cell_type": "markdown",
   "metadata": {},
   "source": [
    "### Task 2) Render a spatial heatmap of the car thefts, using Day-of-Week as a factor."
   ]
  },
  {
   "cell_type": "code",
   "execution_count": null,
   "metadata": {
    "collapsed": true
   },
   "outputs": [],
   "source": [
    "# 2) Add your code below this comment\n",
    "# ----------------------------------\n",
    "\n",
    "\n",
    "\n",
    "\n",
    "\n"
   ]
  },
  {
   "cell_type": "markdown",
   "metadata": {},
   "source": [
    "### Task 3) Render a spatial heatmap of the car thefts, using Hour-of-Day as a factor."
   ]
  },
  {
   "cell_type": "code",
   "execution_count": null,
   "metadata": {
    "collapsed": true
   },
   "outputs": [],
   "source": [
    "# 3) Add your code below this comment\n",
    "# ----------------------------------\n",
    "\n",
    "\n",
    "\n",
    "\n",
    "\n"
   ]
  },
  {
   "cell_type": "markdown",
   "metadata": {},
   "source": [
    "# SAVE YOUR NOTEBOOK, then File > \"Close and Halt\""
   ]
  }
 ],
 "metadata": {
  "anaconda-cloud": {},
  "kernelspec": {
   "display_name": "R",
   "language": "R",
   "name": "ir"
  },
  "language_info": {
   "codemirror_mode": "r",
   "file_extension": ".r",
   "mimetype": "text/x-r-source",
   "name": "R",
   "pygments_lexer": "r",
   "version": "3.4.0"
  }
 },
 "nbformat": 4,
 "nbformat_minor": 1
}
