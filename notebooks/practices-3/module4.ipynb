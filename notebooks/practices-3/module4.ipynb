{
 "cells": [
  {
   "cell_type": "markdown",
   "metadata": {},
   "source": [
    "# Practice Module 4\n",
    "\n",
    "In this practice, you will go beyond plotting your own data.\n",
    "You will also perform some assessments, \n",
    "find images that are exemplary of the _Lie Factor_ and discuss them.\n",
    "\n",
    "## Task 1)   Discuss the Lie-Factor that is in effect for one of these plots.\n",
    "### What preattentive aspects are in play?"
   ]
  },
  {
   "cell_type": "markdown",
   "metadata": {},
   "source": [
    "<table>\n",
    "<tr>\n",
    "  <td>\n",
    "    ![fox_news_obama_care_lie](../images/fox_news_obama_care_lie.jpg)\n",
    "  </td>\n",
    "  <td>\n",
    "    ![fox_news_obama_care_fixed](../images/fox_news_obama_care_fixed.jpg)\n",
    "  </td>\n",
    "</tr>\n",
    "</table>"
   ]
  },
  {
   "cell_type": "raw",
   "metadata": {},
   "source": [
    "# 1) Please provide your answers below this comment.\n",
    "# ------------------------------------------------------------------\n",
    "\n",
    "\n",
    "\n",
    "\n"
   ]
  },
  {
   "cell_type": "markdown",
   "metadata": {},
   "source": [
    "## Task 2)\n",
    "For this task, perform the following:\n",
    "\n",
    " 1. Load the King Country data\n",
    " 1. Filter the houses down to those of grade 6, then sort that set by sqft_living.\n",
    " 1. Provide a visualization of the price of houses, using factors based on the view.\n"
   ]
  },
  {
   "cell_type": "code",
   "execution_count": null,
   "metadata": {
    "collapsed": true
   },
   "outputs": [],
   "source": [
    "# 2.1) Please provide your code below this comment.\n",
    "# ------------------------------------------------------------------\n",
    "\n",
    "\n",
    "\n",
    "\n",
    "\n",
    "\n"
   ]
  },
  {
   "cell_type": "code",
   "execution_count": null,
   "metadata": {
    "collapsed": true
   },
   "outputs": [],
   "source": [
    "# 2.2) Please provide your code below this comment.\n",
    "# ------------------------------------------------------------------\n",
    "\n",
    "\n",
    "\n",
    "\n",
    "\n",
    "\n"
   ]
  },
  {
   "cell_type": "code",
   "execution_count": null,
   "metadata": {
    "collapsed": true
   },
   "outputs": [],
   "source": [
    "# 2.3) Please provide your code below this comment.\n",
    "# ------------------------------------------------------------------\n",
    "\n",
    "\n",
    "\n",
    "\n",
    "\n",
    "\n"
   ]
  },
  {
   "cell_type": "markdown",
   "metadata": {},
   "source": [
    "## Task 3)\n",
    "\n",
    "For this task, you are to search the internet for a chart that is being dishonest.\n",
    "Grab a screen shot, or copy the image, and paste it into the discussion board.\n",
    "Along with your image, please provide some comment regarding the deficiencies of the visualization.\n",
    "\n",
    "  * The discussion topic poist to use is:\n",
    "     https://argon.sgn.missouri.edu/t/april-14-day-3-questions/208\n"
   ]
  },
  {
   "cell_type": "markdown",
   "metadata": {},
   "source": [
    "## Task 4)\n",
    "Review other students posted graphic and their assessment of the visualization.\n",
    "Then provide your comments in reply to their assessment of the visualization they posted. "
   ]
  },
  {
   "cell_type": "markdown",
   "metadata": {},
   "source": [
    "# SAVE YOUR NOTEBOOK"
   ]
  }
 ],
 "metadata": {
  "kernelspec": {
   "display_name": "R",
   "language": "R",
   "name": "ir"
  },
  "language_info": {
   "codemirror_mode": "r",
   "file_extension": ".r",
   "mimetype": "text/x-r-source",
   "name": "R",
   "pygments_lexer": "r",
   "version": "3.4.0"
  }
 },
 "nbformat": 4,
 "nbformat_minor": 1
}
