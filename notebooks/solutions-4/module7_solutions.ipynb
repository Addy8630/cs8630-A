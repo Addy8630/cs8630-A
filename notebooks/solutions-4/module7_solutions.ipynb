{
 "cells": [
  {
   "cell_type": "markdown",
   "metadata": {},
   "source": [
    "# Geospatial Analysis\n",
    "\n",
    "Practice some basic exploration of geospatial data.  Look for `<YOUR_TURN>` markers for edit the Python code.\n",
    "\n",
    "In this practice, we will utilize the taxi-cab ride data.\n",
    "Specifically, the two tables:\n",
    "  * taxi zones\n",
    "  * trips\n",
    "\n",
    "```SQL\n",
    "nyc-taxi-data=# \\d taxi_zones\n",
    "                                      Table \"public.taxi_zones\"\n",
    "   Column   |            Type             |                        Modifiers                         \n",
    "------------+-----------------------------+----------------------------------------------------------\n",
    " gid        | integer                     | not null default nextval('taxi_zones_gid_seq'::regclass)\n",
    " objectid   | integer                     | \n",
    " shape_leng | numeric                     | \n",
    " shape_area | numeric                     | \n",
    " zone       | character varying(254)      | \n",
    " locationid | smallint                    | \n",
    " borough    | character varying(254)      | \n",
    " geom       | geometry(MultiPolygon,4326) | \n",
    "Indexes:\n",
    "    \"taxi_zones_pkey\" PRIMARY KEY, btree (gid)\n",
    "    \"index_taxi_zones_on_geom\" gist (geom)\n",
    "    \"index_taxi_zones_on_locationid\" btree (locationid)\n",
    "\n",
    "nyc-taxi-data=# \\d trips\n",
    "                                           Table \"public.trips\"\n",
    "        Column         |            Type             |                     Modifiers                      \n",
    "-----------------------+-----------------------------+----------------------------------------------------\n",
    " id                    | integer                     | not null default nextval('trips_id_seq'::regclass)\n",
    " cab_type_id           | integer                     | \n",
    " vendor_id             | character varying           | \n",
    " pickup_datetime       | timestamp without time zone | \n",
    " dropoff_datetime      | timestamp without time zone | \n",
    " store_and_fwd_flag    | character(1)                | \n",
    " rate_code_id          | integer                     | \n",
    " pickup_longitude      | numeric                     | \n",
    " pickup_latitude       | numeric                     | \n",
    " dropoff_longitude     | numeric                     | \n",
    " dropoff_latitude      | numeric                     | \n",
    " passenger_count       | integer                     | \n",
    " trip_distance         | numeric                     | \n",
    " fare_amount           | numeric                     | \n",
    " extra                 | numeric                     | \n",
    " mta_tax               | numeric                     | \n",
    " tip_amount            | numeric                     | \n",
    " tolls_amount          | numeric                     | \n",
    " ehail_fee             | numeric                     | \n",
    " improvement_surcharge | numeric                     | \n",
    " total_amount          | numeric                     | \n",
    " payment_type          | character varying           | \n",
    " trip_type             | integer                     | \n",
    " pickup_nyct2010_gid   | integer                     | \n",
    " dropoff_nyct2010_gid  | integer                     | \n",
    " pickup                | geometry(Point,4326)        | \n",
    " dropoff               | geometry(Point,4326)        | \n",
    "Indexes:\n",
    "    \"trips_pkey\" PRIMARY KEY, btree (id)\n",
    "```\n"
   ]
  },
  {
   "cell_type": "code",
   "execution_count": null,
   "metadata": {
    "collapsed": false
   },
   "outputs": [],
   "source": [
    "import matplotlib.pyplot as plt\n",
    "import geopandas as gpd\n",
    "import psycopg2\n",
    "\n",
    "con = psycopg2.connect(database=\"nyc-taxi-data\", user=\"dsa_ro_user\",password=\"readonly\",host=\"dbase\")\n",
    "\n",
    "# Pull the zone, borough and polygon of the taxi zone \n",
    "# from the taxi zones table.\n",
    "sql= \"SELECT zone, borough, geom FROM taxi_zones\"\n",
    "\n",
    "zones=gpd.GeoDataFrame.from_postgis(sql,con,geom_col='geom' )\n",
    "\n",
    "# Edit this Line to pull 1000 taxi trips from the database\n",
    "# ensure the \n",
    "sql= \"SELECT * FROM trips WHERE pickup IS NOT NULL LIMIT 1000\"\n",
    "\n",
    "                                             # choosing pickup as the spatial column.\n",
    "pickups=gpd.GeoDataFrame.from_postgis(sql,con,geom_col=\"pickup\" )\n"
   ]
  },
  {
   "cell_type": "code",
   "execution_count": null,
   "metadata": {
    "collapsed": false
   },
   "outputs": [],
   "source": [
    "zones.describe()"
   ]
  },
  {
   "cell_type": "code",
   "execution_count": null,
   "metadata": {
    "collapsed": false
   },
   "outputs": [],
   "source": [
    "pickups.describe()"
   ]
  },
  {
   "cell_type": "markdown",
   "metadata": {},
   "source": [
    "## Plotting \n",
    "\n",
    "Produce a geospatial (map) plot of the data as described for each."
   ]
  },
  {
   "cell_type": "markdown",
   "metadata": {},
   "source": [
    "Additionally, we can overlay additional inforamtion.\n",
    "\n",
    "Instead of using scatter plot, use geopandas to overlay the taxi stops.\n",
    "\n",
    "Read more about mapping data with GeoPandas here: http://geopandas.org/mapping.html"
   ]
  },
  {
   "cell_type": "code",
   "execution_count": null,
   "metadata": {
    "collapsed": false
   },
   "outputs": [],
   "source": [
    "%matplotlib inline\n",
    "# Build a base map\n",
    "base = zones.plot(figsize=(15,15),color=\"white\")\n",
    "\n",
    "# Your Code below this comment\n",
    "# -----------------------------\n",
    "\n",
    "pickups.plot(ax=base, marker='o', color='red', markersize=5)\n",
    "\n",
    "\n"
   ]
  },
  {
   "cell_type": "markdown",
   "metadata": {},
   "source": [
    "## Plotting with Aggregation\n",
    "\n",
    "In the next practice, pull the taxi zones from the database.\n",
    "Show all the taxi zones in the first cell, then show the merged map"
   ]
  },
  {
   "cell_type": "code",
   "execution_count": null,
   "metadata": {
    "collapsed": false
   },
   "outputs": [],
   "source": [
    "sql = \"select borough, geom from taxi_zones\"\n",
    "\n",
    "\n",
    "# Your Code below this comment\n",
    "# -----------------------------\n",
    "\n",
    "zones.plot(figsize=(15,15))\n",
    "\n",
    "\n"
   ]
  },
  {
   "cell_type": "code",
   "execution_count": null,
   "metadata": {
    "collapsed": false
   },
   "outputs": [],
   "source": [
    "# Your Code below this comment\n",
    "# -----------------------------\n",
    "\n",
    "sql2 = \"select borough, ST_Union(geom) AS geom1 from taxi_zones GROUP BY borough\"\n",
    "\n",
    "zones2 = gpd.GeoDataFrame.from_postgis(sql2,con,geom_col='geom1' )\n",
    "\n",
    "zones2.plot(figsize=(15,15))"
   ]
  },
  {
   "cell_type": "markdown",
   "metadata": {},
   "source": [
    "## BONUS/Challenge Problem for students that have had DB/SQL and Python.\n",
    "\n",
    "Collect the borough and **number of taxi rides that originate within that burrow**.\n",
    "\n",
    "Plot a choropleth that use the number of taxi rides originating in that bourough for the statistic.\n"
   ]
  },
  {
   "cell_type": "code",
   "execution_count": null,
   "metadata": {
    "collapsed": false
   },
   "outputs": [],
   "source": [
    "# Your Code below this comment\n",
    "# -----------------------------\n",
    "\n",
    "\n",
    "%matplotlib inline\n",
    "\n",
    "sql2 =  \"WITH boroughs AS (SELECT borough, ST_Union(geom)  AS geom1 \" + \\\n",
    "            \"FROM taxi_zones AS zone GROUP BY borough) \" + \\\n",
    "        \"SELECT geom1, count(trips.id) \" + \\\n",
    "        \"FROM boroughs, (SELECT * from trips limit 10000) AS trips \" + \\\n",
    "        \"WHERE ST_Intersects(boroughs.geom1, trips.pickup) \" + \\\n",
    "         \"GROUP BY boroughs.geom1\"\n",
    "\n",
    "\n",
    "\n",
    "print(\"got it\")\n",
    "# sql2 = \"SELECT borough, ST_Union(zone.geom)  AS geom1, count(trips.id) AS count \" + \\\n",
    "#         \"FROM taxi_zones AS zone, trips   \" + \\\n",
    "#         \"WHERE ST_Intersects(geom1, trips.pickup) GROUP BY taxi_zones.borough\"\n",
    "\n",
    "zones3 = gpd.GeoDataFrame.from_postgis(sql2,con,geom_col='geom1' )\n",
    "\n",
    "zones3.plot(column=\"count\",\n",
    "            k=6,\n",
    "            figsize=(15,15))\n",
    "\n",
    "\n",
    "\n"
   ]
  },
  {
   "cell_type": "markdown",
   "metadata": {
    "collapsed": true
   },
   "source": [
    "# SAVE YOUR NOTEBOOK, the File > \"Close and Halt\""
   ]
  }
 ],
 "metadata": {
  "kernelspec": {
   "display_name": "Python 3",
   "language": "python",
   "name": "python3"
  },
  "language_info": {
   "codemirror_mode": {
    "name": "ipython",
    "version": 3
   },
   "file_extension": ".py",
   "mimetype": "text/x-python",
   "name": "python",
   "nbconvert_exporter": "python",
   "pygments_lexer": "ipython3",
   "version": "3.4.3"
  }
 },
 "nbformat": 4,
 "nbformat_minor": 1
}
