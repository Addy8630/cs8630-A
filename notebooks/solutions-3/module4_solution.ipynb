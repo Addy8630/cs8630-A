{
 "cells": [
  {
   "cell_type": "markdown",
   "metadata": {},
   "source": [
    "# Practice Module 4\n",
    "\n",
    "In this practice, you will go beyond plotting your own data.\n",
    "You will also perform some assessment, find images that are exemplary of the _Lie Factor_ and discuss them.\n",
    "\n",
    "## Task 1)   Discuss the Lie-Factor that is in effect for one of these plots.\n",
    "#### What preattentive aspects rae in play?"
   ]
  },
  {
   "cell_type": "markdown",
   "metadata": {},
   "source": [
    "<table>\n",
    "<tr>\n",
    "  <td>\n",
    "    ![fox_news_obama_care_lie](../images/fox_news_obama_care_lie.jpg)\n",
    "  </td>\n",
    "  <td>\n",
    "    ![fox_news_obama_care_fixed](../images/fox_news_obama_care_fixed.jpg)\n",
    "  </td>\n",
    "</tr>\n",
    "</table>"
   ]
  },
  {
   "cell_type": "raw",
   "metadata": {},
   "source": [
    "# 1) Please provide your answers below this comment.\n",
    "# ------------------------------------------------------------------\n",
    "The plot on the left does not have the y axis labels that show the ratio of each bar. This can be misunderstood that 6,000,000 is significantly smaller than 7,066,000 which, as can be seen on the chart to the right, is not true. \n",
    "\n",
    "\n",
    "\n"
   ]
  },
  {
   "cell_type": "markdown",
   "metadata": {},
   "source": [
    "## Task 2)\n",
    "For this task, perform the following:\n",
    "\n",
    " 1. Load the King Country data\n",
    " 1. Filter the houses down to those of grade 6, then sort that set by sqft_living.\n",
    " 1. Provide a visualization of the price of houses, using factors based on the view.\n"
   ]
  },
  {
   "cell_type": "code",
   "execution_count": 23,
   "metadata": {
    "collapsed": true
   },
   "outputs": [],
   "source": [
    "# 2.1) Please provide your code below this comment.\n",
    "# ------------------------------------------------------------------\n",
    "\n",
    "house = read.csv(\"~/datasets/house_sales_in_king_county/kc_house_data.csv\",header=TRUE,sep=\",\")\n",
    "\n",
    "\n"
   ]
  },
  {
   "cell_type": "code",
   "execution_count": 32,
   "metadata": {
    "collapsed": false
   },
   "outputs": [],
   "source": [
    "# 2.2) Please provide your code below this comment.\n",
    "# ------------------------------------------------------------------\n",
    "library(dplyr)\n",
    "library(ggplot2)\n",
    "\n",
    "grade6 = filter(house, grade %in% c('6')) %>% arrange(sqft_living)\n",
    "\n",
    "\n"
   ]
  },
  {
   "cell_type": "code",
   "execution_count": 33,
   "metadata": {
    "collapsed": false
   },
   "outputs": [
    {
     "name": "stderr",
     "output_type": "stream",
     "text": [
      "`stat_bin()` using `bins = 30`. Pick better value with `binwidth`.\n"
     ]
    },
    {
     "data": {},
     "metadata": {},
     "output_type": "display_data"
    },
    {
     "data": {
      "image/png": "[encoded data removed]",
      "text/plain": [
       "plot without title"
      ]
     },
     "metadata": {},
     "output_type": "display_data"
    }
   ],
   "source": [
    "# 2.3) Please provide your code below this comment.\n",
    "# ------------------------------------------------------------------\n",
    "\n",
    "\n",
    "ggplot(grade6,aes(price)) + \n",
    "    geom_histogram(aes(fill=factor(view))) + \n",
    "    labs(title = \"Price Distribution\", color = \"View\")\n",
    "\n"
   ]
  },
  {
   "cell_type": "markdown",
   "metadata": {},
   "source": [
    "## Task 3)\n",
    "\n",
    "For this task, you are to search the internet for a chart that is being dishonest.\n",
    "Grab a screen shot, or copy the image, and paste it into the discussion board.\n",
    "Along with your image, please provide some comment regarding the defenicies of the visualization.\n",
    "\n",
    "  * The discussion topic poist to use is:\n",
    "     https://argon.sgn.missouri.edu/t/day-3-jan-31-module-4-practice-discussions/134\n"
   ]
  },
  {
   "cell_type": "markdown",
   "metadata": {},
   "source": [
    "## Task 4)\n",
    "Review other students posted graphic and their assessment of the visualization.\n",
    "Then provide your comments in reply to their assessment of the visualization they posted. "
   ]
  },
  {
   "cell_type": "markdown",
   "metadata": {},
   "source": [
    "# SAVE YOUR NOTEBOOK"
   ]
  }
 ],
 "metadata": {
  "kernelspec": {
   "display_name": "R",
   "language": "R",
   "name": "ir"
  },
  "language_info": {
   "codemirror_mode": "r",
   "file_extension": ".r",
   "mimetype": "text/x-r-source",
   "name": "R",
   "pygments_lexer": "r",
   "version": "3.3.1"
  }
 },
 "nbformat": 4,
 "nbformat_minor": 1
}
