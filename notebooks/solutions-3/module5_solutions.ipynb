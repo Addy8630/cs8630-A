{
 "cells": [
  {
   "cell_type": "markdown",
   "metadata": {},
   "source": [
    "# Module 5 R Practice"
   ]
  },
  {
   "cell_type": "markdown",
   "metadata": {},
   "source": [
    "The exercises in the following notebook requires plotting histograms, line graphs and heat maps. \n",
    "Histograms and line grapgs are useful to understand the trends in data but heat maps offer more insights when looking for patterns. \n"
   ]
  },
  {
   "cell_type": "markdown",
   "metadata": {},
   "source": [
    "# Histograms"
   ]
  },
  {
   "cell_type": "code",
   "execution_count": null,
   "metadata": {
    "collapsed": false
   },
   "outputs": [],
   "source": [
    "library(ggplot2)\n",
    "kc_house_data = read.csv(\"../../../datasets/house_sales_in_king_county/kc_house_data.csv\")\n",
    "head(kc_house_data)"
   ]
  },
  {
   "cell_type": "markdown",
   "metadata": {},
   "source": [
    "### Render the following histograms\n",
    "\n",
    " 1. House Prices\n",
    " 1. Grade\n",
    " 1. Grade, as a density\n",
    " 1. Square Feet of Living space, with bars and density curve"
   ]
  },
  {
   "cell_type": "code",
   "execution_count": null,
   "metadata": {
    "collapsed": false
   },
   "outputs": [],
   "source": [
    "# 1) Add your code below this comment\n",
    "# --------------------------------\n",
    "\n",
    "ggplot(kc_house_data,aes(price)) + geom_histogram(binwidth=30000)\n",
    "\n",
    "\n",
    "\n",
    "\n"
   ]
  },
  {
   "cell_type": "code",
   "execution_count": null,
   "metadata": {
    "collapsed": false
   },
   "outputs": [],
   "source": [
    "# 2) Add your code below this comment\n",
    "# --------------------------------\n",
    "\n",
    "\n",
    "\n",
    "\n",
    "ggplot(kc_house_data,aes(grade)) + geom_histogram(binwidth=1)\n",
    "\n",
    "\n"
   ]
  },
  {
   "cell_type": "code",
   "execution_count": null,
   "metadata": {
    "collapsed": false
   },
   "outputs": [],
   "source": [
    "# 3) Add your code below this comment\n",
    "# --------------------------------\n",
    "\n",
    "\n",
    "ggplot(kc_house_data,aes(grade)) + geom_density(fill=\"red\", alpha=.5)\n",
    "\n",
    "\n",
    "\n",
    "\n"
   ]
  },
  {
   "cell_type": "code",
   "execution_count": null,
   "metadata": {
    "collapsed": false
   },
   "outputs": [],
   "source": [
    "# 4) Add your code below this comment\n",
    "# --------------------------------\n",
    "\n",
    "\n",
    "ggplot(kc_house_data, aes(x=sqft_living)) + \n",
    " geom_histogram(aes(y=..density..),  # this ..density.. is a derived variable, computed during call to geom_histogram()\n",
    "                colour=\"black\", fill=\"lightblue\", binwidth=500) +\n",
    " geom_density(alpha=.2, fill=\"red\") \n",
    "\n",
    "\n",
    "\n",
    "\n"
   ]
  },
  {
   "cell_type": "markdown",
   "metadata": {},
   "source": [
    "# Heatmaps\n",
    "\n",
    "Let's load the familiar Kings county data for house prices. we will lot a heat map to show the distribution of houses between floors and the year in which the house is built. The blue tiles represent larger number of houses built and white tiles represent fewer number of houses built."
   ]
  },
  {
   "cell_type": "markdown",
   "metadata": {},
   "source": [
    "Below table command gives the distribution of every combination of houses for yr_built and floors. \n",
    "**`yr_built_floors`** dataframe has yr_built, floors and Freq that represents frequency. "
   ]
  },
  {
   "cell_type": "code",
   "execution_count": null,
   "metadata": {
    "collapsed": false
   },
   "outputs": [],
   "source": [
    "yr_built_floors = as.data.frame(table(kc_house_data$yr_built,kc_house_data$floors))\n",
    "str(yr_built_floors)"
   ]
  },
  {
   "cell_type": "markdown",
   "metadata": {},
   "source": [
    "### Task 1) Plot a heatmap of the Year Built versus Floors, that is as shown below.\n",
    "\n",
    "![heatmap_challenge](../images/heatmap_challenge.png)"
   ]
  },
  {
   "cell_type": "code",
   "execution_count": null,
   "metadata": {
    "collapsed": false
   },
   "outputs": [],
   "source": [
    "# 1) Add your code below this comment\n",
    "# --------------------------------\n",
    "\n",
    "\n",
    "\n",
    "ggplot(kc_house_data,aes(x=floors,y=yr_built))+\n",
    "    geom_tile(fill=\"purple\",alpha=.01) +                 \n",
    "    scale_fill_gradient(name=\"Yr built and floors\",low=\"white\",high=\"purple\") +\n",
    "    theme(panel.background = element_rect(fill = 'white', colour = 'red')) +\n",
    "    xlab(\"Floors\") + ylab(\"Built Year\")\n",
    "    \n",
    "\n",
    "\n",
    "\n",
    "# ggplot(kc_house_data, aes(floors, yr_built)) + \n",
    "#   geom_tile(aes(fill = rescale), colour = \"white\") + \n",
    "#   scale_fill_gradient(low = \"white\", high = \"steelblue\") + \n",
    "#   scale_x_discrete(\"\", expand = c(0, 0)) + \n",
    "#   scale_y_discrete(\"\", expand = c(0, 0)) + \n",
    "#   theme_grey(base_size = 9) + \n",
    "#   theme(legend.position = \"none\",\n",
    "#         axis.ticks = element_blank(), \n",
    "#         axis.text.x = element_text(angle = 330, hjust = 0))\n",
    "\n",
    "\n",
    "\n",
    "\n"
   ]
  },
  {
   "cell_type": "markdown",
   "metadata": {},
   "source": [
    "### Task 2) Re-frame the based on `view` and `grade`, then plot a heatmap."
   ]
  },
  {
   "cell_type": "code",
   "execution_count": null,
   "metadata": {
    "collapsed": false
   },
   "outputs": [],
   "source": [
    "# 2) Add your code below this comment\n",
    "# --------------------------------\n",
    "\n",
    "\n",
    "ggplot(kc_house_data,aes(x=view,y=grade))+\n",
    "    geom_tile(fill=\"purple\",alpha=.01) +                 \n",
    "    scale_fill_gradient(name=\"Yr built and floors\",low=\"white\",high=\"purple\") +\n",
    "    theme(panel.background = element_rect(fill = 'white', colour = 'red')) +\n",
    "    xlab(\"View\") + ylab(\"Grade\")\n",
    "    \n",
    "\n",
    "\n",
    "\n",
    "\n",
    "\n"
   ]
  },
  {
   "cell_type": "markdown",
   "metadata": {},
   "source": [
    "## Spatial Heatmaps\n",
    "\n",
    "The _motor vehicles theft_ (MVT) data used in the notebook are incidents reported in the city of Chicago. \n",
    "It has 3 variables Date(incident reported date with time), Latitude and Longitude(coordinates where incident occured).\n",
    "\n",
    "Recall the data transformations:"
   ]
  },
  {
   "cell_type": "code",
   "execution_count": null,
   "metadata": {
    "collapsed": false
   },
   "outputs": [],
   "source": [
    "mvt_data=read.csv(\"../../../datasets/mvt.csv\")\n",
    "# The format specified should match the input date format to extract respective information.\n",
    "mvt_data$Date=strptime(mvt_data$Date,format=\"%m/%d/%y %H:%M\")\n",
    "\n",
    "# To find out the day of week, use weekdays()\n",
    "mvt_data$Day = weekdays(mvt_data$Date)\n",
    "\n",
    "# mvt_data$Date$hour will extract the hour from Date\n",
    "mvt_data$Hour = mvt_data$Date$hour\n",
    "str(mvt_data)"
   ]
  },
  {
   "cell_type": "markdown",
   "metadata": {},
   "source": [
    "Finding the bounds spatial of our data the simple way.  Note, we throw out NA values."
   ]
  },
  {
   "cell_type": "code",
   "execution_count": null,
   "metadata": {
    "collapsed": false
   },
   "outputs": [],
   "source": [
    "min(mvt_data$Latitude, na.rm = TRUE)\n",
    "max(mvt_data$Latitude, na.rm = TRUE)"
   ]
  },
  {
   "cell_type": "code",
   "execution_count": null,
   "metadata": {
    "collapsed": false,
    "scrolled": true
   },
   "outputs": [],
   "source": [
    "min(mvt_data$Longitude, na.rm = TRUE)\n",
    "max(mvt_data$Longitude, na.rm = TRUE)"
   ]
  },
  {
   "cell_type": "markdown",
   "metadata": {},
   "source": [
    "\n",
    "### Task 1) Render a spatial heatmap of the car thefts.\n",
    "\n",
    "Here is the API documentation for `get_map()`.\n",
    "```\n",
    "get_map(\n",
    "    location = c(lon = -95.3632715, lat = 29.7632836), \n",
    "    zoom = \"auto\", \n",
    "    scale = \"auto\", \n",
    "    maptype = c(\"terrain\", \"terrain-background\", \"satellite\", \"roadmap\", \"hybrid\", \"toner\", \"watercolor\", \"terrain-labels\", \"terrain-lines\", \"toner-2010\", \"toner-2011\", \"toner-background\", \"toner-hybrid\", \"toner-labels\", \"toner-lines\", \"toner-lite\"), \n",
    "    source = c(\"google\", \"osm\", \"stamen\", \"cloudmade\"), \n",
    "    force = ifelse(source == \"google\", TRUE, TRUE), \n",
    "    messaging = FALSE, \n",
    "    urlonly = FALSE, \n",
    "    filename = \"ggmapTemp\", \n",
    "    crop = TRUE, \n",
    "    color = c(\"color\", \"bw\"), \n",
    "    language = \"en-EN\", \n",
    "    api_key\n",
    " )\n",
    "```\n"
   ]
  },
  {
   "cell_type": "code",
   "execution_count": null,
   "metadata": {
    "collapsed": false
   },
   "outputs": [],
   "source": [
    "library(ggmap)\n",
    "# 1) Add your code below this comment\n",
    "# ----------------------------------\n",
    "\n",
    "#Pull the map of chicago into the program \n",
    "us_map_outline <- get_map(\"chicago\",zoom=12)\n",
    "us_map <- ggmap(us_map_outline)\n",
    "\n",
    "us_map <- us_map + \n",
    "    geom_point(data=mvt_data, \n",
    "               aes(x=Latitude, y=Latitude),col=\"orange\",\n",
    "               alpha=0.1,size=1) \n",
    "    \n",
    "\n",
    "# us_map <- us_map + \n",
    "#     geom_density2d(data = mvt_data, aes(x = Latitude, y = Latitude), size = 0.3) + \n",
    "#     stat_density2d(data = mvt_data, aes(x = Latitude, y = Latitude, fill = ..level.., alpha = ..level..), size = 0.01, bins = 16, geom = \"polygon\") + \n",
    "#     scale_fill_gradient(low = \"yellow\", high = \"red\") + \n",
    "#     scale_alpha(range = c(0, 0.3), guide = FALSE)\n",
    "\n",
    "us_map\n",
    "\n",
    "\n"
   ]
  },
  {
   "cell_type": "markdown",
   "metadata": {},
   "source": [
    "### Task 2) Render a spatial heatmap of the car thefts, using Day-of-Week as a factor."
   ]
  },
  {
   "cell_type": "code",
   "execution_count": null,
   "metadata": {
    "collapsed": false
   },
   "outputs": [],
   "source": [
    "# 2) Add your code below this comment\n",
    "# ----------------------------------\n",
    "\n",
    "#Pull the map of chicago into the program \n",
    "us_map_outline2 <- get_map(\"chicago\",zoom=12)\n",
    "us_map2 <- ggmap(us_map_outline2)\n",
    "\n",
    "\n",
    "us_map2 <- us_map2 + \n",
    "    geom_point(data=mvt_data, \n",
    "               aes(x=Longitude, y=Latitude,color=factor(Day)),\n",
    "               alpha=0.3,size=1) \n",
    "\n",
    "\n",
    "us_map2\n",
    "\n",
    "\n"
   ]
  },
  {
   "cell_type": "markdown",
   "metadata": {},
   "source": [
    "### Task 3) Render a spatial heatmap of the car thefts, using Hour-of-Day as a factor."
   ]
  },
  {
   "cell_type": "code",
   "execution_count": null,
   "metadata": {
    "collapsed": false
   },
   "outputs": [],
   "source": [
    "# 3) Add your code below this comment\n",
    "# ----------------------------------\n",
    "\n",
    "#Pull the map of chicago into the program \n",
    "us_map_outline3 <- get_map(\"chicago\",zoom=12)\n",
    "us_map3 <- ggmap(us_map_outline3)\n",
    "\n",
    "\n",
    "us_map3 <- us_map3 + \n",
    "    geom_point(data=mvt_data, \n",
    "               aes(x=Longitude, y=Latitude,color=factor(Hour)),\n",
    "               alpha=0.3,size=1) \n",
    "\n",
    "\n",
    "us_map3\n",
    "\n",
    "\n"
   ]
  },
  {
   "cell_type": "markdown",
   "metadata": {},
   "source": [
    "# SAVE YOUR NOTEBOOK, then File > \"Close and Halt\""
   ]
  }
 ],
 "metadata": {
  "anaconda-cloud": {},
  "kernelspec": {
   "display_name": "R",
   "language": "R",
   "name": "ir"
  },
  "language_info": {
   "codemirror_mode": "r",
   "file_extension": ".r",
   "mimetype": "text/x-r-source",
   "name": "R",
   "pygments_lexer": "r",
   "version": "3.3.1"
  }
 },
 "nbformat": 4,
 "nbformat_minor": 1
}
