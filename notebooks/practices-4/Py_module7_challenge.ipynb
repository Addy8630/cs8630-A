{
 "cells": [
  {
   "cell_type": "markdown",
   "metadata": {},
   "source": [
    "# Geospatial Analysis - Extra/Challenge\n",
    "\n",
    "Load Data from Administrative Divisions (see Day 4 labs)\n",
    "\n",
    "Load Data from MVT data set (see: Day3/labs/Histograms_and_Heatmaps.ipynb)\n",
    "\n",
    "Then do the following:   \n",
    "  1. Render the geographic regions from the `geospatial.gadm_admin_borders`\n",
    "  1. Overlay as point features the motor vehicle thefts (MVT).\n",
    "  1. Create an alternative plot, that based on adjusting visualization parameters, looks approximately like a _dasymetric_ map.\n"
   ]
  },
  {
   "cell_type": "code",
   "execution_count": null,
   "metadata": {
    "collapsed": true
   },
   "outputs": [],
   "source": [
    "# 1) Write your code for step 1 below this comment\n",
    "# ---------------------------------------------\n",
    "\n",
    "\n",
    "\n",
    "\n",
    "\n",
    "\n",
    "\n"
   ]
  },
  {
   "cell_type": "code",
   "execution_count": null,
   "metadata": {
    "collapsed": true
   },
   "outputs": [],
   "source": [
    "# 2) Write your code for step 2 below this comment\n",
    "# ---------------------------------------------\n",
    "\n",
    "\n",
    "\n",
    "\n",
    "\n",
    "\n",
    "\n"
   ]
  },
  {
   "cell_type": "code",
   "execution_count": null,
   "metadata": {
    "collapsed": true
   },
   "outputs": [],
   "source": [
    "# 3) Write your code for step 3 below this comment\n",
    "# ---------------------------------------------\n",
    "\n",
    "\n",
    "\n",
    "\n",
    "\n",
    "\n",
    "\n"
   ]
  },
  {
   "cell_type": "markdown",
   "metadata": {},
   "source": [
    "### Assessment\n",
    "Based on your visual rendering, what can you conclude from the data?\n"
   ]
  },
  {
   "cell_type": "raw",
   "metadata": {
    "collapsed": true
   },
   "source": [
    "## Add your annotation below \n",
    "-----------------------------\n",
    "\n",
    "\n",
    "\n",
    "\n",
    "\n",
    "\n"
   ]
  },
  {
   "cell_type": "markdown",
   "metadata": {},
   "source": [
    "## Harder Optional Work\n",
    "\n",
    "1) Add code to the segregate and render the geospatial data using _Hour-of-Day_, such that you can produce a temporal series of car thefts.  \n",
    "2) After you produce this visualization, provide some analysis concerning the plots.\n"
   ]
  },
  {
   "cell_type": "code",
   "execution_count": null,
   "metadata": {
    "collapsed": true
   },
   "outputs": [],
   "source": [
    "# 1) Add your code below this comment line\n",
    "# -----------------------------------------\\\n",
    "\n",
    "\n",
    "\n",
    "\n",
    "\n"
   ]
  },
  {
   "cell_type": "raw",
   "metadata": {},
   "source": [
    "# 2) Add your ANNOTATIONS below this comment line\n",
    "# -----------------------------------------\\\n",
    "\n",
    "\n",
    "\n",
    "\n",
    "\n"
   ]
  },
  {
   "cell_type": "markdown",
   "metadata": {},
   "source": [
    "## Visualize the locations of Damns in the U.S.\n",
    "\n",
    " 1)  Pull all Damns in the US into GeoPandas\n",
    "```\n",
    "select coords \n",
    "from geospatial.geonames_feature\n",
    "where geoclass = 'DAM'\n",
    " and ccode = 'USA'\n",
    "```\n",
    " 2) Overlay the Dams on the US Map\n"
   ]
  },
  {
   "cell_type": "code",
   "execution_count": null,
   "metadata": {
    "collapsed": true
   },
   "outputs": [],
   "source": [
    "# 1) Add your code below this comment line\n",
    "# -----------------------------------------\\\n",
    "\n",
    "\n",
    "\n",
    "\n",
    "\n"
   ]
  },
  {
   "cell_type": "code",
   "execution_count": null,
   "metadata": {
    "collapsed": true
   },
   "outputs": [],
   "source": [
    "# 2) Add your code below this comment line\n",
    "# -----------------------------------------\\\n",
    "\n",
    "\n",
    "\n",
    "\n",
    "\n"
   ]
  },
  {
   "cell_type": "markdown",
   "metadata": {
    "collapsed": true
   },
   "source": [
    "# SAVE YOUR NOTEBOOK, the File > \"Close and Halt\""
   ]
  }
 ],
 "metadata": {
  "kernelspec": {
   "display_name": "Python 3",
   "language": "python",
   "name": "python3"
  },
  "language_info": {
   "codemirror_mode": {
    "name": "ipython",
    "version": 3
   },
   "file_extension": ".py",
   "mimetype": "text/x-python",
   "name": "python",
   "nbconvert_exporter": "python",
   "pygments_lexer": "ipython3",
   "version": "3.4.5"
  }
 },
 "nbformat": 4,
 "nbformat_minor": 1
}
