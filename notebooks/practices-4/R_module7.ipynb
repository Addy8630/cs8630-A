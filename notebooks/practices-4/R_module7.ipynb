{
 "cells": [
  {
   "cell_type": "markdown",
   "metadata": {},
   "source": [
    "# R Exercise\n",
    "\n",
    "You will create map visualizations using ggmap and ggplot2. \n",
    "First let's start with a simple data set; number of visitors to United Stated from 2006 to 2015. \n",
    "\n",
    "Find places to replace the \"`<- YOUR CODE HERE ->`\" to complete the practices."
   ]
  },
  {
   "cell_type": "code",
   "execution_count": null,
   "metadata": {
    "collapsed": true
   },
   "outputs": [],
   "source": [
    "# First, read the data and make sure the first column is character and the rest is numeric\n",
    "vis <- read.csv(\"/dsa/data/all_datasets/spatial/US_visitors.csv\",colClasses=c(\"character\",rep(\"numeric\",10)))\n",
    "\n",
    "head(vis)"
   ]
  },
  {
   "cell_type": "markdown",
   "metadata": {},
   "source": [
    "We will create a **flow map** to visualize number of visitors from different continents. \n",
    "For that, we'll need coordinates. *ggmap* library has functions to look up for *geocodes* of locations; \n",
    "these locations can be addresses, city names, or even continent names. \n",
    "\n",
    "Let's lookup continents' coordinates information by using *mutate_geocode* function that will augment our data frame."
   ]
  },
  {
   "cell_type": "code",
   "execution_count": null,
   "metadata": {
    "collapsed": true
   },
   "outputs": [],
   "source": [
    "library(ggplot2)\n",
    "library(ggmap)\n",
    "\n",
    "# get geo coordinates for the place names and put them in the Region attribute \n",
    "vis <- mutate_geocode(vis, Region)\n",
    "head(vis)\n",
    "# get the map \n",
    "world <- map_data(\"world\")"
   ]
  },
  {
   "cell_type": "code",
   "execution_count": null,
   "metadata": {
    "collapsed": true
   },
   "outputs": [],
   "source": [
    "# get coordinates for US \n",
    "us <- geocode(\"United States\")"
   ]
  },
  {
   "cell_type": "markdown",
   "metadata": {},
   "source": [
    "**Exercise 1:** Create a flow map that shows the number of visitors to US from different continents. Make sure color encodes region and size encodes number of visitors in 2015."
   ]
  },
  {
   "cell_type": "code",
   "execution_count": null,
   "metadata": {
    "collapsed": true
   },
   "outputs": [],
   "source": [
    "# Now first plot the world map \n",
    "ggplot() + \n",
    "geom_map(data=<- YOUR CODE HERE ->,map=<- YOUR CODE HERE ->, aes(<- YOUR CODE HERE ->), <- YOUR CODE HERE ->) +\n",
    "\n",
    "# then plot the flow curves from continents to the same point in US. \n",
    "geom_curve(<- YOUR CODE HERE ->), \n",
    "           curvature=0.1, arrow=arrow(length=unit(0.05, \"npc\"))) +\n",
    "# add coords themes etc. \n",
    "coord_equal() +\n",
    "theme_void() + theme(legend.position=\"None\")"
   ]
  },
  {
   "cell_type": "markdown",
   "metadata": {},
   "source": [
    "**Exercise 2:** All flow curves end at the same point in US and get superposed. Instead of using a single endpoint, let's use multiple endpoints in US to make it look better. Go to [latlong.net](http://www.latlong.net/) and choose good endpoints for each continent, and then add their coordinates to your data frame as ENDLON and ENDLAT attributes and redraw. "
   ]
  },
  {
   "cell_type": "code",
   "execution_count": null,
   "metadata": {
    "collapsed": true
   },
   "outputs": [],
   "source": [
    "# <- YOUR CODE HERE ->"
   ]
  },
  {
   "cell_type": "markdown",
   "metadata": {},
   "source": [
    "Now, we will work on the flight data from the R_Projections. \n",
    "We will visualize flights. Let's get the data first. "
   ]
  },
  {
   "cell_type": "code",
   "execution_count": null,
   "metadata": {
    "collapsed": true
   },
   "outputs": [],
   "source": [
    "library(dplyr)\n",
    "library(sp)\n",
    "library(geosphere)\n",
    "\n",
    "# airport codes and coordinates \n",
    "airports <- read.csv(\"/dsa/data/all_datasets/spatial/airports.csv\", as.is=TRUE, header=TRUE)\n",
    "# flight destinations and counts \n",
    "flights <- read.csv(\"/dsa/data/all_datasets/spatial/flights.csv\", as.is=TRUE, header=TRUE)\n",
    "airports$lat <- as.numeric(airports$lat)\n",
    "airports$long <- as.numeric(airports$long)\n",
    "# get airport locations\n",
    "airport_locs <- airports[, c(\"iata\",\"long\", \"lat\")]\n",
    "\n",
    "# Link airport lat long to origin and destination\n",
    "OD <- left_join(flights, airport_locs, by=c(\"airport1\"=\"iata\"))\n",
    "OD <- left_join(OD, airport_locs, by=c(\"airport2\"=\"iata\"))\n",
    "head(OD)"
   ]
  },
  {
   "cell_type": "markdown",
   "metadata": {},
   "source": [
    "**Exercise 3:** Add another attribute to the OD data frame that shows the distance between two airports and visualize only those routes that are longer than 1500 miles. "
   ]
  },
  {
   "cell_type": "code",
   "execution_count": null,
   "metadata": {
    "collapsed": true
   },
   "outputs": [],
   "source": [
    "# This is how we find the geodesic distance between two pairs of coordinates using geosphere library\n",
    "# Compute the geodesic distance between airports \n",
    "dd <- data.frame(Distance=distGeo(matrix(c(OD$long.x, OD$lat.x), ncol = 2), matrix(c(OD$long.y, OD$lat.y), ncol = 2)))\n",
    "# convert meters to miles \n",
    "dd <- dd*0.000621371 \n",
    "# Now add this to the OD data frame as another attribute and visualize only those routes that are longer than 1500 miles. \n",
    "head(dd)\n",
    "\n",
    "\n",
    "# <- YOUR CODE HERE ->\n",
    "\n"
   ]
  },
  {
   "cell_type": "markdown",
   "metadata": {},
   "source": [
    "**Exercise 4:** Let's read the Missouri County population data set and create a choropleth map that shows the population in year 2000 county by county. "
   ]
  },
  {
   "cell_type": "code",
   "execution_count": null,
   "metadata": {},
   "outputs": [],
   "source": [
    "moco <- read.csv(\"/dsa/data/all_datasets/spatial/MO_2009_County.csv\")\n",
    "\n",
    "head(moco)"
   ]
  },
  {
   "cell_type": "code",
   "execution_count": null,
   "metadata": {
    "collapsed": true
   },
   "outputs": [],
   "source": [
    "# The folllowing is in order to create a \"region\" common id.\n",
    "# Get the Missouri counties map and rename the county column to \"region\"\n",
    "mo_map <- map_data(\"county\",\"missouri\")\n",
    "mo_map <- mo_map[ ,-5]\n",
    "names(mo_map)[5] <- 'region'\n",
    "\n",
    "# make the county names lowercase\n",
    "moco <- mutate(moco, region = tolower(COUNTYNAME))\n",
    "head(moco)"
   ]
  },
  {
   "cell_type": "code",
   "execution_count": null,
   "metadata": {
    "collapsed": true
   },
   "outputs": [],
   "source": [
    "# Now define the filling attribute with your data frame \n",
    "ggplot(<- YOUR CODE HERE ->) +\n",
    "\n",
    "# and define your map with the common id \n",
    "geom_map(<- YOUR CODE HERE ->)+\n",
    "\n",
    "# mapping stuff\n",
    "expand_limits(x = mo_map$long, y = mo_map$lat) +\n",
    "coord_map() + \n",
    "theme_void()"
   ]
  },
  {
   "cell_type": "markdown",
   "metadata": {},
   "source": [
    "# Save your notebook, then File > Close and Halt"
   ]
  }
 ],
 "metadata": {
  "kernelspec": {
   "display_name": "R",
   "language": "R",
   "name": "ir"
  },
  "language_info": {
   "codemirror_mode": "r",
   "file_extension": ".r",
   "mimetype": "text/x-r-source",
   "name": "R",
   "pygments_lexer": "r",
   "version": "3.4.0"
  }
 },
 "nbformat": 4,
 "nbformat_minor": 2
}
