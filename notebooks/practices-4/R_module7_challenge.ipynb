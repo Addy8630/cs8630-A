{
 "cells": [
  {
   "cell_type": "markdown",
   "metadata": {},
   "source": [
    "# R Exercise - Extra/Challenge\n",
    "\n",
    "You will create map visualizations using ggmap and ggplot2. \n",
    "First let's start with a simple data set; number of visitors to United Stated from 2006 to 2015. \n",
    "\n",
    "Find places to replace the \"`<- YOUR CODE HERE ->`\" to complete the practices."
   ]
  },
  {
   "cell_type": "code",
   "execution_count": null,
   "metadata": {
    "collapsed": true
   },
   "outputs": [],
   "source": [
    "# Load the necessary libraries, \n",
    "# add more libraries and re-run cell as needed\n",
    "\n",
    "\n",
    "\n"
   ]
  },
  {
   "cell_type": "code",
   "execution_count": null,
   "metadata": {
    "collapsed": true
   },
   "outputs": [],
   "source": [
    "# Load built-in Data Sets are you determine are needed\n",
    "\n",
    "\n"
   ]
  },
  {
   "cell_type": "markdown",
   "metadata": {},
   "source": [
    "**Exercise 5:** Let's read the Walmart store opening data, and create a density map out of it. Get a Texas map from Google Maps, then create a density plot and its borders as layers on the map. Finally add store locations as another layer encoded by blue dots. "
   ]
  },
  {
   "cell_type": "code",
   "execution_count": null,
   "metadata": {
    "collapsed": true
   },
   "outputs": [],
   "source": [
    "df <- read.csv('https://raw.githubusercontent.com/plotly/datasets/master/1962_2006_walmart_store_openings.csv')\n",
    "head(df)"
   ]
  },
  {
   "cell_type": "code",
   "execution_count": null,
   "metadata": {
    "collapsed": true
   },
   "outputs": [],
   "source": [
    "# Get the Google Map tile at zoom level 7 for Fort Worth, Texas\n",
    "TX <- suppressMessages(get_map(<- YOUR CODE HERE ->))\n",
    "\n",
    "# Create a map from it, slightly whiten it. \n",
    "TXmap <- ggmap(TX, extent = \"device\", darken = c(.2,\"white\"))\n",
    "\n",
    "# Draw the map first \n",
    "TXmap +\n",
    "\n",
    "# add levels \n",
    "geom_density2d(<- YOUR CODE HERE ->) + \n",
    "\n",
    "# add density heat map\n",
    "stat_density2d(<- YOUR CODE HERE ->, size = 0.01, bins = 16, <- YOUR CODE HERE ->) + \n",
    "\n",
    "# color scale \n",
    "scale_fill_gradient(<- YOUR CODE HERE ->) + \n",
    "\n",
    "scale_alpha(range = c(0.05, 0.2), guide = FALSE) +\n",
    "\n",
    "# add store locations here so that they are on top \n",
    "geom_point(<- YOUR CODE HERE ->) +\n",
    "\n",
    "# remove the legend \n",
    "<- YOUR CODE HERE -> + \n",
    "\n",
    "# add title\n",
    "<- YOUR CODE HERE ->\n"
   ]
  },
  {
   "cell_type": "markdown",
   "metadata": {},
   "source": [
    "**Exercise 6:** Do the same exercise for motor vehicle theft data except the point layer. Plot the densities of all data points for all years on the same map. "
   ]
  },
  {
   "cell_type": "code",
   "execution_count": null,
   "metadata": {
    "collapsed": true
   },
   "outputs": [],
   "source": [
    "df <-read.csv(\"/dsa/data/all_datasets/mvt.csv\")\n",
    "head(df)\n",
    "\n",
    "# Get the Google Map tile at zoom level 11 for Chicago\n",
    "\n",
    "#<- YOUR CODE HERE ->\n"
   ]
  },
  {
   "cell_type": "markdown",
   "metadata": {},
   "source": [
    "**Exercise 7:** Repeat exercise 6 for small multiples of years. "
   ]
  },
  {
   "cell_type": "code",
   "execution_count": null,
   "metadata": {
    "collapsed": true
   },
   "outputs": [],
   "source": [
    "#<- YOUR CODE HERE ->\n"
   ]
  },
  {
   "cell_type": "markdown",
   "metadata": {},
   "source": [
    "# Save your notebook, then File > Close and Halt"
   ]
  }
 ],
 "metadata": {
  "kernelspec": {
   "display_name": "R",
   "language": "R",
   "name": "ir"
  },
  "language_info": {
   "codemirror_mode": "r",
   "file_extension": ".r",
   "mimetype": "text/x-r-source",
   "name": "R",
   "pygments_lexer": "r",
   "version": "3.4.0"
  }
 },
 "nbformat": 4,
 "nbformat_minor": 2
}
