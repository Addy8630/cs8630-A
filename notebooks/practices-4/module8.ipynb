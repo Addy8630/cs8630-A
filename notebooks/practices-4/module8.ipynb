{
 "cells": [
  {
   "cell_type": "markdown",
   "metadata": {},
   "source": [
    "# Network Visualization\n",
    "\n",
    "We will create plots with that are useful for network visualization.\n",
    "\n",
    "Ignore warning messages about packages that have updates."
   ]
  },
  {
   "cell_type": "code",
   "execution_count": null,
   "metadata": {
    "scrolled": false
   },
   "outputs": [],
   "source": [
    "library(network)\n",
    "library(statnet)\n",
    "\n",
    "########\n",
    "## Other Libraries with Utility for network analysis\n",
    "########\n",
    "#library(tnet)\n",
    "#library(igraph)\n",
    "#library(lsa)\n",
    "#library(RODBC)\n",
    "#library(ggplot2)\n",
    "#library(blockmodeling)\n",
    "#igraph.par(\"print.vertex.attributes\", TRUE)\n",
    "#igraph.par(\"print.edge.attributes\", TRUE)\n",
    "\n",
    "graphSetArray <- c()\n",
    "graphPrefixArray <- c()\n",
    "inDegArray <- c()\n",
    "outDegArray <- c()\n",
    "betweennessArray <- c()\n",
    "labelArray <- c()\n",
    "nodeArray <- c()\n",
    "\n",
    "####################################################################\n",
    "# Read the Data in\n",
    "####################################################################\n",
    "\n",
    "gitLists <- system(\"ls /dsa/data/all_datasets/netdata/project*edgelist.csv\",intern=T)\n",
    "\n"
   ]
  },
  {
   "cell_type": "markdown",
   "metadata": {},
   "source": [
    "**Activity 1: ** Generate visualizations as prescribe below.\n",
    "\n",
    "**Note:** The code below is producing PDF files within an `output` folder under `practices` for this module. \n",
    "You will need to navigate to the folder from your JupyterHub home screen (folder view)."
   ]
  },
  {
   "cell_type": "code",
   "execution_count": null,
   "metadata": {},
   "outputs": [],
   "source": [
    "## Review the code carefully ---\n",
    "\n",
    "for (i in 1:length(gitLists))\n",
    "{\n",
    "\tfilename <- gitLists[i]\n",
    "    newfile <- paste(\"output-\",i)\n",
    "\tel <- read.csv(filename, header=TRUE, row.names=NULL)\n",
    "\tdisAll=network(el,matrix.type=\"edgelist\")\n",
    "  \n",
    "  \tcentered <- centralization(disAll, degree, normalize)\n",
    "\t\n",
    "\tideg <- degree(disAll, cmode=\"indegree\")\n",
    "\todeg <- degree(disAll, cmode=\"outdegree\")\n",
    "\t\n",
    "\tset.vertex.attribute(disAll, \"indegree\", degree(disAll, cmode=\"indegree\"))\n",
    "\tset.vertex.attribute(disAll, \"outdegree\", degree(disAll, cmode=\"outdegree\"))\n",
    "\n",
    "\tviz1=paste(\"output/\",newfile,\"viz1\",i,\".png\")\n",
    "\tpng(viz1)\n",
    "\tplot(disAll, displayisolates = FALSE, vertex.col=\"blue\", edge.len=(1/n$mel.dist)) \n",
    "\tdev.off()\n",
    "\n",
    "\tviz2=paste(\"output/\",newfile,\"viz2\",i,\".png\")\n",
    "\tpng(viz2)\n",
    "\tgplot(disAll,vertex.cex=(ideg+odeg)^0.5/2, vertex.sides=50, label.cex=0.8, vertex.col=rgb(odeg/max(odeg), 0, ideg/max(ideg)), label=network.vertex.names(disAll), displayisolates=FALSE,  boxed.labels=FALSE)\n",
    "\tgplot(disAll,vertex.cex=(ideg+odeg)^0.2/2, vertex.sides=50, label.cex=0.8, \tvertex.col=rgb(odeg/max(odeg), 0, ideg/max(ideg)),  displayisolates=FALSE)\n",
    "\tdev.off()\n",
    "\n",
    "\tviz3=paste(\"output/\",newfile,\"viz3\",i,\".png\")\n",
    "\tpng(viz3)\n",
    "\thist(ideg, xlab=\"Indegree\", main=\"Indegree Distribution\", prob=TRUE)\n",
    "\thist(odeg, xlab=\"Outdegree\", main=\"Outdegree Distribution\", prob=TRUE)\n",
    "\thist(odeg+ideg, xlab=\"Total degree\", main=\"Total degree Distribution\", prob=TRUE)\n",
    "\tplot(ideg, odeg, type=\"n\", xlab=\"incoming\", ylab=\"outgoing\")\n",
    "\tabline(0,1, lty=3)\n",
    "\ttext(jitter(ideg), jitter(odeg), network.vertex.names(disAll), cex=0.75, col=2)\n",
    "\tdev.off()\n",
    "  \n",
    "  viz4=paste(\"output/\", newfile, \"nameline\", i, \".png\")\n",
    "  png(viz4)\n",
    "\tplot(ideg, odeg, type=\"n\", xlab=\"incoming\", ylab=\"outgoing\", main=centered)\n",
    "\tabline(0,1, lty=3)\n",
    "\ttext(jitter(ideg), jitter(odeg), network.vertex.names(disAll), cex=2.0, col=1)\n",
    "  dev.off()\n",
    "}\n",
    "\n"
   ]
  },
  {
   "cell_type": "markdown",
   "metadata": {},
   "source": [
    "**Activity 2: ** \n",
    "1. Describe what you see in each of the files.  How are they related? What do they tell you about the social networks on these projects? \n",
    "2. Change the file names and jitter."
   ]
  },
  {
   "cell_type": "raw",
   "metadata": {},
   "source": [
    "# Open up your output and examine it by going to \n",
    "# the directory under exercises called \"output\". \n",
    "#       Write your answer below this comment\n",
    "# -----------------------------------------------\n",
    "\n",
    "\n",
    "\n",
    "\n",
    "\n",
    "\n"
   ]
  },
  {
   "cell_type": "markdown",
   "metadata": {},
   "source": [
    "**Activity 3: ** Produce similar visualizations with iGraph."
   ]
  },
  {
   "cell_type": "code",
   "execution_count": null,
   "metadata": {
    "collapsed": true
   },
   "outputs": [],
   "source": [
    "# Add your code below this comment\n",
    "# --------------------------------\n",
    "\n",
    "\n",
    "\n",
    "\n"
   ]
  },
  {
   "cell_type": "markdown",
   "metadata": {},
   "source": [
    "# SAVE YOUR NOTEBOOK"
   ]
  }
 ],
 "metadata": {
  "kernelspec": {
   "display_name": "R",
   "language": "R",
   "name": "ir"
  },
  "language_info": {
   "codemirror_mode": "r",
   "file_extension": ".r",
   "mimetype": "text/x-r-source",
   "name": "R",
   "pygments_lexer": "r",
   "version": "3.4.0"
  }
 },
 "nbformat": 4,
 "nbformat_minor": 2
}
